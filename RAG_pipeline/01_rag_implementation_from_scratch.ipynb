{
 "cells": [
  {
   "cell_type": "code",
   "execution_count": 1,
   "id": "f0a64d9e",
   "metadata": {},
   "outputs": [
    {
     "name": "stdout",
     "output_type": "stream",
     "text": [
      "all ok\n"
     ]
    }
   ],
   "source": [
    "print(\"all ok\")"
   ]
  },
  {
   "cell_type": "code",
   "execution_count": 2,
   "id": "49d62689",
   "metadata": {},
   "outputs": [],
   "source": [
    "corpus_of_documents = [\n",
    "    \"Take a leisurely walk in the park and enjoy the fresh air.\",\n",
    "    \"Visit a local museum and discover something new.\",\n",
    "    \"Attend a live music concert and feel the rhythm.\",\n",
    "    \"Go for a hike and admire the natural scenery.\",\n",
    "    \"Have a picnic with friends and share some laughs.\",\n",
    "    \"Explore a new cuisine by dining at an ethnic restaurant.\",\n",
    "    \"Take a yoga class and stretch your body and mind.\",\n",
    "    \"Join a local sports league and enjoy some friendly competition.\",\n",
    "    \"Attend a workshop or lecture on a topic you're interested in.\",\n",
    "    \"Visit an amusement park and ride the roller coasters.\"\n",
    "]"
   ]
  },
  {
   "cell_type": "code",
   "execution_count": 3,
   "id": "79108739",
   "metadata": {},
   "outputs": [
    {
     "data": {
      "text/plain": [
       "['Take a leisurely walk in the park and enjoy the fresh air.',\n",
       " 'Visit a local museum and discover something new.',\n",
       " 'Attend a live music concert and feel the rhythm.',\n",
       " 'Go for a hike and admire the natural scenery.',\n",
       " 'Have a picnic with friends and share some laughs.',\n",
       " 'Explore a new cuisine by dining at an ethnic restaurant.',\n",
       " 'Take a yoga class and stretch your body and mind.',\n",
       " 'Join a local sports league and enjoy some friendly competition.',\n",
       " \"Attend a workshop or lecture on a topic you're interested in.\",\n",
       " 'Visit an amusement park and ride the roller coasters.']"
      ]
     },
     "execution_count": 3,
     "metadata": {},
     "output_type": "execute_result"
    }
   ],
   "source": [
    "corpus_of_documents"
   ]
  },
  {
   "cell_type": "code",
   "execution_count": 4,
   "id": "4f0b9db9",
   "metadata": {},
   "outputs": [],
   "source": [
    "user_query=\"I am an Indian and I am living in India\""
   ]
  },
  {
   "cell_type": "code",
   "execution_count": 5,
   "id": "34a4699f",
   "metadata": {},
   "outputs": [],
   "source": [
    "documents=\"India is a country where Indians and other people can live\""
   ]
  },
  {
   "cell_type": "code",
   "execution_count": 6,
   "id": "7e4f0c90",
   "metadata": {},
   "outputs": [],
   "source": [
    "from collections import Counter\n",
    "import math"
   ]
  },
  {
   "cell_type": "code",
   "execution_count": 7,
   "id": "5c90ed43",
   "metadata": {},
   "outputs": [],
   "source": [
    "user_query_token=user_query.lower().split(\" \")"
   ]
  },
  {
   "cell_type": "code",
   "execution_count": 8,
   "id": "7b1c6bf8",
   "metadata": {},
   "outputs": [
    {
     "data": {
      "text/plain": [
       "['i', 'am', 'an', 'indian', 'and', 'i', 'am', 'living', 'in', 'india']"
      ]
     },
     "execution_count": 8,
     "metadata": {},
     "output_type": "execute_result"
    }
   ],
   "source": [
    "user_query_token"
   ]
  },
  {
   "cell_type": "code",
   "execution_count": 9,
   "id": "1efd856f",
   "metadata": {},
   "outputs": [],
   "source": [
    "documents_token=documents.lower().split(\" \")"
   ]
  },
  {
   "cell_type": "code",
   "execution_count": 10,
   "id": "2dfa836f",
   "metadata": {},
   "outputs": [
    {
     "data": {
      "text/plain": [
       "['india',\n",
       " 'is',\n",
       " 'a',\n",
       " 'country',\n",
       " 'where',\n",
       " 'indians',\n",
       " 'and',\n",
       " 'other',\n",
       " 'people',\n",
       " 'can',\n",
       " 'live']"
      ]
     },
     "execution_count": 10,
     "metadata": {},
     "output_type": "execute_result"
    }
   ],
   "source": [
    "documents_token"
   ]
  },
  {
   "cell_type": "code",
   "execution_count": 11,
   "id": "3b95b207",
   "metadata": {},
   "outputs": [],
   "source": [
    "query_counter=Counter(user_query_token)"
   ]
  },
  {
   "cell_type": "code",
   "execution_count": 12,
   "id": "1951cd37",
   "metadata": {},
   "outputs": [
    {
     "data": {
      "text/plain": [
       "Counter({'i': 2,\n",
       "         'am': 2,\n",
       "         'an': 1,\n",
       "         'indian': 1,\n",
       "         'and': 1,\n",
       "         'living': 1,\n",
       "         'in': 1,\n",
       "         'india': 1})"
      ]
     },
     "execution_count": 12,
     "metadata": {},
     "output_type": "execute_result"
    }
   ],
   "source": [
    "query_counter"
   ]
  },
  {
   "cell_type": "code",
   "execution_count": 13,
   "id": "557ed30a",
   "metadata": {},
   "outputs": [
    {
     "data": {
      "text/plain": [
       "Counter({'india': 1,\n",
       "         'is': 1,\n",
       "         'a': 1,\n",
       "         'country': 1,\n",
       "         'where': 1,\n",
       "         'indians': 1,\n",
       "         'and': 1,\n",
       "         'other': 1,\n",
       "         'people': 1,\n",
       "         'can': 1,\n",
       "         'live': 1})"
      ]
     },
     "execution_count": 13,
     "metadata": {},
     "output_type": "execute_result"
    }
   ],
   "source": [
    "document_counter=Counter(documents_token)\n",
    "document_counter"
   ]
  },
  {
   "cell_type": "code",
   "execution_count": 14,
   "id": "4e7d8e33",
   "metadata": {},
   "outputs": [],
   "source": [
    "lst=[]\n",
    "for i in query_counter.values():\n",
    "    lst.append(i)"
   ]
  },
  {
   "cell_type": "code",
   "execution_count": 15,
   "id": "541b79ca",
   "metadata": {},
   "outputs": [
    {
     "data": {
      "text/plain": [
       "[2, 2, 1, 1, 1, 1, 1, 1]"
      ]
     },
     "execution_count": 15,
     "metadata": {},
     "output_type": "execute_result"
    }
   ],
   "source": [
    "## senterce vector\n",
    "lst"
   ]
  },
  {
   "cell_type": "code",
   "execution_count": 16,
   "id": "3fe0ecbe",
   "metadata": {},
   "outputs": [
    {
     "name": "stdout",
     "output_type": "stream",
     "text": [
      "and\n",
      "india\n"
     ]
    }
   ],
   "source": [
    "mylist=[]\n",
    "for token in query_counter.keys() & document_counter.keys():\n",
    "    print(token)"
   ]
  },
  {
   "cell_type": "code",
   "execution_count": 17,
   "id": "60ab55d1",
   "metadata": {},
   "outputs": [],
   "source": [
    "mylist=[]\n",
    "for token in query_counter.keys() & document_counter.keys():\n",
    "    mylist.append(query_counter[token] * document_counter[token])"
   ]
  },
  {
   "cell_type": "code",
   "execution_count": 18,
   "id": "af752104",
   "metadata": {},
   "outputs": [
    {
     "data": {
      "text/plain": [
       "[1, 1]"
      ]
     },
     "execution_count": 18,
     "metadata": {},
     "output_type": "execute_result"
    }
   ],
   "source": [
    "mylist"
   ]
  },
  {
   "cell_type": "code",
   "execution_count": 19,
   "id": "1c8d94c8",
   "metadata": {},
   "outputs": [],
   "source": [
    "dot_product=sum(mylist)"
   ]
  },
  {
   "cell_type": "code",
   "execution_count": 20,
   "id": "343cce5c",
   "metadata": {},
   "outputs": [
    {
     "data": {
      "text/plain": [
       "4.69041575982343"
      ]
     },
     "execution_count": 20,
     "metadata": {},
     "output_type": "execute_result"
    }
   ],
   "source": [
    "query_magnitude=math.sqrt(sum(query_counter[token] **2 for token in user_query_token))\n",
    "query_magnitude"
   ]
  },
  {
   "cell_type": "code",
   "execution_count": 21,
   "id": "4a549db1",
   "metadata": {},
   "outputs": [
    {
     "data": {
      "text/plain": [
       "3.3166247903554"
      ]
     },
     "execution_count": 21,
     "metadata": {},
     "output_type": "execute_result"
    }
   ],
   "source": [
    "document_magnitude=math.sqrt(sum(document_counter[token] ** 2 for token in documents_token))\n",
    "document_magnitude"
   ]
  },
  {
   "cell_type": "code",
   "execution_count": 22,
   "id": "4edaff23",
   "metadata": {},
   "outputs": [
    {
     "data": {
      "text/plain": [
       "0.12856486930664499"
      ]
     },
     "execution_count": 22,
     "metadata": {},
     "output_type": "execute_result"
    }
   ],
   "source": [
    "similarity=dot_product/(query_magnitude * document_magnitude)\n",
    "similarity"
   ]
  },
  {
   "cell_type": "code",
   "execution_count": 23,
   "id": "44703165",
   "metadata": {},
   "outputs": [],
   "source": [
    "def cosine_similarity(query,documents):\n",
    "    ########spliting text#########\n",
    "    query_token=query.lower().split()\n",
    "    documents_token=documents.lower().split()\n",
    "\n",
    "    ###### token counter##########\n",
    "    query_count=Counter(query_token)\n",
    "    document_count=Counter(documents_token)\n",
    "\n",
    "    ########calculating dot product######\n",
    "    common_list=[]\n",
    "    for token in query_count.keys() & document_count.keys():\n",
    "        common_list.append(query_count[token] * document_count[token])\n",
    "    dot_product=sum(common_list)\n",
    "\n",
    "    #######calculating magnitude#########\n",
    "    query_magnitude=math.sqrt(sum(query_count[token] **2 for token in query_count.keys()))\n",
    "    document_magnitude=math.sqrt(sum(document_count[token] **2 for token in document_count.keys()))\n",
    "\n",
    "    ####### similarity score###########\n",
    "    similarity_score=dot_product/(query_magnitude * document_magnitude) if query_magnitude * document_magnitude !=0 else 0\n",
    "\n",
    "    return similarity_score\n",
    "\n"
   ]
  },
  {
   "cell_type": "code",
   "execution_count": 24,
   "id": "b5f22c98",
   "metadata": {},
   "outputs": [
    {
     "data": {
      "text/plain": [
       "0.16116459280507606"
      ]
     },
     "execution_count": 24,
     "metadata": {},
     "output_type": "execute_result"
    }
   ],
   "source": [
    "similarity=cosine_similarity(user_query,documents)\n",
    "similarity"
   ]
  },
  {
   "cell_type": "code",
   "execution_count": 25,
   "id": "ceb7b54b",
   "metadata": {},
   "outputs": [
    {
     "data": {
      "text/plain": [
       "0.7302967433402214"
      ]
     },
     "execution_count": 25,
     "metadata": {},
     "output_type": "execute_result"
    }
   ],
   "source": [
    "query=\"Is yoga good for health\"\n",
    "document=\"Yoga is good for healthy living\"\n",
    "similarity=cosine_similarity(query,document)\n",
    "similarity"
   ]
  },
  {
   "cell_type": "code",
   "execution_count": 26,
   "id": "839fc8b0",
   "metadata": {},
   "outputs": [],
   "source": [
    "def return_response(query,corpus):\n",
    "    similarities=[]\n",
    "    for doc in corpus:\n",
    "        similarity_score=cosine_similarity(query,doc)\n",
    "        similarities.append(similarity_score)\n",
    "\n",
    "    return corpus[similarities.index(max(similarities))]"
   ]
  },
  {
   "cell_type": "code",
   "execution_count": 27,
   "id": "480326ae",
   "metadata": {},
   "outputs": [
    {
     "data": {
      "text/plain": [
       "['Take a leisurely walk in the park and enjoy the fresh air.',\n",
       " 'Visit a local museum and discover something new.',\n",
       " 'Attend a live music concert and feel the rhythm.',\n",
       " 'Go for a hike and admire the natural scenery.',\n",
       " 'Have a picnic with friends and share some laughs.',\n",
       " 'Explore a new cuisine by dining at an ethnic restaurant.',\n",
       " 'Take a yoga class and stretch your body and mind.',\n",
       " 'Join a local sports league and enjoy some friendly competition.',\n",
       " \"Attend a workshop or lecture on a topic you're interested in.\",\n",
       " 'Visit an amusement park and ride the roller coasters.']"
      ]
     },
     "execution_count": 27,
     "metadata": {},
     "output_type": "execute_result"
    }
   ],
   "source": [
    "corpus_of_documents"
   ]
  },
  {
   "cell_type": "code",
   "execution_count": 28,
   "id": "74e6bb24",
   "metadata": {},
   "outputs": [
    {
     "data": {
      "text/plain": [
       "'Have a picnic with friends and share some laughs.'"
      ]
     },
     "execution_count": 28,
     "metadata": {},
     "output_type": "execute_result"
    }
   ],
   "source": [
    "query=\"I love to go with my friends\"\n",
    "similar_sentence=return_response(query,corpus_of_documents)\n",
    "similar_sentence"
   ]
  },
  {
   "cell_type": "code",
   "execution_count": 29,
   "id": "e9f50447",
   "metadata": {},
   "outputs": [
    {
     "data": {
      "text/plain": [
       "'Take a yoga class and stretch your body and mind.'"
      ]
     },
     "execution_count": 29,
     "metadata": {},
     "output_type": "execute_result"
    }
   ],
   "source": [
    "query=\"I love to do yoga\"\n",
    "similar_sentence=return_response(query,corpus_of_documents)\n",
    "similar_sentence"
   ]
  },
  {
   "cell_type": "code",
   "execution_count": 30,
   "id": "a208070a",
   "metadata": {},
   "outputs": [],
   "source": [
    "import requests\n",
    "import json\n"
   ]
  },
  {
   "cell_type": "code",
   "execution_count": 31,
   "id": "271d0636",
   "metadata": {},
   "outputs": [],
   "source": [
    "def ollama_llm_call(user_input,similar_response):\n",
    "    final_response=[]\n",
    "\n",
    "    prompt=\"\"\"You are an assistant. your job is to provide a short response on user query do not make long\n",
    "    response with new information. You will be provided the recomended text context based on provided\n",
    "    context generate your response.\n",
    "    provided recomended context: {similar_response}.\n",
    "    user query: {user_input}\n",
    "\n",
    "    Compile a recommendation to the user based on the recommended activity and the user input.\"\"\"\n",
    "\n",
    "    url='http://localhost:11434/api/generate'\n",
    "    data={\n",
    "        \"model\":\"llama2\",\n",
    "        \"prompt\": prompt.format(similar_response=similar_response,user_input=user_input)\n",
    "    }\n",
    "    headers={'Content-Type': 'application/json'}\n",
    "\n",
    "    response=requests.post(url,data=json.dumps(data),headers=headers,stream=True)\n",
    "\n",
    "    try:\n",
    "        for line in response.iter_lines():\n",
    "            if line:\n",
    "                decoded_line=json.loads(line.decode('utf-8'))\n",
    "                final_response.append(decoded_line['response'])\n",
    "    finally:\n",
    "        response.close()\n",
    "    return final_response"
   ]
  },
  {
   "cell_type": "code",
   "execution_count": null,
   "id": "7a98b851",
   "metadata": {},
   "outputs": [],
   "source": [
    "response=ollama_llm_call(user_query,similar_sentence)\n",
    "response"
   ]
  },
  {
   "cell_type": "code",
   "execution_count": null,
   "id": "9816eed7",
   "metadata": {},
   "outputs": [],
   "source": []
  }
 ],
 "metadata": {
  "kernelspec": {
   "display_name": "genai_venv",
   "language": "python",
   "name": "python3"
  },
  "language_info": {
   "codemirror_mode": {
    "name": "ipython",
    "version": 3
   },
   "file_extension": ".py",
   "mimetype": "text/x-python",
   "name": "python",
   "nbconvert_exporter": "python",
   "pygments_lexer": "ipython3",
   "version": "3.11.13"
  }
 },
 "nbformat": 4,
 "nbformat_minor": 5
}
