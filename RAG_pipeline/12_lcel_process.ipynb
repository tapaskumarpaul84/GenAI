{
 "cells": [
  {
   "cell_type": "code",
   "execution_count": 1,
   "id": "a40f3133",
   "metadata": {},
   "outputs": [
    {
     "name": "stdout",
     "output_type": "stream",
     "text": [
      "all ok\n"
     ]
    }
   ],
   "source": [
    "print(\"all ok\")"
   ]
  },
  {
   "cell_type": "code",
   "execution_count": 2,
   "id": "3f1d86f0",
   "metadata": {},
   "outputs": [],
   "source": [
    "import os\n",
    "from dotenv import load_dotenv\n",
    "load_dotenv()\n",
    "os.environ[\"GOOGLE_API_KEY\"]=os.getenv(\"GOOGLE_API_KEY\")\n",
    "os.environ[\"OPENAI_API_KEY\"]=os.getenv(\"OPENAI_API_KEY\")\n",
    "os.environ[\"LANGSMITH_TRACING\"]=os.getenv(\"LANGSMITH_TRACING\")\n",
    "os.environ[\"LANGSMITH_ENDPOINT\"]=os.getenv(\"LANGSMITH_ENDPOINT\")\n",
    "os.environ[\"LANGSMITH_API_KEY\"]=os.getenv(\"LANGSMITH_API_KEY\")\n",
    "os.environ[\"LANGSMITH_PROJECT\"]=os.getenv(\"LANGSMITH_PROJECT\")\n",
    "os.environ[\"QROQ_API_KEY\"]= os.getenv(\"QROQ_API_KEY\")\n",
    "os.environ[\"HF_API_TOKEN\"]=os.getenv(\"HF_API_TOKEN\")"
   ]
  },
  {
   "cell_type": "code",
   "execution_count": 3,
   "id": "7299fd70",
   "metadata": {},
   "outputs": [],
   "source": [
    "import warnings\n",
    "warnings.filterwarnings('ignore')"
   ]
  },
  {
   "cell_type": "code",
   "execution_count": 4,
   "id": "940aa591",
   "metadata": {},
   "outputs": [],
   "source": [
    "from langchain_huggingface import HuggingFaceEmbeddings\n",
    "embedding_model=HuggingFaceEmbeddings(model_name='sentence-transformers/all-mpnet-base-v2')"
   ]
  },
  {
   "cell_type": "code",
   "execution_count": 5,
   "id": "5cda4b8a",
   "metadata": {},
   "outputs": [
    {
     "data": {
      "text/plain": [
       "768"
      ]
     },
     "execution_count": 5,
     "metadata": {},
     "output_type": "execute_result"
    }
   ],
   "source": [
    "len(embedding_model.embed_query(\"Hello how are you\"))"
   ]
  },
  {
   "cell_type": "code",
   "execution_count": 6,
   "id": "2843e887",
   "metadata": {},
   "outputs": [
    {
     "data": {
      "text/plain": [
       "1536"
      ]
     },
     "execution_count": 6,
     "metadata": {},
     "output_type": "execute_result"
    }
   ],
   "source": [
    "from langchain_openai.embeddings import OpenAIEmbeddings\n",
    "\n",
    "openai_embedding=OpenAIEmbeddings( model = \"text-embedding-ada-002\")\n",
    "len(openai_embedding.embed_query(\"Hello how are you\"))"
   ]
  },
  {
   "cell_type": "code",
   "execution_count": 17,
   "id": "9a2e76aa",
   "metadata": {},
   "outputs": [],
   "source": [
    "from langchain.prompts import PromptTemplate"
   ]
  },
  {
   "cell_type": "code",
   "execution_count": 7,
   "id": "0ffd4fe2",
   "metadata": {},
   "outputs": [],
   "source": [
    "from langchain_google_genai import ChatGoogleGenerativeAI\n",
    "\n",
    "llm=ChatGoogleGenerativeAI(model='gemini-2.5-flash')"
   ]
  },
  {
   "cell_type": "code",
   "execution_count": 15,
   "id": "aec76b00",
   "metadata": {},
   "outputs": [],
   "source": [
    "template=\"Hi , I am learning {skill} . can you suggest me top 5 things I should learn?\""
   ]
  },
  {
   "cell_type": "code",
   "execution_count": 16,
   "id": "efdce429",
   "metadata": {},
   "outputs": [],
   "source": [
    "prompt=PromptTemplate(template=template,input_variables=['skill'])"
   ]
  },
  {
   "cell_type": "markdown",
   "id": "4a3302f9",
   "metadata": {},
   "source": [
    "### LCEL Chain concept"
   ]
  },
  {
   "cell_type": "code",
   "execution_count": 8,
   "id": "903efb85",
   "metadata": {},
   "outputs": [],
   "source": [
    "template=\"Hi , I am learning {skill} . can you suggest me top 5 things I should learn?\""
   ]
  },
  {
   "cell_type": "code",
   "execution_count": 9,
   "id": "d6c8100e",
   "metadata": {},
   "outputs": [],
   "source": [
    "from langchain.prompts import PromptTemplate"
   ]
  },
  {
   "cell_type": "code",
   "execution_count": 10,
   "id": "46a97ca9",
   "metadata": {},
   "outputs": [],
   "source": [
    "prompt=PromptTemplate(template=template,input_variables=['skill'])"
   ]
  },
  {
   "cell_type": "code",
   "execution_count": 11,
   "id": "7f00dba2",
   "metadata": {},
   "outputs": [],
   "source": [
    "chain=prompt | llm"
   ]
  },
  {
   "cell_type": "code",
   "execution_count": 12,
   "id": "f18ebbff",
   "metadata": {},
   "outputs": [
    {
     "data": {
      "text/plain": [
       "AIMessage(content=\"That's a great question! Data science is a vast field, but there are definitely core pillars that will give you a strong foundation. For someone starting out, here are my top 5 suggestions:\\n\\n---\\n\\n### Top 5 Things to Learn for Data Science Beginners:\\n\\n1.  **Programming (Primarily Python or R, with a strong lean towards Python)**\\n    *   **Why it's crucial:** This is your primary tool for manipulating data, building models, and automating tasks. Python is widely adopted in the industry due to its versatility, extensive libraries, and ease of learning. R is also excellent, especially for statistical analysis and visualization.\\n    *   **What to focus on:**\\n        *   **Python Fundamentals:** Variables, data types, control structures (if/else, loops), functions, object-oriented programming basics.\\n        *   **Key Libraries:**\\n            *   **Pandas:** For data manipulation and analysis (e.g., reading files, cleaning data, merging dataframes, aggregation). This is absolutely essential.\\n            *   **NumPy:** For numerical computing, especially with arrays (often used under the hood by Pandas).\\n            *   **Matplotlib & Seaborn:** For data visualization.\\n        *   **IDE/Environment:** Learn to use Jupyter Notebooks (or JupyterLab) for interactive data exploration and VS Code for larger projects.\\n\\n2.  **SQL (Structured Query Language)**\\n    *   **Why it's crucial:** Most real-world data lives in databases. SQL is the standard language for extracting, managing, and manipulating data stored in relational databases. You can't do data science if you can't get the data.\\n    *   **What to focus on:**\\n        *   **Basic Queries:** `SELECT`, `FROM`, `WHERE`, `ORDER BY`, `LIMIT`.\\n        *   **Filtering & Aggregation:** `GROUP BY`, `HAVING`, aggregate functions (`COUNT`, `SUM`, `AVG`, `MIN`, `MAX`).\\n        *   **Joining Tables:** `INNER JOIN`, `LEFT JOIN`, `RIGHT JOIN`, `FULL OUTER JOIN`.\\n        *   **Subqueries and CTEs (Common Table Expressions):** For more complex data retrieval.\\n\\n3.  **Statistics and Probability**\\n    *   **Why it's crucial:** Data science is fundamentally about making sense of data, and statistics provides the mathematical framework for doing so. Without it, you're just running algorithms blindly. It helps you understand data distributions, interpret results, and design experiments.\\n    *   **What to focus on:**\\n        *   **Descriptive Statistics:** Mean, median, mode, variance, standard deviation, quartiles, percentiles.\\n        *   **Probability:** Basic probability rules, conditional probability, Bayes' theorem.\\n        *   **Probability Distributions:** Normal distribution, binomial distribution, Poisson distribution.\\n        *   **Inferential Statistics:** Hypothesis testing (t-tests, chi-squared tests), confidence intervals, p-values.\\n        *   **Correlation & Regression:** Understanding relationships between variables.\\n\\n4.  **Data Cleaning, Preprocessing, and Exploration (EDA)**\\n    *   **Why it's crucial:** Real-world data is messy. You'll spend a significant portion of your time (often 60-80%) cleaning and preparing data before you can even think about modeling. Exploratory Data Analysis (EDA) helps you understand the data's characteristics, identify patterns, and uncover issues.\\n    *   **What to focus on:**\\n        *   **Handling Missing Values:** Imputation techniques, deletion.\\n        *   **Dealing with Outliers:** Identification and treatment.\\n        *   **Data Transformation:** Normalization, standardization, log transformations.\\n        *   **Feature Engineering:** Creating new features from existing ones to improve model performance.\\n        *   **Encoding Categorical Variables:** One-hot encoding, label encoding.\\n        *   **Basic Visualization for EDA:** Histograms, scatter plots, box plots, bar charts (using Matplotlib/Seaborn).\\n\\n5.  **Machine Learning Fundamentals**\\n    *   **Why it's crucial:** This is where you learn to build predictive models and extract insights from data automatically. Understanding the core concepts and common algorithms is central to data science.\\n    *   **What to focus on:**\\n        *   **Types of ML:** Supervised learning (regression, classification), Unsupervised learning (clustering, dimensionality reduction).\\n        *   **Key Algorithms (understand the basic idea, when to use them, and how to interpret results):**\\n            *   **Regression:** Linear Regression, Logistic Regression (despite the name, it's for classification).\\n            *   **Classification:** Decision Trees, Random Forests, Support Vector Machines (SVMs), K-Nearest Neighbors (KNN).\\n            *   **Clustering:** K-Means.\\n        *   **Model Evaluation:** Metrics like accuracy, precision, recall, F1-score, ROC curves for classification; MSE, RMSE, R-squared for regression.\\n        *   **Overfitting & Underfitting:** Concepts and basic strategies to mitigate them (e.g., cross-validation).\\n        *   **Using Scikit-learn:** The primary Python library for implementing most ML algorithms.\\n\\n---\\n\\n**Bonus Tip:** As you learn these topics, **work on projects!** Apply what you learn to real datasets (Kaggle is a great resource). Building a portfolio of projects is the best way to solidify your understanding and demonstrate your skills.\\n\\nGood luck on your data science journey!\", additional_kwargs={}, response_metadata={'prompt_feedback': {'block_reason': 0, 'safety_ratings': []}, 'finish_reason': 'STOP', 'model_name': 'gemini-2.5-flash', 'safety_ratings': []}, id='run--63b706a9-130e-4e81-8f44-c433eaf3cb80-0', usage_metadata={'input_tokens': 21, 'output_tokens': 2642, 'total_tokens': 2663, 'input_token_details': {'cache_read': 0}, 'output_token_details': {'reasoning': 1467}})"
      ]
     },
     "execution_count": 12,
     "metadata": {},
     "output_type": "execute_result"
    }
   ],
   "source": [
    "chain.invoke({\"skill\": \"data science\"})"
   ]
  },
  {
   "cell_type": "code",
   "execution_count": 13,
   "id": "f2b3de88",
   "metadata": {},
   "outputs": [],
   "source": [
    "from langchain_core.output_parsers import StrOutputParser\n",
    "parser=StrOutputParser()\n",
    "\n",
    "chain=prompt | llm | parser"
   ]
  },
  {
   "cell_type": "code",
   "execution_count": 14,
   "id": "747e6d22",
   "metadata": {},
   "outputs": [
    {
     "data": {
      "text/plain": [
       "'That\\'s fantastic! Data science is a dynamic and rewarding field. To give you the best foundational and practical skills, here are my top 5 things you should learn:\\n\\n---\\n\\n### Top 5 Things to Learn in Data Science:\\n\\n1.  **Programming (Python/R & SQL)**\\n    *   **Why it\\'s crucial:** These are the languages you\\'ll use to manipulate data, build models, and automate tasks. Python is widely popular for its versatility (data analysis, machine learning, web development) and rich ecosystem of libraries (Pandas, NumPy, Scikit-learn). R is excellent for statistical analysis and visualization. SQL is essential for interacting with databases, which is where most real-world data lives.\\n    *   **Key things to learn:**\\n        *   **Python:** Data structures (lists, dictionaries), control flow, functions, object-oriented programming basics.\\n        *   **Key Libraries (Python):** `Pandas` (data manipulation), `NumPy` (numerical operations), `Matplotlib`/`Seaborn` (visualization), `Scikit-learn` (machine learning).\\n        *   **R:** `dplyr` (data manipulation), `ggplot2` (visualization).\\n        *   **SQL:** `SELECT`, `FROM`, `WHERE`, `GROUP BY`, `JOIN` (inner, left, right), `ORDER BY`. Understanding relational databases.\\n    *   **How to learn:** Online courses (Coursera, DataCamp, Udemy), interactive coding platforms (LeetCode, HackerRank for Python basics), practical projects.\\n\\n2.  **Statistics & Probability**\\n    *   **Why it\\'s crucial:** Data science is deeply rooted in statistics. Understanding statistical concepts allows you to make sense of data, design experiments, test hypotheses, interpret model results, and avoid drawing incorrect conclusions. Probability is the foundation for understanding uncertainty and is key to many machine learning algorithms.\\n    *   **Key things to learn:**\\n        *   **Descriptive Statistics:** Mean, median, mode, variance, standard deviation, quartiles, distributions (normal, skewed).\\n        *   **Inferential Statistics:** Hypothesis testing (t-tests, ANOVA, chi-squared), confidence intervals, p-values, regression.\\n        *   **Probability:** Conditional probability, Bayes\\' theorem, probability distributions (binomial, Poisson, normal).\\n        *   **Experimental Design:** A/B testing, sampling techniques.\\n    *   **How to learn:** Textbooks (e.g., \"Practical Statistics for Data Scientists\"), online courses, university lectures (MIT OpenCourseware, Stanford).\\n\\n3.  **Machine Learning Concepts & Algorithms**\\n    *   **Why it\\'s crucial:** This is often what people think of when they hear \"data science.\" Machine learning enables computers to learn from data without explicit programming, allowing you to build predictive models, classification systems, recommendation engines, and more.\\n    *   **Key things to learn:**\\n        *   **Types of ML:** Supervised learning (regression, classification), Unsupervised learning (clustering, dimensionality reduction), Reinforcement learning (basic understanding).\\n        *   **Core Algorithms:** Linear Regression, Logistic Regression, Decision Trees, Random Forests, Support Vector Machines (SVMs), K-Nearest Neighbors (KNN), K-Means Clustering.\\n        *   **Model Evaluation:** Bias-variance trade-off, overfitting/underfitting, cross-validation, metrics (accuracy, precision, recall, F1-score, AUC-ROC, R-squared, MSE).\\n        *   **Feature Engineering:** Creating new features from existing ones to improve model performance.\\n    *   **How to learn:** Andrew Ng\\'s Machine Learning course (Coursera), \"Hands-On Machine Learning with Scikit-Learn, Keras, and TensorFlow\" by Aurélien Géron, Kaggle competitions.\\n\\n4.  **Data Manipulation, Cleaning, and Preprocessing**\\n    *   **Why it\\'s crucial:** Real-world data is messy – it\\'s often incomplete, inconsistent, and incorrectly formatted. Data scientists spend a significant portion of their time (often 60-80%) on these tasks. Without clean and well-structured data, even the most sophisticated models will perform poorly.\\n    *   **Key things to learn:**\\n        *   **Handling Missing Values:** Imputation techniques (mean, median, mode), deletion.\\n        *   **Data Transformation:** Scaling (standardization, normalization), encoding categorical variables (one-hot encoding, label encoding).\\n        *   **Outlier Detection and Treatment:** Z-score, IQR method.\\n        *   **Data Aggregation and Merging:** Combining datasets, summarizing data.\\n        *   **Text Preprocessing (for NLP):** Tokenization, stemming, lemmatization, stop word removal.\\n    *   **How to learn:** Practice with real-world, dirty datasets (Kaggle has many), focus on `Pandas` in Python or `dplyr` in R, work through data cleaning tutorials.\\n\\n5.  **Data Visualization & Communication**\\n    *   **Why it\\'s crucial:** Finding insights is only half the battle; you need to effectively communicate those insights to stakeholders who may not be technical. Great visualizations can turn complex data into understandable stories, leading to actionable decisions.\\n    *   **Key things to learn:**\\n        *   **Principles of Good Visualization:** Choosing the right chart type (bar, line, scatter, histogram, heatmap), effective use of color, labels, titles, avoiding misleading visuals.\\n        *   **Storytelling with Data:** Structuring a narrative around your findings, identifying key insights, and tailoring your message to your audience.\\n        *   **Tools:**\\n            *   **Programming Libraries:** `Matplotlib`, `Seaborn`, `Plotly` (Python), `ggplot2` (R).\\n            *   **BI Tools (optional but highly recommended):** Tableau, Power BI, Looker Studio (for building interactive dashboards).\\n    *   **How to learn:** Read \"Storytelling with Data\" by Cole Nussbaumer Knaflic, practice creating various charts, analyze good and bad visualizations, build dashboards.\\n\\n---\\n\\n**Bonus Tip: Hands-On Projects!**\\nLearning these concepts in isolation isn\\'t enough. **Apply everything you learn through projects.** Start with small, guided projects, then move to more open-ended ones. This is how you solidify your understanding, build a portfolio, and learn to troubleshoot real-world problems.\\n\\nGood luck on your data science journey! It\\'s a challenging but incredibly rewarding path.'"
      ]
     },
     "execution_count": 14,
     "metadata": {},
     "output_type": "execute_result"
    }
   ],
   "source": [
    "chain.invoke({\"skill\": \"data science\"})"
   ]
  },
  {
   "cell_type": "markdown",
   "id": "802caa6e",
   "metadata": {},
   "source": [
    "### Introduce Runnable methods"
   ]
  },
  {
   "cell_type": "code",
   "execution_count": 20,
   "id": "e48cc0a9",
   "metadata": {},
   "outputs": [],
   "source": [
    "## RunnablePassThrough- pass input at the time of run time\n",
    "\n",
    "from langchain_core.runnables import RunnablePassthrough,RunnableParallel,RunnableLambda"
   ]
  },
  {
   "cell_type": "code",
   "execution_count": 21,
   "id": "97b65487",
   "metadata": {},
   "outputs": [],
   "source": [
    "chain=RunnablePassthrough()"
   ]
  },
  {
   "cell_type": "code",
   "execution_count": 22,
   "id": "9b9bb2cd",
   "metadata": {},
   "outputs": [
    {
     "data": {
      "text/plain": [
       "'Hello Welcome to Kolkata'"
      ]
     },
     "execution_count": 22,
     "metadata": {},
     "output_type": "execute_result"
    }
   ],
   "source": [
    "chain.invoke(\"Hello Welcome to Kolkata\")"
   ]
  },
  {
   "cell_type": "code",
   "execution_count": 23,
   "id": "14fc101d",
   "metadata": {},
   "outputs": [],
   "source": [
    "# RunnableLambda() used to execute any function on the input value\n",
    "\n",
    "def make_upper(text):\n",
    "    return text.upper()"
   ]
  },
  {
   "cell_type": "code",
   "execution_count": 25,
   "id": "459f5f40",
   "metadata": {},
   "outputs": [],
   "source": [
    "chain=RunnablePassthrough() | RunnableLambda(make_upper)"
   ]
  },
  {
   "cell_type": "code",
   "execution_count": 26,
   "id": "4909b7cb",
   "metadata": {},
   "outputs": [
    {
     "data": {
      "text/plain": [
       "'HELLO WELCOME TO KOLKATA'"
      ]
     },
     "execution_count": 26,
     "metadata": {},
     "output_type": "execute_result"
    }
   ],
   "source": [
    "chain.invoke(\"Hello Welcome to Kolkata\")"
   ]
  },
  {
   "cell_type": "code",
   "execution_count": 27,
   "id": "7fb3b2f9",
   "metadata": {},
   "outputs": [],
   "source": [
    "## RunnableParellel() used to execute multiple input in parallel\n",
    "\n",
    "chain= RunnableParallel({'x':RunnablePassthrough(),'y': RunnablePassthrough()})"
   ]
  },
  {
   "cell_type": "code",
   "execution_count": 28,
   "id": "b94432e2",
   "metadata": {},
   "outputs": [
    {
     "data": {
      "text/plain": [
       "{'x': 'Hello Tapas', 'y': 'Hello Tapas'}"
      ]
     },
     "execution_count": 28,
     "metadata": {},
     "output_type": "execute_result"
    }
   ],
   "source": [
    "chain.invoke(\"Hello Tapas\")"
   ]
  },
  {
   "cell_type": "code",
   "execution_count": 29,
   "id": "eab92a2e",
   "metadata": {},
   "outputs": [],
   "source": [
    "chain= RunnableParallel({'x':RunnablePassthrough(),'blog': lambda x: x['blog']})"
   ]
  },
  {
   "cell_type": "code",
   "execution_count": 30,
   "id": "b9d61b27",
   "metadata": {},
   "outputs": [
    {
     "data": {
      "text/plain": [
       "{'x': {'youtube': 'campasx', 'blog': 'campasx\"s blog'},\n",
       " 'blog': 'campasx\"s blog'}"
      ]
     },
     "execution_count": 30,
     "metadata": {},
     "output_type": "execute_result"
    }
   ],
   "source": [
    "chain.invoke({'youtube':'campasx','blog':'campasx\"s blog'})"
   ]
  },
  {
   "cell_type": "code",
   "execution_count": 31,
   "id": "84f994bc",
   "metadata": {},
   "outputs": [],
   "source": [
    "def fetch_website(text:dict):\n",
    "    output=text.get('website','Not Found')\n",
    "    return output"
   ]
  },
  {
   "cell_type": "code",
   "execution_count": 32,
   "id": "83ec7aa0",
   "metadata": {},
   "outputs": [],
   "source": [
    "chain=RunnableParallel({'website': RunnablePassthrough() | RunnableLambda(fetch_website),\n",
    "                        'blog':lambda z:z['blog']})"
   ]
  },
  {
   "cell_type": "code",
   "execution_count": 33,
   "id": "7662b74b",
   "metadata": {},
   "outputs": [
    {
     "data": {
      "text/plain": [
       "{'website': 'Not Found', 'blog': 'campasx\"s blog'}"
      ]
     },
     "execution_count": 33,
     "metadata": {},
     "output_type": "execute_result"
    }
   ],
   "source": [
    "chain.invoke({'youtube':'campasx','blog':'campasx\"s blog'})"
   ]
  },
  {
   "cell_type": "code",
   "execution_count": 34,
   "id": "c0823f5b",
   "metadata": {},
   "outputs": [
    {
     "data": {
      "text/plain": [
       "{'website': 'campasx.com', 'blog': 'campasx\"s blog'}"
      ]
     },
     "execution_count": 34,
     "metadata": {},
     "output_type": "execute_result"
    }
   ],
   "source": [
    "chain.invoke({'youtube':'campasx','blog':'campasx\"s blog','website':'campasx.com'})"
   ]
  },
  {
   "cell_type": "code",
   "execution_count": 38,
   "id": "63adefd3",
   "metadata": {},
   "outputs": [],
   "source": [
    "def add_extra(input):\n",
    "    return 'Happy Learning'"
   ]
  },
  {
   "cell_type": "code",
   "execution_count": 39,
   "id": "57c46265",
   "metadata": {},
   "outputs": [],
   "source": [
    "chain=RunnableParallel({'x': RunnablePassthrough()}).assign(y=RunnableLambda(add_extra))"
   ]
  },
  {
   "cell_type": "code",
   "execution_count": 40,
   "id": "50bd69b6",
   "metadata": {},
   "outputs": [
    {
     "data": {
      "text/plain": [
       "{'x': 'hello', 'y': 'Happy Learning'}"
      ]
     },
     "execution_count": 40,
     "metadata": {},
     "output_type": "execute_result"
    }
   ],
   "source": [
    "chain.invoke('hello')"
   ]
  },
  {
   "cell_type": "markdown",
   "id": "5929edc1",
   "metadata": {},
   "source": [
    "## Building RAG and different calling method"
   ]
  },
  {
   "cell_type": "code",
   "execution_count": 41,
   "id": "6cb7ce92",
   "metadata": {},
   "outputs": [],
   "source": [
    "from langchain_chroma import Chroma\n",
    "from langchain_text_splitters import RecursiveCharacterTextSplitter\n",
    "from langchain_community.document_loaders import TextLoader\n",
    "from langchain_core.output_parsers import StrOutputParser"
   ]
  },
  {
   "cell_type": "code",
   "execution_count": 42,
   "id": "afbd2b8a",
   "metadata": {},
   "outputs": [],
   "source": [
    "loader=TextLoader(r'F:\\Tapas\\Learning\\GenAI\\data\\state_of_the_union.txt')\n",
    "doc=loader.load()"
   ]
  },
  {
   "cell_type": "code",
   "execution_count": 43,
   "id": "25674a32",
   "metadata": {},
   "outputs": [
    {
     "data": {
      "text/plain": [
       "1"
      ]
     },
     "execution_count": 43,
     "metadata": {},
     "output_type": "execute_result"
    }
   ],
   "source": [
    "len(doc)"
   ]
  },
  {
   "cell_type": "code",
   "execution_count": 46,
   "id": "c3d2ffc0",
   "metadata": {},
   "outputs": [],
   "source": [
    "spliter=RecursiveCharacterTextSplitter(chunk_size=500,chunk_overlap=50)\n",
    "docs=spliter.split_documents(doc)"
   ]
  },
  {
   "cell_type": "code",
   "execution_count": 47,
   "id": "83634365",
   "metadata": {},
   "outputs": [
    {
     "data": {
      "text/plain": [
       "91"
      ]
     },
     "execution_count": 47,
     "metadata": {},
     "output_type": "execute_result"
    }
   ],
   "source": [
    "len(docs)"
   ]
  },
  {
   "cell_type": "code",
   "execution_count": 50,
   "id": "a6adce04",
   "metadata": {},
   "outputs": [],
   "source": [
    "vectore_store=Chroma(collection_name='collection',embedding_function=openai_embedding)"
   ]
  },
  {
   "cell_type": "code",
   "execution_count": 51,
   "id": "2f590374",
   "metadata": {},
   "outputs": [
    {
     "data": {
      "text/plain": [
       "['6759ebcf-15ec-4bac-93fe-8e4fa989b193',\n",
       " '358c9410-56c2-48a9-8a68-55bde2df0c2f',\n",
       " '83bdd429-30b1-4a16-b0ef-8204b7450918',\n",
       " '9c46bc8f-9b4e-4439-919a-3f1885bfc509',\n",
       " '338a613a-d649-4f06-96b9-53e3b4c592ac',\n",
       " '428dee02-a257-48dc-b82f-dc99004442fe',\n",
       " '8269ed37-6352-4f4b-8e3d-cf522e4115ad',\n",
       " '1a755e6f-cd7f-4c57-9bcb-02a8c39830b6',\n",
       " '51f65f6b-5945-4e20-b2cc-11e45907a8f9',\n",
       " '790c5ed0-34e0-4aee-823e-01fd0254e70e',\n",
       " '8048a14c-f516-40a0-a3da-53864d672f53',\n",
       " 'f11b7531-a76d-4c17-8586-8dd9b52e96e4',\n",
       " '39360b4b-b167-4a08-9352-fde16b3b720c',\n",
       " '4b79c38a-81e6-40b4-a165-9ef1ffebd908',\n",
       " '55f3f71a-ef82-4f3a-8b38-b54148136513',\n",
       " '557bfc27-d277-4f56-b88e-2784cbb5eae8',\n",
       " '7a565f6a-9e03-4b50-8318-796c2dc72022',\n",
       " '7743a45e-e83b-45f4-8462-5fbf55b01a2e',\n",
       " '74fc329f-6ce5-47be-a5f0-f265a8e41a58',\n",
       " 'c57609c0-515b-425e-8f12-6087151a48be',\n",
       " '62ad7ad8-6e39-48e4-9f3b-a4590f53de94',\n",
       " '9f02be67-6526-4bd5-9935-f481e78c4e88',\n",
       " '17734b25-e28b-4aaf-9a12-d9788fd4ce6b',\n",
       " '9d5327cc-ccc2-4c68-8f0b-187b3a36da12',\n",
       " '09ef13a7-2343-48fb-af50-3c068ed6b4df',\n",
       " '87fd29c1-41bf-4bc2-82a7-5703a4fe16ca',\n",
       " 'e8b03307-80bc-4385-87c4-dd0ab420fb80',\n",
       " '09ef6e78-f119-4ffd-bf34-9473e8c23421',\n",
       " 'b25ff102-5c15-4d94-b63e-53020781b546',\n",
       " '05455caf-1dd9-47f2-bc78-39edb3b0a07b',\n",
       " '404e1b40-82d9-4870-ab4a-2fd2660bbd76',\n",
       " '636bde92-626b-4349-b92b-18179970317a',\n",
       " '8a229728-3899-403a-a8ab-05189227920d',\n",
       " '871ebc64-0b52-4110-ba5c-6691028b837e',\n",
       " 'a28d6e8e-4f5b-4a8f-b469-6e5769c0653d',\n",
       " '87ab33b1-1c8e-4337-b1dd-6bf784f70a46',\n",
       " '1120bd4a-333c-4096-9bb0-b344ec370a0a',\n",
       " 'c6435f6f-26cb-46c4-9baf-5a3da77cdfbd',\n",
       " '8a3d1320-04a7-48ba-a58d-52bf542e5273',\n",
       " '53d75f4c-3189-4e09-a03a-13a68038d0d7',\n",
       " '213e74f9-0007-4bbf-866c-b943d9956ffa',\n",
       " '75e0b800-9c8c-4178-b335-00b6ba9bacce',\n",
       " '3397f211-c80a-456d-82d5-cab8390804f1',\n",
       " '8c96b4ce-0ce1-4182-b6a3-f9b10eba9cbf',\n",
       " 'add3ed82-0443-4384-abf7-d967200b12bd',\n",
       " 'b992f4ef-6b89-4ed3-869b-654a1fc9e387',\n",
       " 'b9445ba2-f93e-4eec-985b-f56a63934ca5',\n",
       " 'a5f82506-2cf4-4f99-813b-4c5117081495',\n",
       " 'bea9da08-0af6-4565-8b40-e19167625aa9',\n",
       " '04a3c81c-3c46-4c3c-9dab-0eb26c901cdb',\n",
       " 'a9cbfe1a-b82c-44c2-b46a-a908e34cb93e',\n",
       " 'b419be5b-1f5e-48a6-9f59-3a783bebbe21',\n",
       " 'b7892a75-09e8-4c8f-864b-b79c5fc05a02',\n",
       " '7bcfec5b-c674-414b-aa84-ed44205a295e',\n",
       " '35ea12fe-f5c1-44f2-a61d-b01c460bba44',\n",
       " '8a3d963d-2e61-4895-8ea4-eec561dbd5dc',\n",
       " 'ba6ffd52-0d5d-4b43-ba55-9a4f37251467',\n",
       " '74cfdbbc-d845-4440-a3c7-07a0002f5a27',\n",
       " 'a2fc2532-63d2-41d0-8f19-2000d30571e9',\n",
       " 'b7dc26ba-91c9-4d70-b921-6392d5e9ce76',\n",
       " '4bfa1be6-1679-4828-a9e1-09ba06a56dc2',\n",
       " '4352f5c5-f8f6-43f1-ab46-a8aadb89879c',\n",
       " '3846c153-e4ac-4aea-b585-c73c86342179',\n",
       " '1c31758f-e464-4cac-9cde-a2168babb9cc',\n",
       " '6560669a-003b-470f-84d4-8f168322e028',\n",
       " '3d7d2da6-117c-4102-9602-3c21935ef594',\n",
       " '98f50648-2d0a-44d1-9f37-905e2e7e0249',\n",
       " 'fe4c34a8-76b1-48a4-830c-60e18f332f89',\n",
       " 'fe4ce2d9-4193-49f6-ae9c-fd7cc0a05c6c',\n",
       " '6f11b126-f5ee-48cc-8759-05b7e6df895b',\n",
       " '5506303b-4081-45c6-bfe4-3826375f2cf5',\n",
       " '19c095dd-2fbe-4992-9904-454c418eae63',\n",
       " '6fee327b-1903-4479-804c-c5f02dd11eca',\n",
       " '55a62d9d-15f2-49e6-84d8-c7bfcd140476',\n",
       " 'df228ef9-2b3b-4c29-884c-2f64be92275d',\n",
       " '6295ea28-5e10-4f8c-ae6f-e5a7224d0258',\n",
       " '97d43bb4-8838-4c7a-accf-4fa2745d073f',\n",
       " '1c03e26f-4ff5-4b5d-b683-059c86a07cae',\n",
       " 'c1e0c262-6e6c-42b3-b0de-d06593431e16',\n",
       " '38e37f5c-813d-4ab4-ad56-1e07a65cd817',\n",
       " '5de02669-6038-404d-ae8d-0034c17f716d',\n",
       " '141e55c7-f8a6-4666-b9d0-dbbf9ff3c099',\n",
       " '403ede7f-5479-4013-94e7-88a80712d44f',\n",
       " 'f4f35e7a-0912-49e0-a57b-ccdb5abc643b',\n",
       " '97497b61-afdc-491f-9cd9-153faa23e236',\n",
       " 'bdedbe21-605f-47b8-83d3-fa5096d34f20',\n",
       " '522fd442-590c-4602-8161-9a291dc38677',\n",
       " 'ca9d0ca6-04fa-4803-bd09-81f44807b41f',\n",
       " 'c7c6527a-f8ee-4eaa-b4b4-d677772ded8a',\n",
       " '3b9ab35f-4756-4238-8788-e930fadc4a42',\n",
       " '88c515a2-341a-4145-b750-919eef78d20f']"
      ]
     },
     "execution_count": 51,
     "metadata": {},
     "output_type": "execute_result"
    }
   ],
   "source": [
    "vectore_store.add_documents(docs)"
   ]
  },
  {
   "cell_type": "code",
   "execution_count": 52,
   "id": "cdb86d7f",
   "metadata": {},
   "outputs": [],
   "source": [
    "retriever=vectore_store.as_retriever()"
   ]
  },
  {
   "cell_type": "code",
   "execution_count": 53,
   "id": "94ecde31",
   "metadata": {},
   "outputs": [],
   "source": [
    "template=\"\"\"\n",
    "Answer the following question based on the context.If you don't know tel that you don't know.\n",
    "\n",
    "Context: {context}\n",
    "\n",
    "Question: {question}\n",
    "\"\"\"\n",
    "prompt=PromptTemplate(template=template)"
   ]
  },
  {
   "cell_type": "code",
   "execution_count": 54,
   "id": "2b054079",
   "metadata": {},
   "outputs": [],
   "source": [
    "retriever_chain=(\n",
    "    RunnableParallel({\"context\": retriever, 'question': RunnablePassthrough()})\n",
    "    | prompt\n",
    "    | llm\n",
    "    | StrOutputParser()\n",
    ")"
   ]
  },
  {
   "cell_type": "code",
   "execution_count": 56,
   "id": "a5129300",
   "metadata": {},
   "outputs": [],
   "source": [
    "response=retriever_chain.invoke(\"USA stands on Ukraine\")"
   ]
  },
  {
   "cell_type": "code",
   "execution_count": 57,
   "id": "cc09ffea",
   "metadata": {},
   "outputs": [
    {
     "data": {
      "text/plain": [
       "'Yes, the United States of America stands with the Ukrainian people. The context explicitly states: \"Yes, we the United States of America stand with the Ukrainian people\" and \"To our fellow Ukrainian Americans who forge a deep bond that connects our two nations we stand with you.\"'"
      ]
     },
     "execution_count": 57,
     "metadata": {},
     "output_type": "execute_result"
    }
   ],
   "source": [
    "response"
   ]
  },
  {
   "cell_type": "code",
   "execution_count": 62,
   "id": "e42e2665",
   "metadata": {},
   "outputs": [
    {
     "name": "stdout",
     "output_type": "stream",
     "text": [
      "Yes, the United States of America stands with the Ukrainian people. The context explicitly states: \"Yes, we the United States of America stand with the Ukrainian people\" and \"To our fellow Ukrainian Americans who forge a deep bond that connects our two nations we stand with you.\"\n",
      "Time taken:  5.448834419250488\n"
     ]
    }
   ],
   "source": [
    "import time\n",
    "start_time=time.time()\n",
    "\n",
    "response=retriever_chain.invoke(\"USA stands on Ukraine\")\n",
    "print(response)\n",
    "print(\"Time taken: \", time.time()-start_time)"
   ]
  },
  {
   "cell_type": "code",
   "execution_count": 65,
   "id": "ef18b01a",
   "metadata": {},
   "outputs": [
    {
     "name": "stdout",
     "output_type": "stream",
     "text": [
      "Yes, the United States of America stands with the Ukrainian people.\n",
      "Time taken:  3.4393131732940674\n"
     ]
    }
   ],
   "source": [
    "start_time=time.time()\n",
    "\n",
    "result=await retriever_chain.ainvoke(\"USA stands on Ukraine\")\n",
    "print(result)\n",
    "print(\"Time taken: \", time.time()-start_time)"
   ]
  },
  {
   "cell_type": "code",
   "execution_count": 67,
   "id": "46676fd7",
   "metadata": {},
   "outputs": [
    {
     "name": "stdout",
     "output_type": "stream",
     "text": [
      "['Yes, the United States of America stands with the Ukrainian people. The context states, \"Yes, we the United States of America stand with the Ukrainian people,\" and \"To our fellow Ukrainian Americans who forge a deep bond that connects our two nations we stand with you.\"', \"I don't know, as the provided context describes actions and interpretations related to Russia's involvement in Ukraine, but it does not include any direct comments made by Russia about Ukraine.\"]\n",
      "Time taken:  6.856029748916626\n"
     ]
    }
   ],
   "source": [
    "start_time=time.time()\n",
    "\n",
    "response=retriever_chain.batch([\"USA stands on Ukraine\",\"What is Russia's comment on Ukraine?\"])\n",
    "print(response)\n",
    "print(\"Time taken: \", time.time()-start_time)"
   ]
  },
  {
   "cell_type": "code",
   "execution_count": 68,
   "id": "63f2dc4b",
   "metadata": {},
   "outputs": [
    {
     "name": "stdout",
     "output_type": "stream",
     "text": [
      "['Yes, the United States of America stands with the Ukrainian people. The context explicitly states, \"Yes, we the United States of America stand with the Ukrainian people\" and \"we stand with you\" referring to Ukrainian Americans and the Ukrainian people.', \"Based on the provided context, there is no direct comment from Russia on Ukraine. The documents describe Russia's actions (unleashing violence and chaos, seeking to shake the free world's foundations), the perceived thoughts/miscalculations of Vladimir Putin regarding Ukraine, and the international response to these actions.\"]\n",
      "Time taken:  7.127108573913574\n"
     ]
    }
   ],
   "source": [
    "start_time=time.time()\n",
    "\n",
    "response=await retriever_chain.abatch([\"USA stands on Ukraine\",\"What is Russia's comment on Ukraine?\"])\n",
    "print(response)\n",
    "print(\"Time taken: \", time.time()-start_time)"
   ]
  },
  {
   "cell_type": "code",
   "execution_count": 71,
   "id": "0ecbc41c",
   "metadata": {},
   "outputs": [
    {
     "name": "stdout",
     "output_type": "stream",
     "text": [
      "Based on the context, the USA's position on Ukraine is one of strong support and solidarity.\n",
      "\n",
      "*   The US stands with Ukraine, acknowledging the deep bond between the two nations.\n",
      "*   It sends an \"unmistakable signal to Ukraine and to the world\" in support.\n",
      "*   It views the conflict as a \"battle between democracy and autocracy\" and believes the world is choosing \"the side of peace and security.\"\n",
      "*   The US draws inspiration from the \"iron will,\" \"fearlessness, courage, and determination\" of the Ukrainian people.\n",
      "*   It believes that while Putin may make battlefield gains, he will pay a high price, and he will never gain the hearts and souls of the Ukrainian people, having badly miscalculated their strength."
     ]
    }
   ],
   "source": [
    "for res in retriever_chain.stream(\"Usa on Ukraine?\"):\n",
    "    print(res,end='')"
   ]
  },
  {
   "cell_type": "markdown",
   "id": "8bc9684a",
   "metadata": {},
   "source": [
    "### Tool binding with the LLM"
   ]
  },
  {
   "cell_type": "code",
   "execution_count": 72,
   "id": "edf2a42a",
   "metadata": {},
   "outputs": [],
   "source": [
    "from langchain_core.tools import tool"
   ]
  },
  {
   "cell_type": "code",
   "execution_count": 73,
   "id": "be98e524",
   "metadata": {},
   "outputs": [],
   "source": [
    "@tool\n",
    "def multiply(a: int, b: int) -> int:\n",
    "    \"\"\"Multiply a and b.\"\"\"\n",
    "    return a * b"
   ]
  },
  {
   "cell_type": "code",
   "execution_count": 74,
   "id": "101a474a",
   "metadata": {},
   "outputs": [],
   "source": [
    "model_with_tools=llm.bind_tools([multiply])"
   ]
  },
  {
   "cell_type": "code",
   "execution_count": 76,
   "id": "5e7d7ee8",
   "metadata": {},
   "outputs": [],
   "source": [
    "result=model_with_tools.invoke(\"What is 57 multiply by 5\")"
   ]
  },
  {
   "cell_type": "code",
   "execution_count": 77,
   "id": "adebd4a4",
   "metadata": {},
   "outputs": [
    {
     "data": {
      "text/plain": [
       "[{'name': 'multiply',\n",
       "  'args': {'b': 5.0, 'a': 57.0},\n",
       "  'id': '65eff2b0-e050-4aef-8b6b-309a90b6ae32',\n",
       "  'type': 'tool_call'}]"
      ]
     },
     "execution_count": 77,
     "metadata": {},
     "output_type": "execute_result"
    }
   ],
   "source": [
    "result.tool_calls"
   ]
  },
  {
   "cell_type": "code",
   "execution_count": null,
   "id": "d2a281b7",
   "metadata": {},
   "outputs": [],
   "source": []
  }
 ],
 "metadata": {
  "kernelspec": {
   "display_name": "genai_venv",
   "language": "python",
   "name": "python3"
  },
  "language_info": {
   "codemirror_mode": {
    "name": "ipython",
    "version": 3
   },
   "file_extension": ".py",
   "mimetype": "text/x-python",
   "name": "python",
   "nbconvert_exporter": "python",
   "pygments_lexer": "ipython3",
   "version": "3.11.13"
  }
 },
 "nbformat": 4,
 "nbformat_minor": 5
}
