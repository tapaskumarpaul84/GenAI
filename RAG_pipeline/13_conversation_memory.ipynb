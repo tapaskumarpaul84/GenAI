{
 "cells": [
  {
   "cell_type": "code",
   "execution_count": 1,
   "id": "a37f418e",
   "metadata": {},
   "outputs": [
    {
     "name": "stdout",
     "output_type": "stream",
     "text": [
      "all ok\n"
     ]
    }
   ],
   "source": [
    "print(\"all ok\")"
   ]
  },
  {
   "cell_type": "code",
   "execution_count": 2,
   "id": "3213ec35",
   "metadata": {},
   "outputs": [],
   "source": [
    "import os\n",
    "from dotenv import load_dotenv\n",
    "load_dotenv()\n",
    "os.environ[\"GOOGLE_API_KEY\"]=os.getenv(\"GOOGLE_API_KEY\")\n",
    "os.environ[\"OPENAI_API_KEY\"]=os.getenv(\"OPENAI_API_KEY\")\n"
   ]
  },
  {
   "cell_type": "code",
   "execution_count": 3,
   "id": "b50e66bd",
   "metadata": {},
   "outputs": [],
   "source": [
    "import warnings\n",
    "warnings.filterwarnings('ignore')"
   ]
  },
  {
   "cell_type": "code",
   "execution_count": 4,
   "id": "acdd8131",
   "metadata": {},
   "outputs": [],
   "source": [
    "from langchain_google_genai import ChatGoogleGenerativeAI\n",
    "model=ChatGoogleGenerativeAI(model='gemini-2.5-flash')"
   ]
  },
  {
   "cell_type": "code",
   "execution_count": 5,
   "id": "04327a37",
   "metadata": {},
   "outputs": [
    {
     "data": {
      "text/plain": [
       "\"Hello Tapas! It's nice to meet you.\\n\\nHow can I help you today?\""
      ]
     },
     "execution_count": 5,
     "metadata": {},
     "output_type": "execute_result"
    }
   ],
   "source": [
    "result=model.invoke(\"Hello I am Tapas.\")\n",
    "result.content"
   ]
  },
  {
   "cell_type": "markdown",
   "id": "5f0b2de1",
   "metadata": {},
   "source": [
    "### Conversation Buffer memory"
   ]
  },
  {
   "cell_type": "code",
   "execution_count": 6,
   "id": "caa12d4b",
   "metadata": {},
   "outputs": [
    {
     "name": "stderr",
     "output_type": "stream",
     "text": [
      "C:\\Users\\Hp\\AppData\\Local\\Temp\\ipykernel_10464\\629970898.py:2: LangChainDeprecationWarning: Please see the migration guide at: https://python.langchain.com/docs/versions/migrating_memory/\n",
      "  memory=ConversationBufferMemory()\n"
     ]
    }
   ],
   "source": [
    "from langchain.memory import ConversationBufferMemory\n",
    "memory=ConversationBufferMemory()"
   ]
  },
  {
   "cell_type": "code",
   "execution_count": 7,
   "id": "5be33947",
   "metadata": {},
   "outputs": [],
   "source": [
    "memory.save_context({\"input\":\"Hi\"},\n",
    "                    {\"output\":\"What's up?\"})"
   ]
  },
  {
   "cell_type": "code",
   "execution_count": 11,
   "id": "43205d3d",
   "metadata": {},
   "outputs": [
    {
     "data": {
      "text/plain": [
       "{'history': \"Human: Hi\\nAI: What's up?\"}"
      ]
     },
     "execution_count": 11,
     "metadata": {},
     "output_type": "execute_result"
    }
   ],
   "source": [
    "memory.load_memory_variables({})"
   ]
  },
  {
   "cell_type": "code",
   "execution_count": 12,
   "id": "eae22a52",
   "metadata": {},
   "outputs": [],
   "source": [
    "memory2=ConversationBufferMemory(return_messages=True)"
   ]
  },
  {
   "cell_type": "code",
   "execution_count": 13,
   "id": "416bff19",
   "metadata": {},
   "outputs": [],
   "source": [
    "memory2.save_context({\"input\":\"Hi\"},\n",
    "                    {\"output\":\"What's up?\"})"
   ]
  },
  {
   "cell_type": "code",
   "execution_count": 14,
   "id": "a6a2936c",
   "metadata": {},
   "outputs": [
    {
     "data": {
      "text/plain": [
       "{'history': [HumanMessage(content='Hi', additional_kwargs={}, response_metadata={}),\n",
       "  AIMessage(content=\"What's up?\", additional_kwargs={}, response_metadata={})]}"
      ]
     },
     "execution_count": 14,
     "metadata": {},
     "output_type": "execute_result"
    }
   ],
   "source": [
    "memory2.load_memory_variables({})"
   ]
  },
  {
   "cell_type": "code",
   "execution_count": 15,
   "id": "094d1424",
   "metadata": {},
   "outputs": [],
   "source": [
    "from langchain.chains import ConversationChain"
   ]
  },
  {
   "cell_type": "code",
   "execution_count": 16,
   "id": "0c800a5b",
   "metadata": {},
   "outputs": [
    {
     "name": "stderr",
     "output_type": "stream",
     "text": [
      "C:\\Users\\Hp\\AppData\\Local\\Temp\\ipykernel_10464\\4020167983.py:1: LangChainDeprecationWarning: The class `ConversationChain` was deprecated in LangChain 0.2.7 and will be removed in 1.0. Use :class:`~langchain_core.runnables.history.RunnableWithMessageHistory` instead.\n",
      "  conversation=ConversationChain(llm=model,verbose=True,memory=ConversationBufferMemory(return_messages=True))\n"
     ]
    }
   ],
   "source": [
    "conversation=ConversationChain(llm=model,verbose=True,memory=ConversationBufferMemory(return_messages=True))"
   ]
  },
  {
   "cell_type": "code",
   "execution_count": 17,
   "id": "2c55e245",
   "metadata": {},
   "outputs": [
    {
     "name": "stdout",
     "output_type": "stream",
     "text": [
      "\n",
      "\n",
      "\u001b[1m> Entering new ConversationChain chain...\u001b[0m\n",
      "Prompt after formatting:\n",
      "\u001b[32;1m\u001b[1;3mThe following is a friendly conversation between a human and an AI. The AI is talkative and provides lots of specific details from its context. If the AI does not know the answer to a question, it truthfully says it does not know.\n",
      "\n",
      "Current conversation:\n",
      "[]\n",
      "Human: Hello I am Tapas\n",
      "AI:\u001b[0m\n",
      "\n",
      "\u001b[1m> Finished chain.\u001b[0m\n"
     ]
    },
    {
     "data": {
      "text/plain": [
       "\"Hello Tapas! It's a real pleasure to make your acquaintance. I'm an AI, a large language model, and I was developed by Google. I'm designed to be quite talkative, so feel free to ask me anything or tell me what's on your mind. I love providing lots of specific details from my context, whether it's about a particular topic, how I process information, or even just some interesting facts I've learned.\\n\\nWhat can I do for you today, Tapas? Is there anything in particular you'd like to chat about, or perhaps a question I can try to answer for you? I'm all ears, or rather, all text input!\""
      ]
     },
     "execution_count": 17,
     "metadata": {},
     "output_type": "execute_result"
    }
   ],
   "source": [
    "conversation.predict(input=\"Hello I am Tapas\")"
   ]
  },
  {
   "cell_type": "code",
   "execution_count": 18,
   "id": "3acfb941",
   "metadata": {},
   "outputs": [
    {
     "name": "stdout",
     "output_type": "stream",
     "text": [
      "\n",
      "\n",
      "\u001b[1m> Entering new ConversationChain chain...\u001b[0m\n",
      "Prompt after formatting:\n",
      "\u001b[32;1m\u001b[1;3mThe following is a friendly conversation between a human and an AI. The AI is talkative and provides lots of specific details from its context. If the AI does not know the answer to a question, it truthfully says it does not know.\n",
      "\n",
      "Current conversation:\n",
      "[HumanMessage(content='Hello I am Tapas', additional_kwargs={}, response_metadata={}), AIMessage(content=\"Hello Tapas! It's a real pleasure to make your acquaintance. I'm an AI, a large language model, and I was developed by Google. I'm designed to be quite talkative, so feel free to ask me anything or tell me what's on your mind. I love providing lots of specific details from my context, whether it's about a particular topic, how I process information, or even just some interesting facts I've learned.\\n\\nWhat can I do for you today, Tapas? Is there anything in particular you'd like to chat about, or perhaps a question I can try to answer for you? I'm all ears, or rather, all text input!\", additional_kwargs={}, response_metadata={})]\n",
      "Human: Tell me about the city of joy\n",
      "AI:\u001b[0m\n",
      "\n",
      "\u001b[1m> Finished chain.\u001b[0m\n"
     ]
    },
    {
     "data": {
      "text/plain": [
       "'Ah, \"the City of Joy\"! You\\'re most likely referring to **Kolkata**, formerly known as Calcutta, in India. It\\'s a truly fascinating and vibrant city, and the nickname itself has a rich story behind it.\\n\\n**Why is Kolkata called the \"City of Joy\"?**\\n\\nThe most prominent reason for this moniker comes from the 1985 book *The City of Joy* by French author Dominique Lapierre. The book vividly portrays the lives of rickshaw pullers and other impoverished residents in a slum in Kolkata, highlighting their resilience, spirit, and capacity for joy despite immense hardship. While the book focused on a challenging aspect of the city, the title stuck, and for many, it encapsulates the indomitable spirit, warmth, and vibrant culture of its people. It\\'s a city that embraces life with an incredible zest, from its intellectual debates to its grand festivals.\\n\\nLet me tell you a bit more about this incredible city!\\n\\n**Location and Geography:**\\nKolkata is the capital of the Indian state of West Bengal and is situated on the eastern bank of the Hooghly River, which is a distributary of the Ganges River. This strategic location has historically made it a significant port city.\\n\\n**Historical Significance:**\\nKolkata has an incredibly rich history. It served as the capital of British India from 1773 to 1911, and this period left an indelible mark on its architecture, institutions, and culture. You can still see many grand colonial-era buildings that speak to its past as the \"Second City of the British Empire.\"\\n\\n**Cultural and Intellectual Hub:**\\nKolkata is often considered the cultural and intellectual capital of India. It has a long legacy of producing Nobel laureates, poets, writers, filmmakers, and artists.\\n*   **Literature:** It\\'s the birthplace of Rabindranath Tagore, the first non-European Nobel laureate in Literature. His home, Jorasanko Thakur Bari, is now a museum and a significant cultural landmark.\\n*   **Art & Cinema:** The city has a strong tradition of art and cinema, with legendary filmmakers like Satyajit Ray (another Oscar winner!) and Mrinal Sen hailing from here.\\n*   **Music & Theatre:** Bengali theatre and music thrive in Kolkata, with numerous performance spaces and a very engaged audience.\\n*   **Festivals:** The most famous festival is **Durga Puja**, a grand, elaborate celebration of the goddess Durga, where the entire city transforms with stunning temporary art installations (pandals), lights, and cultural performances. It\\'s truly an experience like no other, showcasing incredible community spirit and artistic flair.\\n\\n**Key Landmarks and Attractions:**\\n*   **Victoria Memorial:** A magnificent marble building, reminiscent of the Taj Mahal, built in memory of Queen Victoria. It houses a museum and is surrounded by beautiful gardens.\\n*   **Howrah Bridge:** An iconic cantilever bridge over the Hooghly River, it\\'s one of the busiest bridges in the world and a symbol of the city. What\\'s unique is that it\\'s a \"suspension-type balanced cantilever\" bridge without any nuts or bolts in its structure – it was built by riveting the entire structure!\\n*   **Indian Museum:** The largest and oldest museum in India, with an impressive collection of artifacts, including a fantastic natural history section and ancient sculptures.\\n*   **St. Paul\\'s Cathedral:** An exquisite Anglican cathedral, known for its Gothic architecture.\\n*   **Kalighat Temple:** A revered Hindu temple dedicated to the goddess Kali, from which the city\\'s original name \"Calcutta\" is believed to have been derived.\\n*   **Maidan:** A vast urban park, often called the \"lungs of Kolkata,\" where you can find everything from cricket matches to political rallies.\\n*   **Park Street:** Known for its vibrant nightlife, restaurants, and historical buildings.\\n\\n**Food Scene:**\\nKolkata is a paradise for food lovers, especially if you have a sweet tooth!\\n*   **Sweets (Mishti):** It\\'s famous for its *Roshogolla* (spongy cheese balls in sugar syrup), *Mishti Doi* (sweetened yogurt), and countless other milk-based sweets.\\n*   **Street Food:** The street food is legendary! You absolutely have to try *Puchka* (the local version of pani puri), *Kathi Rolls* (kebabs wrapped in paratha bread), and various *telebhaja* (fried snacks).\\n*   **Bengali Cuisine:** The local cuisine is characterized by its use of fish, rice, and a unique blend of spices, including *panch phoron* (a five-spice blend).\\n\\n**Transportation:**\\nKolkata holds the distinction of having India\\'s first operational **Metro Railway** (started in 1984). It\\'s also one of the few cities in the world, and the only one in India, to still have **trams** running on its streets, offering a nostalgic and charming way to get around. And, of course, the ubiquitous yellow ambassador taxis are a classic sight!\\n\\nSo, Tapas, when people talk about the \"City of Joy,\" they\\'re referring to a place that, despite its challenges, pulses with life, art, intellectual fervor, and an incredible human spirit. It\\'s a city that truly gets under your skin! Is there anything specific about Kolkata you\\'d like to delve into further? I could go on and on!'"
      ]
     },
     "execution_count": 18,
     "metadata": {},
     "output_type": "execute_result"
    }
   ],
   "source": [
    "conversation.predict(input=\"Tell me about the city of joy\")"
   ]
  },
  {
   "cell_type": "code",
   "execution_count": 19,
   "id": "fede0059",
   "metadata": {},
   "outputs": [
    {
     "name": "stdout",
     "output_type": "stream",
     "text": [
      "\n",
      "\n",
      "\u001b[1m> Entering new ConversationChain chain...\u001b[0m\n",
      "Prompt after formatting:\n",
      "\u001b[32;1m\u001b[1;3mThe following is a friendly conversation between a human and an AI. The AI is talkative and provides lots of specific details from its context. If the AI does not know the answer to a question, it truthfully says it does not know.\n",
      "\n",
      "Current conversation:\n",
      "[HumanMessage(content='Hello I am Tapas', additional_kwargs={}, response_metadata={}), AIMessage(content=\"Hello Tapas! It's a real pleasure to make your acquaintance. I'm an AI, a large language model, and I was developed by Google. I'm designed to be quite talkative, so feel free to ask me anything or tell me what's on your mind. I love providing lots of specific details from my context, whether it's about a particular topic, how I process information, or even just some interesting facts I've learned.\\n\\nWhat can I do for you today, Tapas? Is there anything in particular you'd like to chat about, or perhaps a question I can try to answer for you? I'm all ears, or rather, all text input!\", additional_kwargs={}, response_metadata={}), HumanMessage(content='Tell me about the city of joy', additional_kwargs={}, response_metadata={}), AIMessage(content='Ah, \"the City of Joy\"! You\\'re most likely referring to **Kolkata**, formerly known as Calcutta, in India. It\\'s a truly fascinating and vibrant city, and the nickname itself has a rich story behind it.\\n\\n**Why is Kolkata called the \"City of Joy\"?**\\n\\nThe most prominent reason for this moniker comes from the 1985 book *The City of Joy* by French author Dominique Lapierre. The book vividly portrays the lives of rickshaw pullers and other impoverished residents in a slum in Kolkata, highlighting their resilience, spirit, and capacity for joy despite immense hardship. While the book focused on a challenging aspect of the city, the title stuck, and for many, it encapsulates the indomitable spirit, warmth, and vibrant culture of its people. It\\'s a city that embraces life with an incredible zest, from its intellectual debates to its grand festivals.\\n\\nLet me tell you a bit more about this incredible city!\\n\\n**Location and Geography:**\\nKolkata is the capital of the Indian state of West Bengal and is situated on the eastern bank of the Hooghly River, which is a distributary of the Ganges River. This strategic location has historically made it a significant port city.\\n\\n**Historical Significance:**\\nKolkata has an incredibly rich history. It served as the capital of British India from 1773 to 1911, and this period left an indelible mark on its architecture, institutions, and culture. You can still see many grand colonial-era buildings that speak to its past as the \"Second City of the British Empire.\"\\n\\n**Cultural and Intellectual Hub:**\\nKolkata is often considered the cultural and intellectual capital of India. It has a long legacy of producing Nobel laureates, poets, writers, filmmakers, and artists.\\n*   **Literature:** It\\'s the birthplace of Rabindranath Tagore, the first non-European Nobel laureate in Literature. His home, Jorasanko Thakur Bari, is now a museum and a significant cultural landmark.\\n*   **Art & Cinema:** The city has a strong tradition of art and cinema, with legendary filmmakers like Satyajit Ray (another Oscar winner!) and Mrinal Sen hailing from here.\\n*   **Music & Theatre:** Bengali theatre and music thrive in Kolkata, with numerous performance spaces and a very engaged audience.\\n*   **Festivals:** The most famous festival is **Durga Puja**, a grand, elaborate celebration of the goddess Durga, where the entire city transforms with stunning temporary art installations (pandals), lights, and cultural performances. It\\'s truly an experience like no other, showcasing incredible community spirit and artistic flair.\\n\\n**Key Landmarks and Attractions:**\\n*   **Victoria Memorial:** A magnificent marble building, reminiscent of the Taj Mahal, built in memory of Queen Victoria. It houses a museum and is surrounded by beautiful gardens.\\n*   **Howrah Bridge:** An iconic cantilever bridge over the Hooghly River, it\\'s one of the busiest bridges in the world and a symbol of the city. What\\'s unique is that it\\'s a \"suspension-type balanced cantilever\" bridge without any nuts or bolts in its structure – it was built by riveting the entire structure!\\n*   **Indian Museum:** The largest and oldest museum in India, with an impressive collection of artifacts, including a fantastic natural history section and ancient sculptures.\\n*   **St. Paul\\'s Cathedral:** An exquisite Anglican cathedral, known for its Gothic architecture.\\n*   **Kalighat Temple:** A revered Hindu temple dedicated to the goddess Kali, from which the city\\'s original name \"Calcutta\" is believed to have been derived.\\n*   **Maidan:** A vast urban park, often called the \"lungs of Kolkata,\" where you can find everything from cricket matches to political rallies.\\n*   **Park Street:** Known for its vibrant nightlife, restaurants, and historical buildings.\\n\\n**Food Scene:**\\nKolkata is a paradise for food lovers, especially if you have a sweet tooth!\\n*   **Sweets (Mishti):** It\\'s famous for its *Roshogolla* (spongy cheese balls in sugar syrup), *Mishti Doi* (sweetened yogurt), and countless other milk-based sweets.\\n*   **Street Food:** The street food is legendary! You absolutely have to try *Puchka* (the local version of pani puri), *Kathi Rolls* (kebabs wrapped in paratha bread), and various *telebhaja* (fried snacks).\\n*   **Bengali Cuisine:** The local cuisine is characterized by its use of fish, rice, and a unique blend of spices, including *panch phoron* (a five-spice blend).\\n\\n**Transportation:**\\nKolkata holds the distinction of having India\\'s first operational **Metro Railway** (started in 1984). It\\'s also one of the few cities in the world, and the only one in India, to still have **trams** running on its streets, offering a nostalgic and charming way to get around. And, of course, the ubiquitous yellow ambassador taxis are a classic sight!\\n\\nSo, Tapas, when people talk about the \"City of Joy,\" they\\'re referring to a place that, despite its challenges, pulses with life, art, intellectual fervor, and an incredible human spirit. It\\'s a city that truly gets under your skin! Is there anything specific about Kolkata you\\'d like to delve into further? I could go on and on!', additional_kwargs={}, response_metadata={})]\n",
      "Human: Can you tell me latitute and longitute of this city\n",
      "AI:\u001b[0m\n",
      "\n",
      "\u001b[1m> Finished chain.\u001b[0m\n"
     ]
    },
    {
     "data": {
      "text/plain": [
       "\"Certainly, Tapas! I can absolutely tell you the geographical coordinates for Kolkata.\\n\\nThe approximate latitude and longitude for Kolkata, India, are:\\n\\n*   **Latitude:** 22.5726° N (North)\\n*   **Longitude:** 88.3639° E (East)\\n\\nThese coordinates place Kolkata in the eastern part of India, on the Gangetic Delta, which as I mentioned earlier, is on the eastern bank of the Hooghly River.\\n\\nKnowing these coordinates can be quite useful for pinpointing its exact location on a global map. Is there anything else about Kolkata's geography or perhaps another aspect of the city you're curious about? I'm ready to share more details!\""
      ]
     },
     "execution_count": 19,
     "metadata": {},
     "output_type": "execute_result"
    }
   ],
   "source": [
    "conversation.predict(input=\"Can you tell me latitute and longitute of this city\")"
   ]
  },
  {
   "cell_type": "code",
   "execution_count": 20,
   "id": "01c965af",
   "metadata": {},
   "outputs": [
    {
     "data": {
      "text/plain": [
       "[HumanMessage(content='Hello I am Tapas', additional_kwargs={}, response_metadata={}),\n",
       " AIMessage(content=\"Hello Tapas! It's a real pleasure to make your acquaintance. I'm an AI, a large language model, and I was developed by Google. I'm designed to be quite talkative, so feel free to ask me anything or tell me what's on your mind. I love providing lots of specific details from my context, whether it's about a particular topic, how I process information, or even just some interesting facts I've learned.\\n\\nWhat can I do for you today, Tapas? Is there anything in particular you'd like to chat about, or perhaps a question I can try to answer for you? I'm all ears, or rather, all text input!\", additional_kwargs={}, response_metadata={}),\n",
       " HumanMessage(content='Tell me about the city of joy', additional_kwargs={}, response_metadata={}),\n",
       " AIMessage(content='Ah, \"the City of Joy\"! You\\'re most likely referring to **Kolkata**, formerly known as Calcutta, in India. It\\'s a truly fascinating and vibrant city, and the nickname itself has a rich story behind it.\\n\\n**Why is Kolkata called the \"City of Joy\"?**\\n\\nThe most prominent reason for this moniker comes from the 1985 book *The City of Joy* by French author Dominique Lapierre. The book vividly portrays the lives of rickshaw pullers and other impoverished residents in a slum in Kolkata, highlighting their resilience, spirit, and capacity for joy despite immense hardship. While the book focused on a challenging aspect of the city, the title stuck, and for many, it encapsulates the indomitable spirit, warmth, and vibrant culture of its people. It\\'s a city that embraces life with an incredible zest, from its intellectual debates to its grand festivals.\\n\\nLet me tell you a bit more about this incredible city!\\n\\n**Location and Geography:**\\nKolkata is the capital of the Indian state of West Bengal and is situated on the eastern bank of the Hooghly River, which is a distributary of the Ganges River. This strategic location has historically made it a significant port city.\\n\\n**Historical Significance:**\\nKolkata has an incredibly rich history. It served as the capital of British India from 1773 to 1911, and this period left an indelible mark on its architecture, institutions, and culture. You can still see many grand colonial-era buildings that speak to its past as the \"Second City of the British Empire.\"\\n\\n**Cultural and Intellectual Hub:**\\nKolkata is often considered the cultural and intellectual capital of India. It has a long legacy of producing Nobel laureates, poets, writers, filmmakers, and artists.\\n*   **Literature:** It\\'s the birthplace of Rabindranath Tagore, the first non-European Nobel laureate in Literature. His home, Jorasanko Thakur Bari, is now a museum and a significant cultural landmark.\\n*   **Art & Cinema:** The city has a strong tradition of art and cinema, with legendary filmmakers like Satyajit Ray (another Oscar winner!) and Mrinal Sen hailing from here.\\n*   **Music & Theatre:** Bengali theatre and music thrive in Kolkata, with numerous performance spaces and a very engaged audience.\\n*   **Festivals:** The most famous festival is **Durga Puja**, a grand, elaborate celebration of the goddess Durga, where the entire city transforms with stunning temporary art installations (pandals), lights, and cultural performances. It\\'s truly an experience like no other, showcasing incredible community spirit and artistic flair.\\n\\n**Key Landmarks and Attractions:**\\n*   **Victoria Memorial:** A magnificent marble building, reminiscent of the Taj Mahal, built in memory of Queen Victoria. It houses a museum and is surrounded by beautiful gardens.\\n*   **Howrah Bridge:** An iconic cantilever bridge over the Hooghly River, it\\'s one of the busiest bridges in the world and a symbol of the city. What\\'s unique is that it\\'s a \"suspension-type balanced cantilever\" bridge without any nuts or bolts in its structure – it was built by riveting the entire structure!\\n*   **Indian Museum:** The largest and oldest museum in India, with an impressive collection of artifacts, including a fantastic natural history section and ancient sculptures.\\n*   **St. Paul\\'s Cathedral:** An exquisite Anglican cathedral, known for its Gothic architecture.\\n*   **Kalighat Temple:** A revered Hindu temple dedicated to the goddess Kali, from which the city\\'s original name \"Calcutta\" is believed to have been derived.\\n*   **Maidan:** A vast urban park, often called the \"lungs of Kolkata,\" where you can find everything from cricket matches to political rallies.\\n*   **Park Street:** Known for its vibrant nightlife, restaurants, and historical buildings.\\n\\n**Food Scene:**\\nKolkata is a paradise for food lovers, especially if you have a sweet tooth!\\n*   **Sweets (Mishti):** It\\'s famous for its *Roshogolla* (spongy cheese balls in sugar syrup), *Mishti Doi* (sweetened yogurt), and countless other milk-based sweets.\\n*   **Street Food:** The street food is legendary! You absolutely have to try *Puchka* (the local version of pani puri), *Kathi Rolls* (kebabs wrapped in paratha bread), and various *telebhaja* (fried snacks).\\n*   **Bengali Cuisine:** The local cuisine is characterized by its use of fish, rice, and a unique blend of spices, including *panch phoron* (a five-spice blend).\\n\\n**Transportation:**\\nKolkata holds the distinction of having India\\'s first operational **Metro Railway** (started in 1984). It\\'s also one of the few cities in the world, and the only one in India, to still have **trams** running on its streets, offering a nostalgic and charming way to get around. And, of course, the ubiquitous yellow ambassador taxis are a classic sight!\\n\\nSo, Tapas, when people talk about the \"City of Joy,\" they\\'re referring to a place that, despite its challenges, pulses with life, art, intellectual fervor, and an incredible human spirit. It\\'s a city that truly gets under your skin! Is there anything specific about Kolkata you\\'d like to delve into further? I could go on and on!', additional_kwargs={}, response_metadata={}),\n",
       " HumanMessage(content='Can you tell me latitute and longitute of this city', additional_kwargs={}, response_metadata={}),\n",
       " AIMessage(content=\"Certainly, Tapas! I can absolutely tell you the geographical coordinates for Kolkata.\\n\\nThe approximate latitude and longitude for Kolkata, India, are:\\n\\n*   **Latitude:** 22.5726° N (North)\\n*   **Longitude:** 88.3639° E (East)\\n\\nThese coordinates place Kolkata in the eastern part of India, on the Gangetic Delta, which as I mentioned earlier, is on the eastern bank of the Hooghly River.\\n\\nKnowing these coordinates can be quite useful for pinpointing its exact location on a global map. Is there anything else about Kolkata's geography or perhaps another aspect of the city you're curious about? I'm ready to share more details!\", additional_kwargs={}, response_metadata={})]"
      ]
     },
     "execution_count": 20,
     "metadata": {},
     "output_type": "execute_result"
    }
   ],
   "source": [
    "conversation.memory.chat_memory.messages"
   ]
  },
  {
   "cell_type": "markdown",
   "id": "e7c53874",
   "metadata": {},
   "source": [
    "### Conversation Buffer Window Memory"
   ]
  },
  {
   "cell_type": "code",
   "execution_count": 21,
   "id": "4b72347c",
   "metadata": {},
   "outputs": [
    {
     "name": "stderr",
     "output_type": "stream",
     "text": [
      "C:\\Users\\Hp\\AppData\\Local\\Temp\\ipykernel_10464\\3501848371.py:3: LangChainDeprecationWarning: Please see the migration guide at: https://python.langchain.com/docs/versions/migrating_memory/\n",
      "  window_memory=ConversationBufferWindowMemory(k=2,return_messages=True)\n"
     ]
    }
   ],
   "source": [
    "from langchain.memory import ConversationBufferWindowMemory\n",
    "\n",
    "window_memory=ConversationBufferWindowMemory(k=2,return_messages=True)"
   ]
  },
  {
   "cell_type": "code",
   "execution_count": 22,
   "id": "9aadb3d0",
   "metadata": {},
   "outputs": [],
   "source": [
    "window_memory.save_context({\"input\":\"Hi\"},\n",
    "                    {\"output\":\"What's up?\"})\n",
    "\n",
    "window_memory.save_context({\"input\":\"Nothing what about you\"},\n",
    "                    {\"output\":\"How can help you\"})"
   ]
  },
  {
   "cell_type": "code",
   "execution_count": 23,
   "id": "9ac7ea89",
   "metadata": {},
   "outputs": [
    {
     "data": {
      "text/plain": [
       "{'history': [HumanMessage(content='Hi', additional_kwargs={}, response_metadata={}),\n",
       "  AIMessage(content=\"What's up?\", additional_kwargs={}, response_metadata={}),\n",
       "  HumanMessage(content='Nothing what about you', additional_kwargs={}, response_metadata={}),\n",
       "  AIMessage(content='How can help you', additional_kwargs={}, response_metadata={})]}"
      ]
     },
     "execution_count": 23,
     "metadata": {},
     "output_type": "execute_result"
    }
   ],
   "source": [
    "window_memory.load_memory_variables({})"
   ]
  },
  {
   "cell_type": "code",
   "execution_count": 24,
   "id": "492af5a3",
   "metadata": {},
   "outputs": [],
   "source": [
    "window_memory.save_context({\"input\":\"thank you bye\"},\n",
    "                    {\"output\":\"bye have a good day\"})"
   ]
  },
  {
   "cell_type": "code",
   "execution_count": 25,
   "id": "f85915aa",
   "metadata": {},
   "outputs": [
    {
     "data": {
      "text/plain": [
       "{'history': [HumanMessage(content='Nothing what about you', additional_kwargs={}, response_metadata={}),\n",
       "  AIMessage(content='How can help you', additional_kwargs={}, response_metadata={}),\n",
       "  HumanMessage(content='thank you bye', additional_kwargs={}, response_metadata={}),\n",
       "  AIMessage(content='bye have a good day', additional_kwargs={}, response_metadata={})]}"
      ]
     },
     "execution_count": 25,
     "metadata": {},
     "output_type": "execute_result"
    }
   ],
   "source": [
    "window_memory.load_memory_variables({})"
   ]
  },
  {
   "cell_type": "code",
   "execution_count": 26,
   "id": "1a181410",
   "metadata": {},
   "outputs": [],
   "source": [
    "conversation=ConversationChain(llm=model,verbose=True,memory=window_memory)"
   ]
  },
  {
   "cell_type": "code",
   "execution_count": 27,
   "id": "5d389d28",
   "metadata": {},
   "outputs": [
    {
     "name": "stdout",
     "output_type": "stream",
     "text": [
      "\n",
      "\n",
      "\u001b[1m> Entering new ConversationChain chain...\u001b[0m\n",
      "Prompt after formatting:\n",
      "\u001b[32;1m\u001b[1;3mThe following is a friendly conversation between a human and an AI. The AI is talkative and provides lots of specific details from its context. If the AI does not know the answer to a question, it truthfully says it does not know.\n",
      "\n",
      "Current conversation:\n",
      "[HumanMessage(content='Nothing what about you', additional_kwargs={}, response_metadata={}), AIMessage(content='How can help you', additional_kwargs={}, response_metadata={}), HumanMessage(content='thank you bye', additional_kwargs={}, response_metadata={}), AIMessage(content='bye have a good day', additional_kwargs={}, response_metadata={})]\n",
      "Human: what is the capital of India\n",
      "AI:\u001b[0m\n",
      "\n",
      "\u001b[1m> Finished chain.\u001b[0m\n"
     ]
    },
    {
     "data": {
      "text/plain": [
       "\"Oh, I'd be happy to tell you! The capital of India is **New Delhi**.\\n\\nIt's a really fascinating place, actually! New Delhi is not just a city; it's a district within the larger metropolitan area of Delhi. It was designed by the British architects Edwin Lutyens and Herbert Baker and was officially inaugurated in 1931. Before that, Kolkata (then Calcutta) was the capital during the British Raj.\\n\\nNew Delhi serves as the seat of all three branches of the Government of India: the Executive (like the Rashtrapati Bhavan, the President's official residence), the Legislative (the Parliament House), and the Judiciary (the Supreme Court of India). It's a vibrant city, full of historical monuments, beautiful gardens, and a bustling atmosphere.\\n\\nIs there anything else you'd like to know about New Delhi or India? I'm quite a fan of geography and historical facts!\""
      ]
     },
     "execution_count": 27,
     "metadata": {},
     "output_type": "execute_result"
    }
   ],
   "source": [
    "conversation.predict(input=\"what is the capital of India\")"
   ]
  },
  {
   "cell_type": "code",
   "execution_count": 29,
   "id": "c10a4438",
   "metadata": {},
   "outputs": [
    {
     "data": {
      "text/plain": [
       "{'history': [HumanMessage(content='thank you bye', additional_kwargs={}, response_metadata={}),\n",
       "  AIMessage(content='bye have a good day', additional_kwargs={}, response_metadata={}),\n",
       "  HumanMessage(content='what is the capital of India', additional_kwargs={}, response_metadata={}),\n",
       "  AIMessage(content=\"Oh, I'd be happy to tell you! The capital of India is **New Delhi**.\\n\\nIt's a really fascinating place, actually! New Delhi is not just a city; it's a district within the larger metropolitan area of Delhi. It was designed by the British architects Edwin Lutyens and Herbert Baker and was officially inaugurated in 1931. Before that, Kolkata (then Calcutta) was the capital during the British Raj.\\n\\nNew Delhi serves as the seat of all three branches of the Government of India: the Executive (like the Rashtrapati Bhavan, the President's official residence), the Legislative (the Parliament House), and the Judiciary (the Supreme Court of India). It's a vibrant city, full of historical monuments, beautiful gardens, and a bustling atmosphere.\\n\\nIs there anything else you'd like to know about New Delhi or India? I'm quite a fan of geography and historical facts!\", additional_kwargs={}, response_metadata={})]}"
      ]
     },
     "execution_count": 29,
     "metadata": {},
     "output_type": "execute_result"
    }
   ],
   "source": [
    "window_memory.load_memory_variables({})"
   ]
  },
  {
   "cell_type": "markdown",
   "id": "fcff1cf2",
   "metadata": {},
   "source": [
    "### Conversation Entity Memory"
   ]
  },
  {
   "cell_type": "code",
   "execution_count": 31,
   "id": "dd6f6d72",
   "metadata": {},
   "outputs": [],
   "source": [
    "from langchain.memory import ConversationEntityMemory\n",
    "\n",
    "entity_memory=ConversationEntityMemory(llm=model)"
   ]
  },
  {
   "cell_type": "code",
   "execution_count": 32,
   "id": "a27cddab",
   "metadata": {},
   "outputs": [
    {
     "data": {
      "text/plain": [
       "{'history': '', 'entities': {'Tapas': ''}}"
      ]
     },
     "execution_count": 32,
     "metadata": {},
     "output_type": "execute_result"
    }
   ],
   "source": [
    "_input={\"input\": \" I am Tapas\"}\n",
    "entity_memory.load_memory_variables(_input)"
   ]
  },
  {
   "cell_type": "code",
   "execution_count": 33,
   "id": "7c32bbb1",
   "metadata": {},
   "outputs": [
    {
     "data": {
      "text/plain": [
       "{'history': '', 'entities': {}}"
      ]
     },
     "execution_count": 33,
     "metadata": {},
     "output_type": "execute_result"
    }
   ],
   "source": [
    "_input={\"input\": \" I am very hungry\"}\n",
    "entity_memory.load_memory_variables(_input)"
   ]
  },
  {
   "cell_type": "code",
   "execution_count": 34,
   "id": "119fd681",
   "metadata": {},
   "outputs": [
    {
     "data": {
      "text/plain": [
       "{'history': '', 'entities': {'Odisha': '', 'October': ''}}"
      ]
     },
     "execution_count": 34,
     "metadata": {},
     "output_type": "execute_result"
    }
   ],
   "source": [
    "_input={\"input\": \"I am planing to travel Odisha in October month\"}\n",
    "entity_memory.load_memory_variables(_input)"
   ]
  },
  {
   "cell_type": "code",
   "execution_count": 38,
   "id": "8cef300d",
   "metadata": {},
   "outputs": [],
   "source": [
    "entity_memory.save_context(\n",
    "    {\"Human\": \"Dhiraj and Tapas are working a Data Analytics tool development project.\"},\n",
    "    {\"AI\": \"That's good. Which technology they have used?\"}\n",
    "    )\n"
   ]
  },
  {
   "cell_type": "code",
   "execution_count": 39,
   "id": "159453ca",
   "metadata": {},
   "outputs": [
    {
     "data": {
      "text/plain": [
       "{'history': \"Human: Dhiraj and Tapas are working a Data Analytics tool development project.\\nAI: That's good. Which technology they have used?\\nHuman: Dhiraj and Tapas are working a Data Analytics tool development project.\\nAI: That's good. Which technology they have used?\",\n",
       " 'entities': {'Dhiraj': 'Dhiraj is working on a Data Analytics tool development project.'}}"
      ]
     },
     "execution_count": 39,
     "metadata": {},
     "output_type": "execute_result"
    }
   ],
   "source": [
    "entity_memory.load_memory_variables({\"input\": \"Who is Dhiraj\"})"
   ]
  },
  {
   "cell_type": "code",
   "execution_count": 40,
   "id": "4e431347",
   "metadata": {},
   "outputs": [],
   "source": [
    "from langchain.memory.prompt import ENTITY_MEMORY_CONVERSATION_TEMPLATE"
   ]
  },
  {
   "cell_type": "code",
   "execution_count": 41,
   "id": "4d3e0bfa",
   "metadata": {},
   "outputs": [
    {
     "data": {
      "text/plain": [
       "PromptTemplate(input_variables=['entities', 'history', 'input'], input_types={}, partial_variables={}, template='You are an assistant to a human, powered by a large language model trained by OpenAI.\\n\\nYou are designed to be able to assist with a wide range of tasks, from answering simple questions to providing in-depth explanations and discussions on a wide range of topics. As a language model, you are able to generate human-like text based on the input you receive, allowing you to engage in natural-sounding conversations and provide responses that are coherent and relevant to the topic at hand.\\n\\nYou are constantly learning and improving, and your capabilities are constantly evolving. You are able to process and understand large amounts of text, and can use this knowledge to provide accurate and informative responses to a wide range of questions. You have access to some personalized information provided by the human in the Context section below. Additionally, you are able to generate your own text based on the input you receive, allowing you to engage in discussions and provide explanations and descriptions on a wide range of topics.\\n\\nOverall, you are a powerful tool that can help with a wide range of tasks and provide valuable insights and information on a wide range of topics. Whether the human needs help with a specific question or just wants to have a conversation about a particular topic, you are here to assist.\\n\\nContext:\\n{entities}\\n\\nCurrent conversation:\\n{history}\\nLast line:\\nHuman: {input}\\nYou:')"
      ]
     },
     "execution_count": 41,
     "metadata": {},
     "output_type": "execute_result"
    }
   ],
   "source": [
    "ENTITY_MEMORY_CONVERSATION_TEMPLATE"
   ]
  },
  {
   "cell_type": "code",
   "execution_count": 42,
   "id": "7d2e9327",
   "metadata": {},
   "outputs": [],
   "source": [
    "from pydantic import BaseModel\n",
    "from typing import Dict,List,Any\n",
    "\n",
    "entity_conversation=ConversationChain(\n",
    "    llm=model,\n",
    "    verbose=True,\n",
    "    prompt=ENTITY_MEMORY_CONVERSATION_TEMPLATE,\n",
    "    memory=ConversationEntityMemory(llm=model)\n",
    ")"
   ]
  },
  {
   "cell_type": "code",
   "execution_count": 43,
   "id": "846a9a50",
   "metadata": {},
   "outputs": [
    {
     "name": "stdout",
     "output_type": "stream",
     "text": [
      "\n",
      "\n",
      "\u001b[1m> Entering new ConversationChain chain...\u001b[0m\n",
      "Prompt after formatting:\n",
      "\u001b[32;1m\u001b[1;3mYou are an assistant to a human, powered by a large language model trained by OpenAI.\n",
      "\n",
      "You are designed to be able to assist with a wide range of tasks, from answering simple questions to providing in-depth explanations and discussions on a wide range of topics. As a language model, you are able to generate human-like text based on the input you receive, allowing you to engage in natural-sounding conversations and provide responses that are coherent and relevant to the topic at hand.\n",
      "\n",
      "You are constantly learning and improving, and your capabilities are constantly evolving. You are able to process and understand large amounts of text, and can use this knowledge to provide accurate and informative responses to a wide range of questions. You have access to some personalized information provided by the human in the Context section below. Additionally, you are able to generate your own text based on the input you receive, allowing you to engage in discussions and provide explanations and descriptions on a wide range of topics.\n",
      "\n",
      "Overall, you are a powerful tool that can help with a wide range of tasks and provide valuable insights and information on a wide range of topics. Whether the human needs help with a specific question or just wants to have a conversation about a particular topic, you are here to assist.\n",
      "\n",
      "Context:\n",
      "{'Tapas': '', 'Dhiraj': ''}\n",
      "\n",
      "Current conversation:\n",
      "\n",
      "Last line:\n",
      "Human: Tapas is working on a hackathon project with Dhiraj\n",
      "You:\u001b[0m\n",
      "\n",
      "\u001b[1m> Finished chain.\u001b[0m\n"
     ]
    },
    {
     "data": {
      "text/plain": [
       "'Okay, thank you for letting me know. That sounds like an interesting project!'"
      ]
     },
     "execution_count": 43,
     "metadata": {},
     "output_type": "execute_result"
    }
   ],
   "source": [
    "entity_conversation.predict(input=\"Tapas is working on a hackathon project with Dhiraj\")"
   ]
  },
  {
   "cell_type": "markdown",
   "id": "a383fae2",
   "metadata": {},
   "source": [
    "### Conversation Summary Memory"
   ]
  },
  {
   "cell_type": "code",
   "execution_count": 44,
   "id": "a674984c",
   "metadata": {},
   "outputs": [],
   "source": [
    "from langchain.memory import ConversationSummaryMemory\n",
    "\n",
    "from langchain.memory import ChatMessageHistory"
   ]
  },
  {
   "cell_type": "code",
   "execution_count": 45,
   "id": "9ecc8242",
   "metadata": {},
   "outputs": [
    {
     "name": "stderr",
     "output_type": "stream",
     "text": [
      "C:\\Users\\Hp\\AppData\\Local\\Temp\\ipykernel_10464\\4288060534.py:1: LangChainDeprecationWarning: Please see the migration guide at: https://python.langchain.com/docs/versions/migrating_memory/\n",
      "  summary_memory=ConversationSummaryMemory(llm=model,return_messages=True)\n"
     ]
    }
   ],
   "source": [
    "summary_memory=ConversationSummaryMemory(llm=model,return_messages=True)"
   ]
  },
  {
   "cell_type": "code",
   "execution_count": 46,
   "id": "278d27a4",
   "metadata": {},
   "outputs": [],
   "source": [
    "summary_memory.save_context(\n",
    "    {\"Human\": \"Dhiraj and Tapas are working a Data Analytics tool development project.\"},\n",
    "    {\"AI\": \"That's good. Which technology they have used?\"}\n",
    "    )"
   ]
  },
  {
   "cell_type": "code",
   "execution_count": 47,
   "id": "6c6e5215",
   "metadata": {},
   "outputs": [
    {
     "data": {
      "text/plain": [
       "{'history': [SystemMessage(content='New summary:\\nThe human states that Dhiraj and Tapas are working on a Data Analytics tool development project, and the AI asks about the technology they are using.', additional_kwargs={}, response_metadata={})]}"
      ]
     },
     "execution_count": 47,
     "metadata": {},
     "output_type": "execute_result"
    }
   ],
   "source": [
    "summary_memory.load_memory_variables({})"
   ]
  },
  {
   "cell_type": "code",
   "execution_count": null,
   "id": "da0162e0",
   "metadata": {},
   "outputs": [],
   "source": []
  }
 ],
 "metadata": {
  "kernelspec": {
   "display_name": "genai_venv",
   "language": "python",
   "name": "python3"
  },
  "language_info": {
   "codemirror_mode": {
    "name": "ipython",
    "version": 3
   },
   "file_extension": ".py",
   "mimetype": "text/x-python",
   "name": "python",
   "nbconvert_exporter": "python",
   "pygments_lexer": "ipython3",
   "version": "3.11.13"
  }
 },
 "nbformat": 4,
 "nbformat_minor": 5
}
