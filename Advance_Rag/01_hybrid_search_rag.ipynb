{
 "cells": [
  {
   "cell_type": "code",
   "execution_count": 1,
   "id": "091a9d85",
   "metadata": {},
   "outputs": [
    {
     "name": "stdout",
     "output_type": "stream",
     "text": [
      "all ok\n"
     ]
    }
   ],
   "source": [
    "print(\"all ok\")"
   ]
  },
  {
   "cell_type": "markdown",
   "id": "fd5c03c7",
   "metadata": {},
   "source": [
    "### Keyword Search"
   ]
  },
  {
   "cell_type": "code",
   "execution_count": 2,
   "id": "7d1d980d",
   "metadata": {},
   "outputs": [],
   "source": [
    "from sklearn.feature_extraction.text import TfidfVectorizer\n",
    "from sklearn.metrics.pairwise import cosine_similarity\n",
    "import numpy as np"
   ]
  },
  {
   "cell_type": "code",
   "execution_count": 3,
   "id": "ef9702d6",
   "metadata": {},
   "outputs": [],
   "source": [
    "documents=[\n",
    "    \"This is a list which containing sample documents.\",\n",
    "    \"Keywords are important for keyword-based search.\",\n",
    "    \"Document analysis involves extracting keywords.\",\n",
    "    \"Keyword-based search relies on sparse embeddings.\"\n",
    "]"
   ]
  },
  {
   "cell_type": "code",
   "execution_count": 4,
   "id": "6a5257d9",
   "metadata": {},
   "outputs": [],
   "source": [
    "query=\"keyword-based search\""
   ]
  },
  {
   "cell_type": "code",
   "execution_count": 5,
   "id": "0577ee32",
   "metadata": {},
   "outputs": [],
   "source": [
    "import re\n",
    "def remove_punc(text):\n",
    "    text=text.lower()\n",
    "    text=re.sub(r'[^\\w\\s]','',text)\n",
    "    return text"
   ]
  },
  {
   "cell_type": "code",
   "execution_count": 6,
   "id": "9f35bcb4",
   "metadata": {},
   "outputs": [
    {
     "data": {
      "text/plain": [
       "['this is a list which containing sample documents',\n",
       " 'keywords are important for keywordbased search',\n",
       " 'document analysis involves extracting keywords',\n",
       " 'keywordbased search relies on sparse embeddings']"
      ]
     },
     "execution_count": 6,
     "metadata": {},
     "output_type": "execute_result"
    }
   ],
   "source": [
    "preprocessed_doc=[remove_punc(doc) for doc in documents]\n",
    "preprocessed_doc"
   ]
  },
  {
   "cell_type": "code",
   "execution_count": 7,
   "id": "5ce679ce",
   "metadata": {},
   "outputs": [
    {
     "name": "stdout",
     "output_type": "stream",
     "text": [
      "Preprocessed documents:\n",
      "this is a list which containing sample documents\n",
      "keywords are important for keywordbased search\n",
      "document analysis involves extracting keywords\n",
      "keywordbased search relies on sparse embeddings\n"
     ]
    }
   ],
   "source": [
    "print(\"Preprocessed documents:\")\n",
    "for doc in preprocessed_doc:\n",
    "    print(doc)"
   ]
  },
  {
   "cell_type": "code",
   "execution_count": 8,
   "id": "e4a1706a",
   "metadata": {},
   "outputs": [
    {
     "name": "stdout",
     "output_type": "stream",
     "text": [
      "Preprocessed query:\n",
      "keywordbased search\n"
     ]
    }
   ],
   "source": [
    "print(\"Preprocessed query:\")\n",
    "preprocessed_query=remove_punc(query)\n",
    "print(preprocessed_query)"
   ]
  },
  {
   "cell_type": "code",
   "execution_count": 9,
   "id": "be4ebb12",
   "metadata": {},
   "outputs": [],
   "source": [
    "vector=TfidfVectorizer()\n",
    "doc_vector=vector.fit_transform(preprocessed_doc)"
   ]
  },
  {
   "cell_type": "code",
   "execution_count": 10,
   "id": "5caa32ea",
   "metadata": {},
   "outputs": [
    {
     "data": {
      "text/plain": [
       "array([0.        , 0.        , 0.37796447, 0.        , 0.37796447,\n",
       "       0.        , 0.        , 0.        , 0.        , 0.        ,\n",
       "       0.37796447, 0.        , 0.        , 0.37796447, 0.        ,\n",
       "       0.        , 0.37796447, 0.        , 0.        , 0.37796447,\n",
       "       0.37796447])"
      ]
     },
     "execution_count": 10,
     "metadata": {},
     "output_type": "execute_result"
    }
   ],
   "source": [
    "doc_vector.toarray()[0]"
   ]
  },
  {
   "cell_type": "code",
   "execution_count": 11,
   "id": "e71a20e9",
   "metadata": {},
   "outputs": [
    {
     "data": {
      "text/plain": [
       "array([[0.        , 0.        , 0.37796447, 0.        , 0.37796447,\n",
       "        0.        , 0.        , 0.        , 0.        , 0.        ,\n",
       "        0.37796447, 0.        , 0.        , 0.37796447, 0.        ,\n",
       "        0.        , 0.37796447, 0.        , 0.        , 0.37796447,\n",
       "        0.37796447],\n",
       "       [0.        , 0.4533864 , 0.        , 0.        , 0.        ,\n",
       "        0.        , 0.        , 0.4533864 , 0.4533864 , 0.        ,\n",
       "        0.        , 0.35745504, 0.35745504, 0.        , 0.        ,\n",
       "        0.        , 0.        , 0.35745504, 0.        , 0.        ,\n",
       "        0.        ],\n",
       "       [0.46516193, 0.        , 0.        , 0.46516193, 0.        ,\n",
       "        0.        , 0.46516193, 0.        , 0.        , 0.46516193,\n",
       "        0.        , 0.        , 0.36673901, 0.        , 0.        ,\n",
       "        0.        , 0.        , 0.        , 0.        , 0.        ,\n",
       "        0.        ],\n",
       "       [0.        , 0.        , 0.        , 0.        , 0.        ,\n",
       "        0.43671931, 0.        , 0.        , 0.        , 0.        ,\n",
       "        0.        , 0.34431452, 0.        , 0.        , 0.43671931,\n",
       "        0.43671931, 0.        , 0.34431452, 0.43671931, 0.        ,\n",
       "        0.        ]])"
      ]
     },
     "execution_count": 11,
     "metadata": {},
     "output_type": "execute_result"
    }
   ],
   "source": [
    "doc_vector.toarray()"
   ]
  },
  {
   "cell_type": "code",
   "execution_count": 12,
   "id": "a67c1bbb",
   "metadata": {},
   "outputs": [
    {
     "data": {
      "text/plain": [
       "array([[0.        , 0.        , 0.        , 0.        , 0.        ,\n",
       "        0.        , 0.        , 0.        , 0.        , 0.        ,\n",
       "        0.        , 0.70710678, 0.        , 0.        , 0.        ,\n",
       "        0.        , 0.        , 0.70710678, 0.        , 0.        ,\n",
       "        0.        ]])"
      ]
     },
     "execution_count": 12,
     "metadata": {},
     "output_type": "execute_result"
    }
   ],
   "source": [
    "query_vector=vector.transform([preprocessed_query])\n",
    "query_vector.toarray()"
   ]
  },
  {
   "cell_type": "code",
   "execution_count": 13,
   "id": "331cecba",
   "metadata": {},
   "outputs": [],
   "source": [
    "similarity=cosine_similarity(doc_vector,query_vector)"
   ]
  },
  {
   "cell_type": "code",
   "execution_count": 14,
   "id": "736b39ec",
   "metadata": {},
   "outputs": [
    {
     "data": {
      "text/plain": [
       "array([[0.        ],\n",
       "       [0.50551777],\n",
       "       [0.        ],\n",
       "       [0.48693426]])"
      ]
     },
     "execution_count": 14,
     "metadata": {},
     "output_type": "execute_result"
    }
   ],
   "source": [
    "similarity"
   ]
  },
  {
   "cell_type": "code",
   "execution_count": 15,
   "id": "b8d75d07",
   "metadata": {},
   "outputs": [
    {
     "data": {
      "text/plain": [
       "array([[0],\n",
       "       [2],\n",
       "       [3],\n",
       "       [1]], dtype=int64)"
      ]
     },
     "execution_count": 15,
     "metadata": {},
     "output_type": "execute_result"
    }
   ],
   "source": [
    "np.argsort(similarity,axis=0)"
   ]
  },
  {
   "cell_type": "code",
   "execution_count": 16,
   "id": "6a32c25e",
   "metadata": {},
   "outputs": [],
   "source": [
    "reranked_indices=np.argsort(similarity,axis=0)[::-1].flatten()"
   ]
  },
  {
   "cell_type": "code",
   "execution_count": 17,
   "id": "1696f8ab",
   "metadata": {},
   "outputs": [
    {
     "data": {
      "text/plain": [
       "array([1, 3, 2, 0], dtype=int64)"
      ]
     },
     "execution_count": 17,
     "metadata": {},
     "output_type": "execute_result"
    }
   ],
   "source": [
    "reranked_indices"
   ]
  },
  {
   "cell_type": "code",
   "execution_count": 18,
   "id": "ab2d00d4",
   "metadata": {},
   "outputs": [
    {
     "data": {
      "text/plain": [
       "['Keywords are important for keyword-based search.',\n",
       " 'Keyword-based search relies on sparse embeddings.',\n",
       " 'Document analysis involves extracting keywords.',\n",
       " 'This is a list which containing sample documents.']"
      ]
     },
     "execution_count": 18,
     "metadata": {},
     "output_type": "execute_result"
    }
   ],
   "source": [
    "ranked_documents=[documents[i] for i in reranked_indices]\n",
    "ranked_documents"
   ]
  },
  {
   "cell_type": "code",
   "execution_count": 19,
   "id": "6065297d",
   "metadata": {},
   "outputs": [
    {
     "name": "stdout",
     "output_type": "stream",
     "text": [
      "Rank-1: Keywords are important for keyword-based search.\n",
      "Rank-2: Keyword-based search relies on sparse embeddings.\n",
      "Rank-3: Document analysis involves extracting keywords.\n",
      "Rank-4: This is a list which containing sample documents.\n"
     ]
    }
   ],
   "source": [
    "for i , doc in enumerate(ranked_documents):\n",
    "    print(f\"Rank-{i+1}: {ranked_documents[i]}\")"
   ]
  },
  {
   "cell_type": "markdown",
   "id": "0b97e02e",
   "metadata": {},
   "source": [
    "### Vector search"
   ]
  },
  {
   "cell_type": "code",
   "execution_count": 20,
   "id": "d57c233d",
   "metadata": {},
   "outputs": [],
   "source": [
    "document_embedding=np.array([\n",
    "    [0.524,0.364,0.452,0.247,0.854,0.451],\n",
    "    [0.542,0.125,0.478,0.457,0.247,0.364],\n",
    "    [0.142,0.257,0.542,0.654,0.985,0.845],\n",
    "    [0.254,0.358,0.247,0.365,0.245,0.524]\n",
    "])"
   ]
  },
  {
   "cell_type": "code",
   "execution_count": 21,
   "id": "6eb00945",
   "metadata": {},
   "outputs": [],
   "source": [
    "query_embedding=np.array([[0.254,0.478,0.654,0.358,0.542,0.245]])"
   ]
  },
  {
   "cell_type": "code",
   "execution_count": 22,
   "id": "ae7f818c",
   "metadata": {},
   "outputs": [
    {
     "data": {
      "text/plain": [
       "array([[0.9101004 ],\n",
       "       [0.84324332],\n",
       "       [0.85976582],\n",
       "       [0.84701513]])"
      ]
     },
     "execution_count": 22,
     "metadata": {},
     "output_type": "execute_result"
    }
   ],
   "source": [
    "similariry_emb=cosine_similarity(document_embedding,query_embedding)\n",
    "similariry_emb"
   ]
  },
  {
   "cell_type": "code",
   "execution_count": 23,
   "id": "539bb279",
   "metadata": {},
   "outputs": [],
   "source": [
    "reranked_indices=np.argsort(similariry_emb,axis=0)[::-1].flatten()"
   ]
  },
  {
   "cell_type": "code",
   "execution_count": 24,
   "id": "e507ad74",
   "metadata": {},
   "outputs": [
    {
     "data": {
      "text/plain": [
       "array([0, 2, 3, 1], dtype=int64)"
      ]
     },
     "execution_count": 24,
     "metadata": {},
     "output_type": "execute_result"
    }
   ],
   "source": [
    "reranked_indices"
   ]
  },
  {
   "cell_type": "code",
   "execution_count": 25,
   "id": "d42a5bc0",
   "metadata": {},
   "outputs": [
    {
     "data": {
      "text/plain": [
       "[array([0.524, 0.364, 0.452, 0.247, 0.854, 0.451]),\n",
       " array([0.142, 0.257, 0.542, 0.654, 0.985, 0.845]),\n",
       " array([0.254, 0.358, 0.247, 0.365, 0.245, 0.524]),\n",
       " array([0.542, 0.125, 0.478, 0.457, 0.247, 0.364])]"
      ]
     },
     "execution_count": 25,
     "metadata": {},
     "output_type": "execute_result"
    }
   ],
   "source": [
    "ranked_documents=[document_embedding[i] for i in reranked_indices]\n",
    "ranked_documents"
   ]
  },
  {
   "cell_type": "code",
   "execution_count": 26,
   "id": "1b4bb847",
   "metadata": {},
   "outputs": [],
   "source": [
    "from langchain_community.document_loaders import PyPDFLoader"
   ]
  },
  {
   "cell_type": "code",
   "execution_count": 27,
   "id": "6d9b0508",
   "metadata": {},
   "outputs": [],
   "source": [
    "loader=PyPDFLoader(r\"F:\\Tapas\\Learning\\GenAI\\data\\2501.09136v3.pdf\")\n",
    "docs=loader.load()"
   ]
  },
  {
   "cell_type": "code",
   "execution_count": 28,
   "id": "dfaa5eda",
   "metadata": {},
   "outputs": [
    {
     "data": {
      "text/plain": [
       "39"
      ]
     },
     "execution_count": 28,
     "metadata": {},
     "output_type": "execute_result"
    }
   ],
   "source": [
    "len(docs)"
   ]
  },
  {
   "cell_type": "code",
   "execution_count": 29,
   "id": "3a03ed58",
   "metadata": {},
   "outputs": [],
   "source": [
    "from langchain_text_splitters import RecursiveCharacterTextSplitter\n",
    "spliter=RecursiveCharacterTextSplitter(chunk_size=500,chunk_overlap=50)"
   ]
  },
  {
   "cell_type": "code",
   "execution_count": 30,
   "id": "0c0b0867",
   "metadata": {},
   "outputs": [
    {
     "name": "stdout",
     "output_type": "stream",
     "text": [
      "250\n"
     ]
    }
   ],
   "source": [
    "splited_docs=spliter.split_documents(docs)\n",
    "print(len(splited_docs))"
   ]
  },
  {
   "cell_type": "code",
   "execution_count": 31,
   "id": "8dc7ddd4",
   "metadata": {},
   "outputs": [
    {
     "data": {
      "text/plain": [
       "Document(metadata={'producer': 'pdfTeX-1.40.25', 'creator': 'LaTeX with hyperref', 'creationdate': '2025-02-05T01:26:00+00:00', 'author': '', 'keywords': '', 'moddate': '2025-02-05T01:26:00+00:00', 'ptex.fullbanner': 'This is pdfTeX, Version 3.141592653-2.6-1.40.25 (TeX Live 2023) kpathsea version 6.3.5', 'subject': '', 'title': '', 'trapped': '/False', 'source': 'F:\\\\Tapas\\\\Learning\\\\GenAI\\\\data\\\\2501.09136v3.pdf', 'total_pages': 39, 'page': 0, 'page_label': '1'}, page_content='AGENTIC RETRIEVAL -AUGMENTED GENERATION : A S URVEY ON\\nAGENTIC RAG\\nAditi Singh\\nDepartment of Computer Science\\nCleveland State University\\nCleveland, OH, USA\\na.singh22@csuohio.edu\\nAbul Ehtesham\\nThe Davey Tree Expert Company\\nKent, OH, USA\\nabul.ehtesham@davey.com\\nSaket Kumar\\nThe MathWorks Inc\\nNatick, MA, USA\\nsaketk@mathworks.com\\nTala Talaei Khoei\\nKhoury College of Computer Science\\nRoux Institute at Northeastern University\\nPortland, ME, USA\\nt.talaeikhoei@northeastern.edu\\nABSTRACT')"
      ]
     },
     "execution_count": 31,
     "metadata": {},
     "output_type": "execute_result"
    }
   ],
   "source": [
    "splited_docs[0]"
   ]
  },
  {
   "cell_type": "code",
   "execution_count": 32,
   "id": "f0e38dcf",
   "metadata": {},
   "outputs": [],
   "source": [
    "from langchain_openai.embeddings import OpenAIEmbeddings\n",
    "import os\n",
    "openai_api=os.getenv(\"OPENAI_API_KEY\")\n",
    "\n",
    "embedding_model=OpenAIEmbeddings(model=\"text-embedding-ada-002\",api_key=openai_api)"
   ]
  },
  {
   "cell_type": "code",
   "execution_count": 33,
   "id": "a8bbfeef",
   "metadata": {},
   "outputs": [
    {
     "data": {
      "text/plain": [
       "1536"
      ]
     },
     "execution_count": 33,
     "metadata": {},
     "output_type": "execute_result"
    }
   ],
   "source": [
    "len(embedding_model.embed_query(\"Hello How are you?\"))"
   ]
  },
  {
   "cell_type": "code",
   "execution_count": 34,
   "id": "fb5b076c",
   "metadata": {},
   "outputs": [],
   "source": [
    "from langchain_chroma import Chroma"
   ]
  },
  {
   "cell_type": "code",
   "execution_count": 35,
   "id": "ddfec3a8",
   "metadata": {},
   "outputs": [],
   "source": [
    "vector_store=Chroma(collection_name=\"documents_data\",embedding_function=embedding_model)"
   ]
  },
  {
   "cell_type": "code",
   "execution_count": 36,
   "id": "0043221d",
   "metadata": {},
   "outputs": [
    {
     "data": {
      "text/plain": [
       "['552c3aff-b7a5-46b7-8200-8452bf84afe3',\n",
       " 'c5831dff-61b3-4a01-9f04-a877843aa272',\n",
       " 'e7a4a243-f19f-4f6d-aa6e-39bca45f5dfb',\n",
       " '88817a65-4ef1-4a05-ab42-1e5a1a63dcb3',\n",
       " 'e66f2041-f66e-4eb2-9af3-83dacf9a7d98',\n",
       " '35248b46-282a-4fe4-9ce8-34bc0bbb42bf',\n",
       " '72a3612b-9bdb-4eb1-a2df-6ba1dd2c34ae',\n",
       " '5effb0e2-c527-4e2e-8a46-4348bfdf9366',\n",
       " '099b6c2f-34a7-477a-a6d6-41e990baa19f',\n",
       " '87285047-8f69-4cbe-ba02-8dbcd91180e7',\n",
       " '989261ee-6e42-48c3-ba72-69d00229808f',\n",
       " 'aec7267e-3a77-4b65-b500-c7a95a8fed2a',\n",
       " '6d3f1c10-6f71-41bf-99e1-bc342f4759ce',\n",
       " '3b73ac18-909e-4465-890c-0e3894a69fc7',\n",
       " 'eb446106-9ae9-4f33-9078-d9cc965cb7d9',\n",
       " '84f3b04f-7f45-4a23-919d-4b6fc2e5e18c',\n",
       " '5a7433cf-8c3f-4b6d-9d33-af6d36083bb7',\n",
       " '5ec446d4-d245-46ef-815d-9209f9a7d0be',\n",
       " '1c25aa77-cd24-44e2-871b-913cea6ca779',\n",
       " '29326bbf-6dea-4cea-8b6d-dc2b0a4f0c4c',\n",
       " '097f6143-e366-441a-aa27-bd7d0337ef18',\n",
       " 'cfa9aa6f-cb77-484d-b79a-41ac71cae1d3',\n",
       " '2369c006-d3a6-49e0-b0b3-eeec2e8576bf',\n",
       " '98213ee9-1fce-478f-b788-2d09ad9cac5c',\n",
       " '76b30408-59e1-496a-bcfa-5494ca98e1bd',\n",
       " '246a6edc-9120-43c1-b5e2-7c1b556ceb1a',\n",
       " '7a93fd6c-9eb4-49d5-9525-2b0adb4023f7',\n",
       " '79926281-42f1-4b20-b0b5-9faf2ca3907a',\n",
       " '974dfe76-49e9-46f1-9b4a-ad7f270725ff',\n",
       " '84de2327-949d-4c69-9f98-e4c333e5f625',\n",
       " '24af354a-160e-4809-9c34-f989a6500f22',\n",
       " 'a56628e7-d907-46df-9c92-8130a6c49eba',\n",
       " '6682d4ac-e470-43fe-a6df-35cb1a98404e',\n",
       " '1732f539-2475-426f-bf9b-ea6e76eb3895',\n",
       " '2e59e5a2-221a-439a-b267-40f56d218f14',\n",
       " '97c27b76-10fd-4505-a0ca-986e4301a695',\n",
       " '38984ab8-e510-46b3-9b28-0791d934363d',\n",
       " '34906058-9637-4480-ae99-f6bcef2cae82',\n",
       " '92d3e111-0543-474e-a737-107d9bc37c05',\n",
       " 'af0e35e0-63fb-4b52-b165-dc04e5bd4610',\n",
       " '31d6d3f3-3e9f-4839-8bd5-ab22909d1d02',\n",
       " 'dea75b52-df70-44fe-8052-5f57556ca25e',\n",
       " 'cbd543c6-af4a-4d35-977c-31d954d7b892',\n",
       " 'f6a46bc4-dd65-406e-ba36-9b2f0684583e',\n",
       " 'b184f24c-f596-4085-a418-ad5478a4e7ed',\n",
       " '8db38e6c-4f49-427e-902a-976b65ff7e41',\n",
       " '34dcc176-b991-48e1-95df-3e11c669f7cf',\n",
       " '60019e31-e7c9-4c62-a428-7c0662976b6d',\n",
       " '2b68891a-46ef-4333-8fde-7c0ee654dece',\n",
       " '8bfb5e5d-40d7-487d-80d0-05010e59a369',\n",
       " 'ec76f0e7-7334-4e8b-81ed-12906467a2ae',\n",
       " 'ac35b7bb-168a-4a42-9ac0-a74345c0f0eb',\n",
       " '9f9e207b-5a0e-4a35-9602-443427bd6ed4',\n",
       " '79d7b22f-9a73-48b8-9f28-abf0ccfb87a9',\n",
       " '604d1213-c4cd-4b76-8eed-50e3e9006eef',\n",
       " '4b550c17-73a0-41dd-8559-99aa3e1205e5',\n",
       " 'b8ea500d-0611-4739-9663-7029a4aad051',\n",
       " '4d243a02-fe41-4111-94d8-3b430db70e50',\n",
       " '8bc70c6b-e99e-4b5a-aac6-def4886771cd',\n",
       " 'c4eab39b-b36a-4f83-8237-75b2a8cf9d1c',\n",
       " 'bc32b97f-a421-4da2-89db-9764145d071a',\n",
       " 'a61347cd-53a5-424d-aec3-abc3a1ad2115',\n",
       " '47689180-d62c-480c-a334-d373ebef8414',\n",
       " '9eb3475c-acdd-43f7-8716-0484a3981602',\n",
       " 'dacf2b02-973d-4e53-80a9-4ce283214c3d',\n",
       " 'f57126ae-fe26-4885-9e7c-add536469558',\n",
       " '9dd3e340-817a-48fb-8f95-002e650f6f28',\n",
       " 'bac5c096-5c84-4ec4-a52d-2433a480d20c',\n",
       " '13ada114-1c51-4025-bbe4-dff4fae06b23',\n",
       " '1bef0e89-a108-4aa9-84d2-96dc23a9699e',\n",
       " '573ae52d-c5aa-4ac9-97ce-e4ca7097919c',\n",
       " 'e918a33b-e774-408f-bfeb-3d722ca52c8a',\n",
       " '0cf1fbb8-5404-4b68-b3f4-25cfca1a6a65',\n",
       " '43d98707-76d2-4a3a-a842-e90031ff6177',\n",
       " '61cac54e-ed2e-42b1-915c-dfd86d9a2af7',\n",
       " 'f1be4eb8-e7d5-4955-8c04-7e3dd03b6cde',\n",
       " 'a25529f5-8f7a-4f18-a238-df5b71762d13',\n",
       " 'f3bf3142-a1a5-42fd-b269-04c9e1fd83d6',\n",
       " 'dffbff5f-6e7d-4b3f-98b9-82865a87b6bf',\n",
       " 'ef787aab-4c87-4032-83d8-9e702af29cb7',\n",
       " '5fc172c1-5865-466f-8d18-333577c8d980',\n",
       " 'cec1ed8d-e15f-4fd0-8ee7-5085c6e4d199',\n",
       " 'f535edf1-f18a-47fd-9a66-e9e661045125',\n",
       " 'c31dbb88-f0f4-4a8a-bad0-7b03b0ae0a76',\n",
       " '03d0716e-aaca-411e-870b-71b4601e8446',\n",
       " '14bb7127-da73-4498-b63e-638b36924296',\n",
       " 'e678c2f4-83d3-4e8c-aad0-8ada670d82e2',\n",
       " 'a853d582-03cb-488b-826b-00302e697435',\n",
       " '09fc343d-ed07-4c00-896d-1269d79f197e',\n",
       " 'd75e6557-c2f3-4120-afb7-bcbc0001c1b2',\n",
       " '9c5dbf4c-ade5-4aad-bd8c-fbce70e9293c',\n",
       " '9c32af54-6440-4881-acc0-9bbc03c04962',\n",
       " '62866429-f5d1-4766-98b5-6c5fe0436db2',\n",
       " '02fd2cd0-74c6-452d-ae14-2300e44e84a4',\n",
       " 'aca93b38-7a17-42a0-a95d-b4c2748dab25',\n",
       " 'f4497446-509b-4ab6-abd8-494eb5b9b177',\n",
       " '38278635-52d9-4c92-9227-98e98718eaf2',\n",
       " '0131079a-2566-4ea2-8ac1-0b6e355929bb',\n",
       " '82e1835f-b471-48af-9025-5278b3d3a092',\n",
       " '5a91890f-56e9-433f-93b9-c76498061bb6',\n",
       " 'e5e14240-7f93-45f2-a8e3-a8450bf9f78a',\n",
       " '7de9e5ce-bc01-40fb-b505-aeb0554c65da',\n",
       " '30d33e9c-c1b4-437f-8b4b-201e1cbe7938',\n",
       " 'ebfd22a7-020f-44da-b216-c78f41262392',\n",
       " 'e5c1c5f5-4dad-4a77-bbf9-4cf8421b93c1',\n",
       " 'b2cfe21b-e5e0-43a6-8126-31be96333eb9',\n",
       " 'deb025b4-2318-41cc-9c5e-b14bf2206144',\n",
       " 'b19a7a62-88af-4aa0-bdfe-cddea612944f',\n",
       " '8335e849-847c-44f3-a953-917c1912465d',\n",
       " '7a97ea39-418d-4dc2-b070-1598a3a9f2dc',\n",
       " '0028f41d-96f6-4483-8f9a-34ed2132e97a',\n",
       " '48f8d106-6fe9-4fe5-8430-f2eea2147575',\n",
       " '75a3f522-460d-4152-a055-65a3713855c8',\n",
       " '0c710840-8177-496a-b6a7-75f233e9da81',\n",
       " 'd20d48e9-769e-4066-b68a-5bce685e6e00',\n",
       " 'e38bc9b7-7dcd-49ed-acfa-4f6fdb572879',\n",
       " 'de340f48-b475-4e75-b61e-c31883cddba7',\n",
       " '4be9fa9f-66f3-431f-b6cf-5f8a4fcc3ac1',\n",
       " '6b90ba74-f369-473d-950f-906a29454825',\n",
       " '37ee517c-557c-4976-88bf-faea46e3a27b',\n",
       " 'f5ee2f9b-955f-4f43-8123-b8d65ccf788a',\n",
       " '3fd2b242-f2a0-4a30-8d0e-b0c6ef006658',\n",
       " 'cca07451-2b0b-4eb7-a2e6-7c84ef415847',\n",
       " 'd04c3513-a7d9-48b1-b056-5499f8477b65',\n",
       " 'e94fb809-eb2f-44e1-8e4c-b4d14bd84811',\n",
       " '86518c71-ac46-408f-8384-505ddb5e1935',\n",
       " '78e146c9-ad90-43f0-80ad-8b919eec5d92',\n",
       " '728ed909-6077-46e0-809a-c08cdbef59ae',\n",
       " 'e5e17b61-19b3-4f21-8678-a317b14cc42d',\n",
       " '7af3869e-95c5-4883-a5f0-b4e333aee8ff',\n",
       " '66393ec7-720f-4e9d-9093-a58debc6d908',\n",
       " '22fa726f-27c4-4f69-9292-a73a62611151',\n",
       " '9218109e-c84d-4ca9-94ad-fe12f6e03f0d',\n",
       " '84fd7a4b-94ce-40c4-9ef1-dc6055274922',\n",
       " '0d119c0c-4a97-4d06-b155-b054a2a3f2c7',\n",
       " 'd78c6ff1-2d6e-4f8f-b793-bdb5ee790cd5',\n",
       " '178d62f4-1074-4022-9fc9-82e9526c6d7e',\n",
       " 'bf4279dd-af43-41a5-a85f-2f039b35bb8b',\n",
       " 'f793f391-817e-4138-aebf-c91058e89fa6',\n",
       " '8f235753-ab3e-4e62-b225-6850f4dcf32d',\n",
       " 'de26cf90-7ffc-4e6f-8020-4b35c5ad41fb',\n",
       " '60b552d5-e579-4edf-a2d9-176908d6efc3',\n",
       " '027923e6-a068-4d02-8dca-675edbd43e9c',\n",
       " '69c4bcf7-e980-40a7-84fb-98ce836873f3',\n",
       " 'a4fd2e28-3ee8-4b74-90ad-337c84bb0343',\n",
       " '21c113d9-f946-408c-8e04-944564594b3a',\n",
       " '6745ee3e-4ec3-41e0-9efb-8d0df4f2eda8',\n",
       " 'df8fa605-2c3f-4e09-9544-7c592a602b18',\n",
       " '693fa714-490f-4e3b-871f-01a9f3050f77',\n",
       " '68bb417a-72c8-47be-8bbf-ac396c4ebe44',\n",
       " '0c4868c8-cfb5-4bd6-afb6-f973b63e2b79',\n",
       " '70d241eb-755a-4263-9f49-76a7c3e4032f',\n",
       " 'ec9514fe-8a83-4005-b255-fc3663b7526e',\n",
       " '609a38b5-3d7f-4471-9fd2-e96d98baf85a',\n",
       " '1973ea80-36c1-4354-991e-14fb017d6e59',\n",
       " '95e9d9b5-846b-4b3f-a1b5-d1dadc941ac9',\n",
       " '7d978d85-2b74-4033-8d11-d018d583eb00',\n",
       " '3e40219f-3913-49ba-88f9-c9f94bd73bcc',\n",
       " '8a4c4249-9e26-47b7-ab71-a3619d6a3da2',\n",
       " '37b92ff9-1754-407d-a272-86f98623a9b4',\n",
       " '64d15831-b9db-422b-9f4f-318e52257a48',\n",
       " '438f9d4d-313f-471e-beec-7fbf8fc23dff',\n",
       " 'd912cacc-f06c-447f-be75-9d83076eacc3',\n",
       " 'f25df3ac-9c74-4933-a784-054fa85f8754',\n",
       " 'a293a505-cafc-47a2-b59a-e28328d6eb85',\n",
       " '9074f5e3-5240-40ed-a38c-241bc0099ebc',\n",
       " '48d56f51-58f4-4e0d-bcbf-5de59a891b8d',\n",
       " '69b470e4-c8a8-46a9-a928-a7b884369069',\n",
       " '0e8b515a-c1f3-4ec3-a4f7-e4148400a1b4',\n",
       " '3d2859b3-fbe6-4bd5-9232-fb9c141bedc2',\n",
       " 'f59621e8-2d9e-4557-b607-023ddb8fde2c',\n",
       " '3e274be0-ab0a-4dc6-b92b-493940f6a290',\n",
       " 'bdd21856-ca3b-4efb-8104-32e98368b3fc',\n",
       " '5d2e9cb1-0cba-4336-bc8c-29be1d57e477',\n",
       " '3e0b449a-69e6-47a4-b31a-bc844d393def',\n",
       " 'abe7fdb3-68f8-40ea-bbd5-943e8a6408df',\n",
       " 'f9460c49-7312-461c-9068-1986be3674de',\n",
       " '84a8dcd4-60f4-4542-b4ed-3b5297259b89',\n",
       " '91dd1348-5d46-4834-bd04-107f6ce392cd',\n",
       " 'e1b50bb2-8c43-43bc-9f8c-166b2015b4b6',\n",
       " '6d437da6-7764-4598-87a8-00f6b43b7d1c',\n",
       " 'f59dde5c-cba6-42df-b906-973db57ab7d2',\n",
       " '361d53d9-1ef0-43cc-a558-557a76920430',\n",
       " 'a9638ed3-3734-4d1a-bda8-e0f30bb4baf5',\n",
       " '375f1202-9c9e-4a3b-bfe2-8174ac0706c8',\n",
       " '24dbd728-4944-49de-84e1-8b385906208c',\n",
       " '478d7ba6-2ce2-4353-8104-0817eceb63c4',\n",
       " '1c271e6e-509a-4339-936f-a38a59a4f952',\n",
       " '308fa77b-b2cb-40f8-ae5d-9af57bef45cd',\n",
       " 'a269ba29-a2e7-43af-abaf-55f36e30d18a',\n",
       " '1fbc1d87-28ef-4905-a42e-8529f1247e47',\n",
       " '88ecff91-70f2-411c-9ca3-b88437208498',\n",
       " 'af1f5c7e-0745-4123-b499-7bfb94f2643a',\n",
       " '47a9cb16-07d1-4c57-befc-37431c30ca48',\n",
       " 'c01700a5-b0ca-4fd0-beb6-eab8fa298166',\n",
       " 'e11119e2-e9b7-428f-90cf-39174c82ddb1',\n",
       " '6be5e0d4-1acc-410d-ba8f-e6d0c005513a',\n",
       " '96eb6a77-062f-4ad0-a128-b57630541b31',\n",
       " '9f70df61-be09-4ea2-82c7-b858644df935',\n",
       " '31813192-4d35-41b8-81df-c7e29c39cc53',\n",
       " '7c93d5ed-3f7a-4efb-a0aa-8b01993a9ba4',\n",
       " '0c542727-fb8f-4ba4-a689-4e5fed356966',\n",
       " '06b37841-ff0d-42de-9fd0-8909c833c637',\n",
       " 'ffec1033-cea5-41ba-8415-6a940976873b',\n",
       " '6ac9c1c8-7e05-409c-b057-b991b5d4e71d',\n",
       " '60b0b55c-ff53-4844-97c8-76fd146223b0',\n",
       " 'c9da6e56-3205-45c1-b373-769ce75ac555',\n",
       " '5d4de0b4-fe46-4243-849b-1e0601ab898d',\n",
       " '337aa9c1-c2ca-4718-b77b-a03274f2868f',\n",
       " '8aabaad4-ed88-47f1-b7fb-c92ad8cf5275',\n",
       " '20b9378a-0b3d-4669-8b03-d239a3fa3116',\n",
       " '27830416-c7a5-4b9a-be03-d8e5846580e2',\n",
       " '9fdcdceb-05bc-49f4-abf7-4390e68db6d2',\n",
       " 'fe76c5d2-234e-4a1b-bc9d-5249d0a69980',\n",
       " '15dec70c-e4a0-4723-b1c5-8de37cb6c385',\n",
       " 'b4e948a4-2cb3-4ff2-bcab-dd90f8558ef3',\n",
       " '643e6a40-a7f2-4f1a-bc71-b63d3f62d1d2',\n",
       " '2b00d614-baeb-45d0-af35-8e24108bcbc3',\n",
       " '616b624c-ab36-4b82-a801-f0912be09310',\n",
       " '491bc444-fca9-420e-a9e6-186fce7c4ec7',\n",
       " '4d4e5605-b4f1-42a8-9fd4-efc85c4f4b5f',\n",
       " '4ad2ace3-02a7-477a-b82f-c85a591c2b9c',\n",
       " '25222d17-e630-4bdc-9c50-392ca525ecea',\n",
       " 'bc47ab59-edb6-416c-8d63-fde8de80aead',\n",
       " 'b09229b7-1393-4624-a1b5-9355119d3e31',\n",
       " '1ce0246a-0827-4aa2-939c-a5af17a7f98e',\n",
       " 'd75ece9b-0c0c-4d82-815f-f48b9abc8b0b',\n",
       " 'ec9c9093-c788-40af-80b2-58e562973eb3',\n",
       " 'bbd502d6-858b-455c-a899-ae13401842c8',\n",
       " 'c4a5807b-746f-4fe3-9ada-a32d2d4b1cdd',\n",
       " '8553c6c9-6646-41c6-96e8-ee120119bf1b',\n",
       " '200d3990-b4b1-41d9-8c77-2892befcc814',\n",
       " '61f0cd99-12fb-4a90-a1cd-23b8f18c6d09',\n",
       " '07232a81-5f02-45c6-8eac-a88a12299949',\n",
       " '4304fe88-6aa1-4758-9d65-0bffd1622097',\n",
       " '1ee14bfc-b848-4e15-b351-ab20f1c92803',\n",
       " '594905b7-17e4-455d-84ae-4fa872e0f76a',\n",
       " '6d47be08-67c9-40ef-b903-9d8e4e4bfdf7',\n",
       " '78416943-0b01-40d4-8b39-9e67fcc73a15',\n",
       " 'a880372a-b9c4-4874-88c1-891f517120b2',\n",
       " 'a033e5f4-43da-4c1f-88a6-3ddd38329727',\n",
       " '8c78c3ca-391c-4504-9748-b3afa1d4b722',\n",
       " '0d29efe3-5ef9-4dc9-84f2-8df02c39e57a',\n",
       " 'af523e8d-4205-46de-8bb2-506dd2664c32',\n",
       " 'f46754fe-3132-468f-bbf2-bb7c727a7475',\n",
       " '6e6197b9-7de8-4b81-810c-0dc5998b0a95',\n",
       " 'f0e2b019-1eba-4ba9-ad49-99d0fd4b7c97',\n",
       " '4212b33b-ec4f-4650-81a6-83b0436e8134',\n",
       " '4e015e79-9879-4d09-b197-03e2329a0a9d',\n",
       " '4302e9bd-a36c-4685-8d52-e43e31e78a52']"
      ]
     },
     "execution_count": 36,
     "metadata": {},
     "output_type": "execute_result"
    }
   ],
   "source": [
    "vector_store.add_documents(splited_docs)"
   ]
  },
  {
   "cell_type": "code",
   "execution_count": 37,
   "id": "86b0ca80",
   "metadata": {},
   "outputs": [],
   "source": [
    "retriever=vector_store.as_retriever(search_kwargs={\"k\":3})"
   ]
  },
  {
   "cell_type": "code",
   "execution_count": 38,
   "id": "b2baf4d8",
   "metadata": {},
   "outputs": [],
   "source": [
    "from langchain.retrievers import BM25Retriever,EnsembleRetriever"
   ]
  },
  {
   "cell_type": "code",
   "execution_count": 39,
   "id": "79bf5f0f",
   "metadata": {},
   "outputs": [],
   "source": [
    "keyword_retriever=BM25Retriever.from_documents(splited_docs)"
   ]
  },
  {
   "cell_type": "code",
   "execution_count": 40,
   "id": "6da1a63c",
   "metadata": {},
   "outputs": [],
   "source": [
    "keyword_retriever.k=3"
   ]
  },
  {
   "cell_type": "code",
   "execution_count": 41,
   "id": "085c8892",
   "metadata": {},
   "outputs": [],
   "source": [
    "ble_retriever=EnsembleRetriever(retrievers=[retriever,keyword_retriever],weights=[0.3,0.7])"
   ]
  },
  {
   "cell_type": "code",
   "execution_count": 42,
   "id": "186f77e9",
   "metadata": {},
   "outputs": [
    {
     "data": {
      "text/plain": [
       "[Document(metadata={'producer': 'pdfTeX-1.40.25', 'creator': 'LaTeX with hyperref', 'creationdate': '2025-02-05T01:26:00+00:00', 'author': '', 'keywords': '', 'moddate': '2025-02-05T01:26:00+00:00', 'ptex.fullbanner': 'This is pdfTeX, Version 3.141592653-2.6-1.40.25 (TeX Live 2023) kpathsea version 6.3.5', 'subject': '', 'title': '', 'trapped': '/False', 'source': 'F:\\\\Tapas\\\\Learning\\\\GenAI\\\\data\\\\2501.09136v3.pdf', 'total_pages': 39, 'page': 34, 'page_label': '35'}, page_content='Reflexion: Language agents with verbal reinforcement learning, 2023.\\n[29] Taicheng Guo, Xiuying Chen, Yaqi Wang, Ruidi Chang, Shichao Pei, Nitesh V . Chawla, Olaf Wiest, and\\nXiangliang Zhang. Large language model based multi-agents: A survey of progress and challenges, 2024.\\n[30] Weaviate Blog. What is agentic rag? https://weaviate.io/blog/what-is-agentic-rag#:~:text=is%\\n20Agentic%20RAG%3F-,%E2%80%8B,of%20the%20non%2Dagentic%20pipeline. Accessed: 2025-01-14.'),\n",
       " Document(metadata={'producer': 'pdfTeX-1.40.25', 'creator': 'LaTeX with hyperref', 'creationdate': '2025-02-05T01:26:00+00:00', 'author': '', 'keywords': '', 'moddate': '2025-02-05T01:26:00+00:00', 'ptex.fullbanner': 'This is pdfTeX, Version 3.141592653-2.6-1.40.25 (TeX Live 2023) kpathsea version 6.3.5', 'subject': '', 'title': '', 'trapped': '/False', 'source': 'F:\\\\Tapas\\\\Learning\\\\GenAI\\\\data\\\\2501.09136v3.pdf', 'total_pages': 39, 'page': 22, 'page_label': '23'}, page_content='Use Case: Customer Support Assistant\\nPrompt: Why is my package delayed, and what alternatives do I have?\\nSystem Process (Adaptive RAG Workflow):\\n1. Query Classification:\\n• The classifier analyzes the query and determines it to be complex, requiring multi-step reasoning.\\n2. Dynamic Strategy Selection:\\n• The system activates a multi-step retrieval process based on the complexity classification.\\n3. Multi-Step Retrieval:\\n• Retrieves tracking details from the order database.'),\n",
       " Document(metadata={'producer': 'pdfTeX-1.40.25', 'creator': 'LaTeX with hyperref', 'creationdate': '2025-02-05T01:26:00+00:00', 'author': '', 'keywords': '', 'moddate': '2025-02-05T01:26:00+00:00', 'ptex.fullbanner': 'This is pdfTeX, Version 3.141592653-2.6-1.40.25 (TeX Live 2023) kpathsea version 6.3.5', 'subject': '', 'title': '', 'trapped': '/False', 'source': 'F:\\\\Tapas\\\\Learning\\\\GenAI\\\\data\\\\2501.09136v3.pdf', 'total_pages': 39, 'page': 21, 'page_label': '22'}, page_content='• Complex Queries: For multi-layered queries requiring iterative reasoning (e.g., \"How has the population of\\nCity X changed over the past decade, and what are the contributing factors?\"), the system employs multi-step\\nretrieval, progressively refining intermediate results to provide a comprehensive answer.\\nWorkflow: The Adaptive RAG system is built on three primary components:\\n1. Classifier Role:\\n• A smaller language model analyzes the query to predict its complexity.'),\n",
       " Document(id='5ec446d4-d245-46ef-815d-9209f9a7d0be', metadata={'producer': 'pdfTeX-1.40.25', 'source': 'F:\\\\Tapas\\\\Learning\\\\GenAI\\\\data\\\\2501.09136v3.pdf', 'keywords': '', 'total_pages': 39, 'trapped': '/False', 'page': 1, 'creationdate': '2025-02-05T01:26:00+00:00', 'moddate': '2025-02-05T01:26:00+00:00', 'creator': 'LaTeX with hyperref', 'subject': '', 'author': '', 'ptex.fullbanner': 'This is pdfTeX, Version 3.141592653-2.6-1.40.25 (TeX Live 2023) kpathsea version 6.3.5', 'page_label': '2', 'title': ''}, page_content='Retrieval-Augmented Generation (RAG) represents a significant advancement in the field of artificial intelligence,\\ncombining the generative capabilities of Large Language Models (LLMs) with real-time data retrieval. While LLMs\\nhave demonstrated remarkable capabilities in natural language processing, their reliance on static pre-trained data\\noften results in outdated or incomplete responses. RAG addresses this limitation by dynamically retrieving relevant'),\n",
       " Document(id='3b73ac18-909e-4465-890c-0e3894a69fc7', metadata={'ptex.fullbanner': 'This is pdfTeX, Version 3.141592653-2.6-1.40.25 (TeX Live 2023) kpathsea version 6.3.5', 'creationdate': '2025-02-05T01:26:00+00:00', 'page_label': '2', 'total_pages': 39, 'creator': 'LaTeX with hyperref', 'trapped': '/False', 'page': 1, 'producer': 'pdfTeX-1.40.25', 'subject': '', 'moddate': '2025-02-05T01:26:00+00:00', 'source': 'F:\\\\Tapas\\\\Learning\\\\GenAI\\\\data\\\\2501.09136v3.pdf', 'keywords': '', 'author': '', 'title': ''}, page_content='(Agentic RAG) [14], a paradigm that integrates agents into the RAG pipeline. Agentic RAG enables dynamic retrieval\\nstrategies, contextual understanding, and iterative refinement [ 15], allowing for adaptive and efficient information\\nprocessing. Unlike traditional RAG, Agentic RAG employs autonomous agents to orchestrate retrieval, filter relevant\\ninformation, and refine responses, excelling in scenarios requiring precision and adaptability. The overview of Agentic\\nRAG is in figure 1.'),\n",
       " Document(id='38984ab8-e510-46b3-9b28-0791d934363d', metadata={'subject': '', 'page_label': '6', 'creationdate': '2025-02-05T01:26:00+00:00', 'creator': 'LaTeX with hyperref', 'producer': 'pdfTeX-1.40.25', 'total_pages': 39, 'trapped': '/False', 'keywords': '', 'author': '', 'page': 5, 'source': 'F:\\\\Tapas\\\\Learning\\\\GenAI\\\\data\\\\2501.09136v3.pdf', 'title': '', 'ptex.fullbanner': 'This is pdfTeX, Version 3.141592653-2.6-1.40.25 (TeX Live 2023) kpathsea version 6.3.5', 'moddate': '2025-02-05T01:26:00+00:00'}, page_content='2.3.5 Agentic RAG\\nAgentic RAG represents a paradigm shift by introducing autonomous agents capable of dynamic decision-making\\nand workflow optimization. Unlike static systems, Agentic RAG employs iterative refinement and adaptive retrieval\\nstrategies to address complex, real-time, and multi-domain queries. This paradigm leverages the modularity of retrieval\\nand generation processes while introducing agent-based autonomy.\\n6')]"
      ]
     },
     "execution_count": 42,
     "metadata": {},
     "output_type": "execute_result"
    }
   ],
   "source": [
    "ble_retriever.invoke(\"what is rag?\")"
   ]
  },
  {
   "cell_type": "code",
   "execution_count": 43,
   "id": "6318913d",
   "metadata": {},
   "outputs": [
    {
     "data": {
      "text/plain": [
       "[Document(id='5ec446d4-d245-46ef-815d-9209f9a7d0be', metadata={'moddate': '2025-02-05T01:26:00+00:00', 'ptex.fullbanner': 'This is pdfTeX, Version 3.141592653-2.6-1.40.25 (TeX Live 2023) kpathsea version 6.3.5', 'page_label': '2', 'total_pages': 39, 'subject': '', 'trapped': '/False', 'keywords': '', 'creationdate': '2025-02-05T01:26:00+00:00', 'page': 1, 'creator': 'LaTeX with hyperref', 'source': 'F:\\\\Tapas\\\\Learning\\\\GenAI\\\\data\\\\2501.09136v3.pdf', 'producer': 'pdfTeX-1.40.25', 'author': '', 'title': ''}, page_content='Retrieval-Augmented Generation (RAG) represents a significant advancement in the field of artificial intelligence,\\ncombining the generative capabilities of Large Language Models (LLMs) with real-time data retrieval. While LLMs\\nhave demonstrated remarkable capabilities in natural language processing, their reliance on static pre-trained data\\noften results in outdated or incomplete responses. RAG addresses this limitation by dynamically retrieving relevant'),\n",
       " Document(id='eb446106-9ae9-4f33-9078-d9cc965cb7d9', metadata={'moddate': '2025-02-05T01:26:00+00:00', 'subject': '', 'creator': 'LaTeX with hyperref', 'page_label': '2', 'title': '', 'producer': 'pdfTeX-1.40.25', 'source': 'F:\\\\Tapas\\\\Learning\\\\GenAI\\\\data\\\\2501.09136v3.pdf', 'total_pages': 39, 'ptex.fullbanner': 'This is pdfTeX, Version 3.141592653-2.6-1.40.25 (TeX Live 2023) kpathsea version 6.3.5', 'creationdate': '2025-02-05T01:26:00+00:00', 'keywords': '', 'author': '', 'trapped': '/False', 'page': 1}, page_content='RAG is in figure 1.\\nThis survey explores the foundational principles, taxonomy, and applications of Agentic RAG. It provides a comprehen-\\nsive overview of RAG paradigms, such as Naïve RAG, Modular RAG, and Graph RAG [16], alongside their evolution\\ninto Agentic RAG systems. Key contributions include a detailed taxonomy of Agentic RAG frameworks, applications\\nacross domains such as healthcare [17, 18], finance, and education [19], and insights into implementation strategies,'),\n",
       " Document(id='3b73ac18-909e-4465-890c-0e3894a69fc7', metadata={'title': '', 'source': 'F:\\\\Tapas\\\\Learning\\\\GenAI\\\\data\\\\2501.09136v3.pdf', 'keywords': '', 'total_pages': 39, 'creationdate': '2025-02-05T01:26:00+00:00', 'subject': '', 'ptex.fullbanner': 'This is pdfTeX, Version 3.141592653-2.6-1.40.25 (TeX Live 2023) kpathsea version 6.3.5', 'author': '', 'creator': 'LaTeX with hyperref', 'producer': 'pdfTeX-1.40.25', 'moddate': '2025-02-05T01:26:00+00:00', 'trapped': '/False', 'page': 1, 'page_label': '2'}, page_content='(Agentic RAG) [14], a paradigm that integrates agents into the RAG pipeline. Agentic RAG enables dynamic retrieval\\nstrategies, contextual understanding, and iterative refinement [ 15], allowing for adaptive and efficient information\\nprocessing. Unlike traditional RAG, Agentic RAG employs autonomous agents to orchestrate retrieval, filter relevant\\ninformation, and refine responses, excelling in scenarios requiring precision and adaptability. The overview of Agentic\\nRAG is in figure 1.')]"
      ]
     },
     "execution_count": 43,
     "metadata": {},
     "output_type": "execute_result"
    }
   ],
   "source": [
    "retriever.invoke(\"What is rag?\")"
   ]
  },
  {
   "cell_type": "code",
   "execution_count": 44,
   "id": "3bd3a88b",
   "metadata": {},
   "outputs": [
    {
     "data": {
      "text/plain": [
       "[Document(metadata={'producer': 'pdfTeX-1.40.25', 'creator': 'LaTeX with hyperref', 'creationdate': '2025-02-05T01:26:00+00:00', 'author': '', 'keywords': '', 'moddate': '2025-02-05T01:26:00+00:00', 'ptex.fullbanner': 'This is pdfTeX, Version 3.141592653-2.6-1.40.25 (TeX Live 2023) kpathsea version 6.3.5', 'subject': '', 'title': '', 'trapped': '/False', 'source': 'F:\\\\Tapas\\\\Learning\\\\GenAI\\\\data\\\\2501.09136v3.pdf', 'total_pages': 39, 'page': 34, 'page_label': '35'}, page_content='Reflexion: Language agents with verbal reinforcement learning, 2023.\\n[29] Taicheng Guo, Xiuying Chen, Yaqi Wang, Ruidi Chang, Shichao Pei, Nitesh V . Chawla, Olaf Wiest, and\\nXiangliang Zhang. Large language model based multi-agents: A survey of progress and challenges, 2024.\\n[30] Weaviate Blog. What is agentic rag? https://weaviate.io/blog/what-is-agentic-rag#:~:text=is%\\n20Agentic%20RAG%3F-,%E2%80%8B,of%20the%20non%2Dagentic%20pipeline. Accessed: 2025-01-14.'),\n",
       " Document(metadata={'producer': 'pdfTeX-1.40.25', 'creator': 'LaTeX with hyperref', 'creationdate': '2025-02-05T01:26:00+00:00', 'author': '', 'keywords': '', 'moddate': '2025-02-05T01:26:00+00:00', 'ptex.fullbanner': 'This is pdfTeX, Version 3.141592653-2.6-1.40.25 (TeX Live 2023) kpathsea version 6.3.5', 'subject': '', 'title': '', 'trapped': '/False', 'source': 'F:\\\\Tapas\\\\Learning\\\\GenAI\\\\data\\\\2501.09136v3.pdf', 'total_pages': 39, 'page': 18, 'page_label': '19'}, page_content='orchestration overhead.\\n• Resource Allocation: Efficiently distributing tasks among tiers to avoid bottlenecks is non-trivial.\\nUse Case: Financial Analysis System\\nPrompt: What are the best investment options given the current market trends in renewable energy?\\nSystem Process (Hierarchical Agentic Workflow):\\n1. Top-Tier Agent: Assesses the query’s complexity and prioritizes reliable financial databases and\\neconomic indicators over less validated data sources.'),\n",
       " Document(metadata={'producer': 'pdfTeX-1.40.25', 'creator': 'LaTeX with hyperref', 'creationdate': '2025-02-05T01:26:00+00:00', 'author': '', 'keywords': '', 'moddate': '2025-02-05T01:26:00+00:00', 'ptex.fullbanner': 'This is pdfTeX, Version 3.141592653-2.6-1.40.25 (TeX Live 2023) kpathsea version 6.3.5', 'subject': '', 'title': '', 'trapped': '/False', 'source': 'F:\\\\Tapas\\\\Learning\\\\GenAI\\\\data\\\\2501.09136v3.pdf', 'total_pages': 39, 'page': 2, 'page_label': '3'}, page_content='with the query context.\\n• Generation: Combines retrieved information with the LLM’s pre-trained knowledge to generate coherent,\\ncontextually appropriate responses.\\n2.3 Evolution of RAG Paradigms\\nThe field of Retrieval-Augmented Generation (RAG) has evolved significantly to address the increasing complexity of\\nreal-world applications, where contextual accuracy, scalability, and multi-step reasoning are critical. What began as')]"
      ]
     },
     "execution_count": 44,
     "metadata": {},
     "output_type": "execute_result"
    }
   ],
   "source": [
    "keyword_retriever.invoke(\"What is rag?\")"
   ]
  },
  {
   "cell_type": "code",
   "execution_count": 45,
   "id": "e51260ee",
   "metadata": {},
   "outputs": [],
   "source": [
    "from langchain_core.prompts import ChatPromptTemplate\n",
    "from langchain_core.runnables import RunnablePassthrough\n",
    "\n",
    "# prepare PromptTemplate\n",
    "message = \"\"\"\n",
    "Answer the question below using only the context provided.\n",
    "\n",
    "{question}\n",
    "\n",
    "Context:\n",
    "{context}\n",
    "\"\"\"\n",
    "\n",
    "prompt_template = ChatPromptTemplate.from_messages([(\"human\", message)])"
   ]
  },
  {
   "cell_type": "code",
   "execution_count": 46,
   "id": "c4bf0927",
   "metadata": {},
   "outputs": [],
   "source": [
    "from dotenv import load_dotenv\n",
    "import os\n",
    "load_dotenv()\n",
    "os.environ[\"OPENAI_API_KEY\"]=os.getenv(\"OPENAI_API_KEY\")"
   ]
  },
  {
   "cell_type": "code",
   "execution_count": 47,
   "id": "f0b65d9c",
   "metadata": {},
   "outputs": [],
   "source": [
    "from langchain_openai import ChatOpenAI\n",
    "llm=ChatOpenAI(model='gpt-4o')"
   ]
  },
  {
   "cell_type": "code",
   "execution_count": 48,
   "id": "0be6d797",
   "metadata": {},
   "outputs": [],
   "source": [
    "from langchain_core.runnables import RunnablePassthrough"
   ]
  },
  {
   "cell_type": "code",
   "execution_count": 49,
   "id": "514411e8",
   "metadata": {},
   "outputs": [],
   "source": [
    "from langchain_core.output_parsers import StrOutputParser"
   ]
  },
  {
   "cell_type": "code",
   "execution_count": 51,
   "id": "bb6e5961",
   "metadata": {},
   "outputs": [],
   "source": [
    "rag_hybrid_chain = (\n",
    "    {\"context\": ble_retriever, \"question\": RunnablePassthrough()}\n",
    "    | prompt_template\n",
    "    | llm\n",
    "    | StrOutputParser()\n",
    ")"
   ]
  },
  {
   "cell_type": "code",
   "execution_count": 52,
   "id": "ddaf6616",
   "metadata": {},
   "outputs": [
    {
     "data": {
      "text/plain": [
       "'RAG, or Retrieval-Augmented Generation, represents a significant advancement in artificial intelligence. It combines the generative capabilities of Large Language Models (LLMs) with real-time data retrieval. While LLMs are capable in natural language processing, they often rely on static pre-trained data, which can result in outdated or incomplete responses. RAG addresses this limitation by dynamically retrieving relevant data to enhance the quality and relevance of the generated responses.'"
      ]
     },
     "execution_count": 52,
     "metadata": {},
     "output_type": "execute_result"
    }
   ],
   "source": [
    "response=rag_hybrid_chain.invoke(\"What is RAG?\")\n",
    "response"
   ]
  },
  {
   "cell_type": "code",
   "execution_count": 53,
   "id": "e185a2bc",
   "metadata": {},
   "outputs": [
    {
     "name": "stdout",
     "output_type": "stream",
     "text": [
      "RAG, or Retrieval-Augmented Generation, represents a significant advancement in artificial intelligence. It combines the generative capabilities of Large Language Models (LLMs) with real-time data retrieval. While LLMs are capable in natural language processing, they often rely on static pre-trained data, which can result in outdated or incomplete responses. RAG addresses this limitation by dynamically retrieving relevant data to enhance the quality and relevance of the generated responses.\n"
     ]
    }
   ],
   "source": [
    "print(response)"
   ]
  },
  {
   "cell_type": "code",
   "execution_count": 54,
   "id": "34656b6b",
   "metadata": {},
   "outputs": [],
   "source": [
    "rag_vector_chain = (\n",
    "    {\"context\": retriever, \"question\": RunnablePassthrough()}\n",
    "    | prompt_template\n",
    "    | llm\n",
    "    | StrOutputParser()\n",
    ")"
   ]
  },
  {
   "cell_type": "code",
   "execution_count": 55,
   "id": "1bac8334",
   "metadata": {},
   "outputs": [
    {
     "data": {
      "text/plain": [
       "'RAG stands for Retrieval-Augmented Generation. It represents a significant advancement in artificial intelligence that combines the generative capabilities of Large Language Models (LLMs) with real-time data retrieval. This approach addresses the limitation of LLMs that rely on static pre-trained data, which can result in outdated or incomplete responses by dynamically retrieving relevant information.'"
      ]
     },
     "execution_count": 55,
     "metadata": {},
     "output_type": "execute_result"
    }
   ],
   "source": [
    "response=rag_vector_chain.invoke(\"What is RAG?\")\n",
    "response"
   ]
  },
  {
   "cell_type": "code",
   "execution_count": 56,
   "id": "40189d1d",
   "metadata": {},
   "outputs": [],
   "source": [
    "rag_keyword_chain = (\n",
    "    {\"context\": keyword_retriever, \"question\": RunnablePassthrough()}\n",
    "    | prompt_template\n",
    "    | llm\n",
    "    | StrOutputParser()\n",
    ")"
   ]
  },
  {
   "cell_type": "code",
   "execution_count": 57,
   "id": "89a29353",
   "metadata": {},
   "outputs": [
    {
     "data": {
      "text/plain": [
       "'RAG in the provided context stands for \"Retrieval-Augmented Generation.\" It is a paradigm that has evolved to address complex real-world applications requiring contextual accuracy, scalability, and multi-step reasoning.'"
      ]
     },
     "execution_count": 57,
     "metadata": {},
     "output_type": "execute_result"
    }
   ],
   "source": [
    "response=rag_keyword_chain.invoke(\"What is RAG?\")\n",
    "response"
   ]
  },
  {
   "cell_type": "markdown",
   "id": "6d1d1297",
   "metadata": {},
   "source": [
    "## Vector_search retriever response:\n",
    "'RAG stands for Retrieval-Augmented Generation. It represents a significant advancement in artificial '\n",
    "'intelligence that combines the generative capabilities of Large Language Models (LLMs) with real-time '\n",
    "'data retrieval. This approach addresses the limitation of LLMs that rely on static pre-trained data, '\n",
    "'which can result in outdated or incomplete responses by dynamically retrieving relevant information.'\n",
    "\n",
    "\n",
    "## Hybrid search retriever response:\n",
    "'RAG, or Retrieval-Augmented Generation, represents a significant advancement in artificial'\n",
    "' intelligence. It combines the generative capabilities of Large Language Models (LLMs) with '\n",
    "'real-time data retrieval. While LLMs are capable in natural language processing, they often '\n",
    "'rely on static pre-trained data, which can result in outdated or incomplete responses. '\n",
    "'RAG addresses this limitation by dynamically retrieving relevant data to enhance the quality '\n",
    "'and relevance of the generated responses.'\n",
    "\n",
    "\n",
    "## Keyword search retriever response\n",
    "'RAG in the provided context stands for \"Retrieval-Augmented Generation.\" It is a paradigm that '\n",
    "'has evolved to address complex real-world applications requiring contextual accuracy, scalability, '\n",
    "'and multi-step reasoning.'\n"
   ]
  },
  {
   "cell_type": "code",
   "execution_count": 60,
   "id": "68651884",
   "metadata": {},
   "outputs": [
    {
     "data": {
      "text/plain": [
       "'The context provided does not contain any information regarding \"Abstractive Question Answering.\" Therefore, I cannot answer the question based on the available content.'"
      ]
     },
     "execution_count": 60,
     "metadata": {},
     "output_type": "execute_result"
    }
   ],
   "source": [
    "response=rag_hybrid_chain.invoke(\"What is Abstractive Question Answering?\")\n",
    "response"
   ]
  },
  {
   "cell_type": "code",
   "execution_count": null,
   "id": "c2b5cc51",
   "metadata": {},
   "outputs": [],
   "source": []
  }
 ],
 "metadata": {
  "kernelspec": {
   "display_name": "genai_venv",
   "language": "python",
   "name": "python3"
  },
  "language_info": {
   "codemirror_mode": {
    "name": "ipython",
    "version": 3
   },
   "file_extension": ".py",
   "mimetype": "text/x-python",
   "name": "python",
   "nbconvert_exporter": "python",
   "pygments_lexer": "ipython3",
   "version": "3.11.13"
  }
 },
 "nbformat": 4,
 "nbformat_minor": 5
}
