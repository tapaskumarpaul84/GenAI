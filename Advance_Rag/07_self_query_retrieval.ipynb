{
 "cells": [
  {
   "cell_type": "code",
   "execution_count": 1,
   "id": "3d39f61a",
   "metadata": {},
   "outputs": [
    {
     "name": "stdout",
     "output_type": "stream",
     "text": [
      "all ok\n"
     ]
    }
   ],
   "source": [
    "print(\"all ok\")"
   ]
  },
  {
   "cell_type": "code",
   "execution_count": 2,
   "id": "addde484",
   "metadata": {},
   "outputs": [],
   "source": [
    "from langchain_core.documents import Document"
   ]
  },
  {
   "cell_type": "code",
   "execution_count": 3,
   "id": "e475b363",
   "metadata": {},
   "outputs": [],
   "source": [
    "docs=[\n",
    "    Document(\n",
    "        page_content=\"A bunch of scientists bring back dinosaurs and mayhem breaks loose\",\n",
    "        metadata={\"year\": 1993, \"rating\": 7.7, \"genre\": \"science fiction\"},\n",
    "    ),\n",
    "    Document(\n",
    "        page_content=\"Leo DiCaprio gets lost in a dream within a dream within a dream within a ...\",\n",
    "        metadata={\"year\": 2010, \"director\": \"Christopher Nolan\", \"rating\": 8.2},\n",
    "    ),\n",
    "    Document(\n",
    "        page_content=\"A psychologist / detective gets lost in a series of dreams within dreams within dreams and Inception reused the idea\",\n",
    "        metadata={\"year\": 2006, \"director\": \"Satoshi Kon\", \"rating\": 8.6},\n",
    "    ),\n",
    "    Document(\n",
    "        page_content=\"A bunch of normal-sized women are supremely wholesome and some men pine after them\",\n",
    "        metadata={\"year\": 2019, \"director\": \"Greta Gerwig\", \"rating\": 8.3},\n",
    "    ),\n",
    "    Document(\n",
    "        page_content=\"Toys come alive and have a blast doing so\",\n",
    "        metadata={\"year\": 1995, \"genre\": \"animated\"},\n",
    "    ),\n",
    "    Document(\n",
    "        page_content=\"A hacker discovers reality is a simulation and leads a rebellion against the machines controlling it.\",\n",
    "        metadata={\"year\": 1999, \"director\": \"Lana Wachowski, Lilly Wachowski\", \"rating\": 8.7, \"genre\": \"science fiction\"},\n",
    "    ),\n",
    "    Document(\n",
    "        page_content=\"A young lion prince flees his kingdom only to learn the true meaning of responsibility and bravery.\",\n",
    "        metadata={\"year\": 1994, \"rating\": 8.5, \"genre\": \"animated\"},\n",
    "    ),\n",
    "    Document(\n",
    "        page_content=\"Batman faces off against the Joker, a criminal mastermind who plunges Gotham into chaos.\",\n",
    "        metadata={\"year\": 2008, \"director\": \"Christopher Nolan\", \"rating\": 9.0, \"genre\": \"action\"},\n",
    "    ),\n",
    "    Document(\n",
    "        page_content=\"A team of explorers travel through a wormhole in space in an attempt to ensure humanity's survival.\",\n",
    "        metadata={\"year\": 2014, \"director\": \"Christopher Nolan\", \"rating\": 8.6, \"genre\": \"science fiction\"},\n",
    "    )\n",
    "]"
   ]
  },
  {
   "cell_type": "code",
   "execution_count": 4,
   "id": "31ffa488",
   "metadata": {},
   "outputs": [],
   "source": [
    "from langchain_chroma import Chroma\n",
    "from langchain_openai.embeddings import OpenAIEmbeddings\n",
    "from langchain_openai import ChatOpenAI\n",
    "from langchain_core.output_parsers import StrOutputParser\n",
    "from langchain_core.runnables import RunnablePassthrough\n",
    "from langchain_core.prompts import PromptTemplate\n",
    "import os\n",
    "from dotenv import load_dotenv\n",
    "load_dotenv()\n",
    "\n",
    "os.environ[\"OPENAI_API_KEY\"]=os.getenv(\"OPENAI_API_KEY\")"
   ]
  },
  {
   "cell_type": "code",
   "execution_count": 5,
   "id": "00a2ae29",
   "metadata": {},
   "outputs": [],
   "source": [
    "embeddings=OpenAIEmbeddings(model=\"text-embedding-ada-002\")"
   ]
  },
  {
   "cell_type": "code",
   "execution_count": 6,
   "id": "f7db7ba3",
   "metadata": {},
   "outputs": [],
   "source": [
    "vectorstore=Chroma(collection_name=\"movie_data\",\n",
    "                   embedding_function=embeddings)"
   ]
  },
  {
   "cell_type": "code",
   "execution_count": 7,
   "id": "74b431bf",
   "metadata": {},
   "outputs": [
    {
     "data": {
      "text/plain": [
       "['61374c17-557e-44be-b00e-5912336acbda',\n",
       " '7f7192ed-7c98-43c7-8754-e408f28b2179',\n",
       " '3060c846-d393-49b0-9bae-c3ee1c744fd4',\n",
       " '031a6b9a-6e07-40d8-ab9f-718bca1b8a70',\n",
       " 'dad4934c-6588-4610-a662-e4e657f6d111',\n",
       " 'c052662b-04b0-4ce5-a58c-ea5de5f50c69',\n",
       " 'afdfa297-bb9c-409a-a24b-cb5687a60200',\n",
       " '0953bdcf-4f92-45d3-aaea-344aa0b53d63',\n",
       " '4ec84d6d-bca1-4628-b51d-b65464b06f83']"
      ]
     },
     "execution_count": 7,
     "metadata": {},
     "output_type": "execute_result"
    }
   ],
   "source": [
    "vectorstore.add_documents(docs)"
   ]
  },
  {
   "cell_type": "code",
   "execution_count": 8,
   "id": "f0684833",
   "metadata": {},
   "outputs": [],
   "source": [
    "retriever=vectorstore.as_retriever(search_type='similarity',search_kwargs={'k':3})"
   ]
  },
  {
   "cell_type": "code",
   "execution_count": 9,
   "id": "ceb605b6",
   "metadata": {},
   "outputs": [],
   "source": [
    "question1 = \"Which 1994 animated movie has a rating of 8.5?\"\n",
    "question2 = \"Which movie features Batman facing off against the Joker and who directed it?\"\n",
    "question3 = \"What genre is the movie 'The Matrix' and who directed it?\""
   ]
  },
  {
   "cell_type": "code",
   "execution_count": 10,
   "id": "6e1dffc0",
   "metadata": {},
   "outputs": [
    {
     "data": {
      "text/plain": [
       "[Document(id='dad4934c-6588-4610-a662-e4e657f6d111', metadata={'year': 1995, 'genre': 'animated'}, page_content='Toys come alive and have a blast doing so'),\n",
       " Document(id='afdfa297-bb9c-409a-a24b-cb5687a60200', metadata={'year': 1994, 'genre': 'animated', 'rating': 8.5}, page_content='A young lion prince flees his kingdom only to learn the true meaning of responsibility and bravery.'),\n",
       " Document(id='61374c17-557e-44be-b00e-5912336acbda', metadata={'genre': 'science fiction', 'rating': 7.7, 'year': 1993}, page_content='A bunch of scientists bring back dinosaurs and mayhem breaks loose')]"
      ]
     },
     "execution_count": 10,
     "metadata": {},
     "output_type": "execute_result"
    }
   ],
   "source": [
    "retriever.invoke(question1)"
   ]
  },
  {
   "cell_type": "code",
   "execution_count": 11,
   "id": "61cd1c48",
   "metadata": {},
   "outputs": [
    {
     "data": {
      "text/plain": [
       "[Document(id='0953bdcf-4f92-45d3-aaea-344aa0b53d63', metadata={'year': 2008, 'genre': 'action', 'rating': 9.0, 'director': 'Christopher Nolan'}, page_content='Batman faces off against the Joker, a criminal mastermind who plunges Gotham into chaos.'),\n",
       " Document(id='3060c846-d393-49b0-9bae-c3ee1c744fd4', metadata={'director': 'Satoshi Kon', 'year': 2006, 'rating': 8.6}, page_content='A psychologist / detective gets lost in a series of dreams within dreams within dreams and Inception reused the idea'),\n",
       " Document(id='7f7192ed-7c98-43c7-8754-e408f28b2179', metadata={'year': 2010, 'rating': 8.2, 'director': 'Christopher Nolan'}, page_content='Leo DiCaprio gets lost in a dream within a dream within a dream within a ...')]"
      ]
     },
     "execution_count": 11,
     "metadata": {},
     "output_type": "execute_result"
    }
   ],
   "source": [
    "retriever.invoke(question2)"
   ]
  },
  {
   "cell_type": "code",
   "execution_count": 12,
   "id": "e7c73d67",
   "metadata": {},
   "outputs": [
    {
     "data": {
      "text/plain": [
       "[Document(id='c052662b-04b0-4ce5-a58c-ea5de5f50c69', metadata={'director': 'Lana Wachowski, Lilly Wachowski', 'year': 1999, 'rating': 8.7, 'genre': 'science fiction'}, page_content='A hacker discovers reality is a simulation and leads a rebellion against the machines controlling it.'),\n",
       " Document(id='3060c846-d393-49b0-9bae-c3ee1c744fd4', metadata={'year': 2006, 'rating': 8.6, 'director': 'Satoshi Kon'}, page_content='A psychologist / detective gets lost in a series of dreams within dreams within dreams and Inception reused the idea'),\n",
       " Document(id='4ec84d6d-bca1-4628-b51d-b65464b06f83', metadata={'rating': 8.6, 'director': 'Christopher Nolan', 'year': 2014, 'genre': 'science fiction'}, page_content=\"A team of explorers travel through a wormhole in space in an attempt to ensure humanity's survival.\")]"
      ]
     },
     "execution_count": 12,
     "metadata": {},
     "output_type": "execute_result"
    }
   ],
   "source": [
    "retriever.invoke(question3)"
   ]
  },
  {
   "cell_type": "code",
   "execution_count": 13,
   "id": "10e67f46",
   "metadata": {},
   "outputs": [],
   "source": [
    "template=\"\"\"You are a help assistant. Answer the user query based on provided context.\n",
    "if response is not avaliable for the query then tell you don't know.\n",
    "Query: {query}\n",
    "Context: {context}\n",
    "Answer:\n",
    "\"\"\""
   ]
  },
  {
   "cell_type": "code",
   "execution_count": 14,
   "id": "c952b2d9",
   "metadata": {},
   "outputs": [],
   "source": [
    "prompt=PromptTemplate.from_template(template=template)"
   ]
  },
  {
   "cell_type": "code",
   "execution_count": 15,
   "id": "958b88ab",
   "metadata": {},
   "outputs": [],
   "source": [
    "llm=ChatOpenAI(model='gpt-4o')"
   ]
  },
  {
   "cell_type": "code",
   "execution_count": 16,
   "id": "a229b244",
   "metadata": {},
   "outputs": [],
   "source": [
    "chain=(\n",
    "    {\"context\": retriever,\"query\": RunnablePassthrough()}\n",
    "    | prompt\n",
    "    | llm\n",
    "    | StrOutputParser()\n",
    ")"
   ]
  },
  {
   "cell_type": "code",
   "execution_count": 17,
   "id": "08b8f74e",
   "metadata": {},
   "outputs": [
    {
     "data": {
      "text/plain": [
       "'The 1994 animated movie with a rating of 8.5 is about a young lion prince who flees his kingdom only to learn the true meaning of responsibility and bravery.'"
      ]
     },
     "execution_count": 17,
     "metadata": {},
     "output_type": "execute_result"
    }
   ],
   "source": [
    "response=chain.invoke(question1)\n",
    "response"
   ]
  },
  {
   "cell_type": "code",
   "execution_count": 18,
   "id": "d3893c70",
   "metadata": {},
   "outputs": [
    {
     "data": {
      "text/plain": [
       "'The movie featuring Batman facing off against the Joker is directed by Christopher Nolan.'"
      ]
     },
     "execution_count": 18,
     "metadata": {},
     "output_type": "execute_result"
    }
   ],
   "source": [
    "response=chain.invoke(question2)\n",
    "response"
   ]
  },
  {
   "cell_type": "code",
   "execution_count": 19,
   "id": "c993a774",
   "metadata": {},
   "outputs": [
    {
     "data": {
      "text/plain": [
       "\"The genre of the movie 'The Matrix' is science fiction, and it was directed by Lana Wachowski and Lilly Wachowski.\""
      ]
     },
     "execution_count": 19,
     "metadata": {},
     "output_type": "execute_result"
    }
   ],
   "source": [
    "response=chain.invoke(question3)\n",
    "response"
   ]
  },
  {
   "cell_type": "markdown",
   "id": "3ce3f1fc",
   "metadata": {},
   "source": [
    "## Self-Query-Retrieval"
   ]
  },
  {
   "cell_type": "code",
   "execution_count": 20,
   "id": "97c1e2f7",
   "metadata": {},
   "outputs": [],
   "source": [
    "from langchain.chains.query_constructor.base import AttributeInfo\n",
    "from langchain.retrievers.self_query.base import SelfQueryRetriever"
   ]
  },
  {
   "cell_type": "code",
   "execution_count": 21,
   "id": "4fd05dd8",
   "metadata": {},
   "outputs": [],
   "source": [
    "\n",
    "metadata_field_info = [\n",
    "    AttributeInfo(\n",
    "        name=\"genre\",\n",
    "        description=\"The genre of the movie. One of ['science fiction', 'comedy', 'drama', 'thriller', 'romance', 'action', 'animated']\",\n",
    "        type=\"string\",\n",
    "    ),\n",
    "    AttributeInfo(\n",
    "        name=\"year\",\n",
    "        description=\"The year the movie was released\",\n",
    "        type=\"integer\",\n",
    "    ),\n",
    "    AttributeInfo(\n",
    "        name=\"director\",\n",
    "        description=\"The name of the movie director\",\n",
    "        type=\"string\",\n",
    "    ),\n",
    "    AttributeInfo(\n",
    "        name=\"rating\", description=\"A 1-10 rating for the movie\", type=\"float\"\n",
    "    ),\n",
    "]\n",
    "   "
   ]
  },
  {
   "cell_type": "code",
   "execution_count": 22,
   "id": "531207e4",
   "metadata": {},
   "outputs": [
    {
     "data": {
      "text/plain": [
       "[AttributeInfo(name='genre', description=\"The genre of the movie. One of ['science fiction', 'comedy', 'drama', 'thriller', 'romance', 'action', 'animated']\", type='string'),\n",
       " AttributeInfo(name='year', description='The year the movie was released', type='integer'),\n",
       " AttributeInfo(name='director', description='The name of the movie director', type='string'),\n",
       " AttributeInfo(name='rating', description='A 1-10 rating for the movie', type='float')]"
      ]
     },
     "execution_count": 22,
     "metadata": {},
     "output_type": "execute_result"
    }
   ],
   "source": [
    "metadata_field_info"
   ]
  },
  {
   "cell_type": "code",
   "execution_count": 23,
   "id": "6d2157a6",
   "metadata": {},
   "outputs": [],
   "source": [
    "document_content_description = \"Brief summary of a movie\""
   ]
  },
  {
   "cell_type": "code",
   "execution_count": 24,
   "id": "1aeba1a9",
   "metadata": {},
   "outputs": [],
   "source": [
    "from langchain.chains.query_constructor.base import StructuredQueryOutputParser,get_query_constructor_prompt"
   ]
  },
  {
   "cell_type": "code",
   "execution_count": 25,
   "id": "5d8696f1",
   "metadata": {},
   "outputs": [],
   "source": [
    "prompt=get_query_constructor_prompt(document_content_description,metadata_field_info)"
   ]
  },
  {
   "cell_type": "code",
   "execution_count": 26,
   "id": "d4f22e82",
   "metadata": {},
   "outputs": [
    {
     "data": {
      "text/plain": [
       "FewShotPromptTemplate(input_variables=['query'], input_types={}, partial_variables={}, examples=[{'i': 1, 'data_source': '```json\\n{{\\n    \"content\": \"Lyrics of a song\",\\n    \"attributes\": {{\\n        \"artist\": {{\\n            \"type\": \"string\",\\n            \"description\": \"Name of the song artist\"\\n        }},\\n        \"length\": {{\\n            \"type\": \"integer\",\\n            \"description\": \"Length of the song in seconds\"\\n        }},\\n        \"genre\": {{\\n            \"type\": \"string\",\\n            \"description\": \"The song genre, one of \"pop\", \"rock\" or \"rap\"\"\\n        }}\\n    }}\\n}}\\n```', 'user_query': 'What are songs by Taylor Swift or Katy Perry about teenage romance under 3 minutes long in the dance pop genre', 'structured_request': '```json\\n{{\\n    \"query\": \"teenager love\",\\n    \"filter\": \"and(or(eq(\\\\\"artist\\\\\", \\\\\"Taylor Swift\\\\\"), eq(\\\\\"artist\\\\\", \\\\\"Katy Perry\\\\\")), lt(\\\\\"length\\\\\", 180), eq(\\\\\"genre\\\\\", \\\\\"pop\\\\\"))\"\\n}}\\n```'}, {'i': 2, 'data_source': '```json\\n{{\\n    \"content\": \"Lyrics of a song\",\\n    \"attributes\": {{\\n        \"artist\": {{\\n            \"type\": \"string\",\\n            \"description\": \"Name of the song artist\"\\n        }},\\n        \"length\": {{\\n            \"type\": \"integer\",\\n            \"description\": \"Length of the song in seconds\"\\n        }},\\n        \"genre\": {{\\n            \"type\": \"string\",\\n            \"description\": \"The song genre, one of \"pop\", \"rock\" or \"rap\"\"\\n        }}\\n    }}\\n}}\\n```', 'user_query': 'What are songs that were not published on Spotify', 'structured_request': '```json\\n{{\\n    \"query\": \"\",\\n    \"filter\": \"NO_FILTER\"\\n}}\\n```'}], example_prompt=PromptTemplate(input_variables=['data_source', 'i', 'structured_request', 'user_query'], input_types={}, partial_variables={}, template='<< Example {i}. >>\\nData Source:\\n{data_source}\\n\\nUser Query:\\n{user_query}\\n\\nStructured Request:\\n{structured_request}\\n'), suffix='<< Example 3. >>\\nData Source:\\n```json\\n{{\\n    \"content\": \"Brief summary of a movie\",\\n    \"attributes\": {{\\n    \"genre\": {{\\n        \"description\": \"The genre of the movie. One of [\\'science fiction\\', \\'comedy\\', \\'drama\\', \\'thriller\\', \\'romance\\', \\'action\\', \\'animated\\']\",\\n        \"type\": \"string\"\\n    }},\\n    \"year\": {{\\n        \"description\": \"The year the movie was released\",\\n        \"type\": \"integer\"\\n    }},\\n    \"director\": {{\\n        \"description\": \"The name of the movie director\",\\n        \"type\": \"string\"\\n    }},\\n    \"rating\": {{\\n        \"description\": \"A 1-10 rating for the movie\",\\n        \"type\": \"float\"\\n    }}\\n}}\\n}}\\n```\\n\\nUser Query:\\n{query}\\n\\nStructured Request:\\n', prefix='Your goal is to structure the user\\'s query to match the request schema provided below.\\n\\n<< Structured Request Schema >>\\nWhen responding use a markdown code snippet with a JSON object formatted in the following schema:\\n\\n```json\\n{{\\n    \"query\": string \\\\ text string to compare to document contents\\n    \"filter\": string \\\\ logical condition statement for filtering documents\\n}}\\n```\\n\\nThe query string should contain only text that is expected to match the contents of documents. Any conditions in the filter should not be mentioned in the query as well.\\n\\nA logical condition statement is composed of one or more comparison and logical operation statements.\\n\\nA comparison statement takes the form: `comp(attr, val)`:\\n- `comp` (eq | ne | gt | gte | lt | lte | contain | like | in | nin): comparator\\n- `attr` (string):  name of attribute to apply the comparison to\\n- `val` (string): is the comparison value\\n\\nA logical operation statement takes the form `op(statement1, statement2, ...)`:\\n- `op` (and | or | not): logical operator\\n- `statement1`, `statement2`, ... (comparison statements or logical operation statements): one or more statements to apply the operation to\\n\\nMake sure that you only use the comparators and logical operators listed above and no others.\\nMake sure that filters only refer to attributes that exist in the data source.\\nMake sure that filters only use the attributed names with its function names if there are functions applied on them.\\nMake sure that filters only use format `YYYY-MM-DD` when handling date data typed values.\\nMake sure that filters take into account the descriptions of attributes and only make comparisons that are feasible given the type of data being stored.\\nMake sure that filters are only used as needed. If there are no filters that should be applied return \"NO_FILTER\" for the filter value.')"
      ]
     },
     "execution_count": 26,
     "metadata": {},
     "output_type": "execute_result"
    }
   ],
   "source": [
    "prompt"
   ]
  },
  {
   "cell_type": "code",
   "execution_count": 27,
   "id": "31e13c60",
   "metadata": {},
   "outputs": [],
   "source": [
    "import lark\n",
    "output_parser=StructuredQueryOutputParser.from_components()"
   ]
  },
  {
   "cell_type": "code",
   "execution_count": 30,
   "id": "94681e89",
   "metadata": {},
   "outputs": [],
   "source": [
    "query_constructor= prompt | llm | output_parser\n"
   ]
  },
  {
   "cell_type": "code",
   "execution_count": 31,
   "id": "0fd6752b",
   "metadata": {},
   "outputs": [
    {
     "data": {
      "text/plain": [
       "StructuredQuery(query='taxi drivers', filter=Operation(operator=<Operator.AND: 'and'>, arguments=[Comparison(comparator=<Comparator.EQ: 'eq'>, attribute='genre', value='science fiction'), Comparison(comparator=<Comparator.GTE: 'gte'>, attribute='year', value=1990), Comparison(comparator=<Comparator.LT: 'lt'>, attribute='year', value=2000), Comparison(comparator=<Comparator.EQ: 'eq'>, attribute='director', value='Luc Besson')]), limit=None)"
      ]
     },
     "execution_count": 31,
     "metadata": {},
     "output_type": "execute_result"
    }
   ],
   "source": [
    "query_constructor.invoke(\n",
    "    {\"query\": \"What are some sci-fi movies from the 90's directed by Luc Besson about taxi drivers\"})"
   ]
  },
  {
   "cell_type": "code",
   "execution_count": 32,
   "id": "e7dca64f",
   "metadata": {},
   "outputs": [],
   "source": [
    "from langchain.retrievers.self_query.chroma import ChromaTranslator"
   ]
  },
  {
   "cell_type": "code",
   "execution_count": 34,
   "id": "f9263b1d",
   "metadata": {},
   "outputs": [],
   "source": [
    "retriever=SelfQueryRetriever(\n",
    "    query_constructor=query_constructor,\n",
    "    vectorstore=vectorstore,\n",
    "    structured_query_translator=ChromaTranslator(),\n",
    ")"
   ]
  },
  {
   "cell_type": "code",
   "execution_count": 35,
   "id": "fc3155f6",
   "metadata": {},
   "outputs": [
    {
     "data": {
      "text/plain": [
       "[Document(id='afdfa297-bb9c-409a-a24b-cb5687a60200', metadata={'rating': 8.5, 'year': 1994, 'genre': 'animated'}, page_content='A young lion prince flees his kingdom only to learn the true meaning of responsibility and bravery.')]"
      ]
     },
     "execution_count": 35,
     "metadata": {},
     "output_type": "execute_result"
    }
   ],
   "source": [
    "retriever.invoke(question1)"
   ]
  },
  {
   "cell_type": "code",
   "execution_count": 36,
   "id": "62581334",
   "metadata": {},
   "outputs": [
    {
     "data": {
      "text/plain": [
       "[Document(id='dad4934c-6588-4610-a662-e4e657f6d111', metadata={'genre': 'animated', 'year': 1995}, page_content='Toys come alive and have a blast doing so'),\n",
       " Document(id='afdfa297-bb9c-409a-a24b-cb5687a60200', metadata={'year': 1994, 'genre': 'animated', 'rating': 8.5}, page_content='A young lion prince flees his kingdom only to learn the true meaning of responsibility and bravery.')]"
      ]
     },
     "execution_count": 36,
     "metadata": {},
     "output_type": "execute_result"
    }
   ],
   "source": [
    "retriever.invoke(\"What's a movie after 1990 but before 2005 that's all about toys, and preferably is animated\")"
   ]
  },
  {
   "cell_type": "code",
   "execution_count": 46,
   "id": "783a3ae1",
   "metadata": {},
   "outputs": [],
   "source": [
    "from operator import itemgetter"
   ]
  },
  {
   "cell_type": "code",
   "execution_count": 50,
   "id": "0655f8f9",
   "metadata": {},
   "outputs": [],
   "source": [
    "\n",
    "template = \"\"\"Answer the question based only on the following context:\n",
    "{context}\n",
    "\n",
    "Question: {query}\n",
    "\"\"\"\n",
    "prompt_llm=PromptTemplate(template=template)"
   ]
  },
  {
   "cell_type": "code",
   "execution_count": 51,
   "id": "215e8b97",
   "metadata": {},
   "outputs": [],
   "source": [
    "self_query_chain=(\n",
    "    {\"context\": retriever, \"query\": RunnablePassthrough()}\n",
    "    | prompt_llm\n",
    "    | llm\n",
    "    | StrOutputParser()\n",
    "    \n",
    ")"
   ]
  },
  {
   "cell_type": "code",
   "execution_count": 52,
   "id": "e59b2f3f",
   "metadata": {},
   "outputs": [
    {
     "data": {
      "text/plain": [
       "'The movie \"Toys come alive and have a blast doing so\" fits your criteria. It is an animated movie released in 1995.'"
      ]
     },
     "execution_count": 52,
     "metadata": {},
     "output_type": "execute_result"
    }
   ],
   "source": [
    "\n",
    "text_reply = self_query_chain.invoke(\"What's a movie after 1990 but before 2005 that's all about toys, and preferably is animated\")\n",
    "text_reply"
   ]
  },
  {
   "cell_type": "code",
   "execution_count": 53,
   "id": "bb9a217d",
   "metadata": {},
   "outputs": [
    {
     "data": {
      "text/plain": [
       "\"The documents describe several movies with a rating higher than 7:\\n\\n1. **Document ID: 0953bdcf-4f92-45d3-aaea-344aa0b53d63**\\n   - **Title**: Not provided\\n   - **Director**: Christopher Nolan\\n   - **Year**: 2008\\n   - **Rating**: 9.0\\n   - **Genre**: Action\\n   - **Plot**: Batman faces off against the Joker, a criminal mastermind who plunges Gotham into chaos.\\n\\n2. **Document ID: afdfa297-bb9c-409a-a24b-cb5687a60200**\\n   - **Title**: Not provided\\n   - **Year**: 1994\\n   - **Rating**: 8.5\\n   - **Genre**: Animated\\n   - **Plot**: A young lion prince flees his kingdom only to learn the true meaning of responsibility and bravery.\\n\\n3. **Document ID: 4ec84d6d-bca1-4628-b51d-b65464b06f83**\\n   - **Title**: Not provided\\n   - **Director**: Christopher Nolan\\n   - **Year**: 2014\\n   - **Rating**: 8.6\\n   - **Genre**: Science Fiction\\n   - **Plot**: A team of explorers travel through a wormhole in space in an attempt to ensure humanity's survival.\\n\\n4. **Document ID: 61374c17-557e-44be-b00e-5912336acbda**\\n   - **Title**: Not provided\\n   - **Year**: 1993\\n   - **Rating**: 7.7\\n   - **Genre**: Science Fiction\\n   - **Plot**: A bunch of scientists bring back dinosaurs and mayhem breaks loose.\\n\\nAll these movies have ratings above 7 and fall into various genres including action, animated, and science fiction.\""
      ]
     },
     "execution_count": 53,
     "metadata": {},
     "output_type": "execute_result"
    }
   ],
   "source": [
    "text_reply = self_query_chain.invoke(\"Tell me about the movie which have rating more than 7.\")\n",
    "text_reply"
   ]
  },
  {
   "cell_type": "code",
   "execution_count": 54,
   "id": "34550b28",
   "metadata": {},
   "outputs": [
    {
     "name": "stdout",
     "output_type": "stream",
     "text": [
      "The documents describe several movies with a rating higher than 7:\n",
      "\n",
      "1. **Document ID: 0953bdcf-4f92-45d3-aaea-344aa0b53d63**\n",
      "   - **Title**: Not provided\n",
      "   - **Director**: Christopher Nolan\n",
      "   - **Year**: 2008\n",
      "   - **Rating**: 9.0\n",
      "   - **Genre**: Action\n",
      "   - **Plot**: Batman faces off against the Joker, a criminal mastermind who plunges Gotham into chaos.\n",
      "\n",
      "2. **Document ID: afdfa297-bb9c-409a-a24b-cb5687a60200**\n",
      "   - **Title**: Not provided\n",
      "   - **Year**: 1994\n",
      "   - **Rating**: 8.5\n",
      "   - **Genre**: Animated\n",
      "   - **Plot**: A young lion prince flees his kingdom only to learn the true meaning of responsibility and bravery.\n",
      "\n",
      "3. **Document ID: 4ec84d6d-bca1-4628-b51d-b65464b06f83**\n",
      "   - **Title**: Not provided\n",
      "   - **Director**: Christopher Nolan\n",
      "   - **Year**: 2014\n",
      "   - **Rating**: 8.6\n",
      "   - **Genre**: Science Fiction\n",
      "   - **Plot**: A team of explorers travel through a wormhole in space in an attempt to ensure humanity's survival.\n",
      "\n",
      "4. **Document ID: 61374c17-557e-44be-b00e-5912336acbda**\n",
      "   - **Title**: Not provided\n",
      "   - **Year**: 1993\n",
      "   - **Rating**: 7.7\n",
      "   - **Genre**: Science Fiction\n",
      "   - **Plot**: A bunch of scientists bring back dinosaurs and mayhem breaks loose.\n",
      "\n",
      "All these movies have ratings above 7 and fall into various genres including action, animated, and science fiction.\n"
     ]
    }
   ],
   "source": [
    "print(text_reply)"
   ]
  },
  {
   "cell_type": "code",
   "execution_count": null,
   "id": "08d3e56e",
   "metadata": {},
   "outputs": [],
   "source": []
  }
 ],
 "metadata": {
  "kernelspec": {
   "display_name": "genai_venv",
   "language": "python",
   "name": "python3"
  },
  "language_info": {
   "codemirror_mode": {
    "name": "ipython",
    "version": 3
   },
   "file_extension": ".py",
   "mimetype": "text/x-python",
   "name": "python",
   "nbconvert_exporter": "python",
   "pygments_lexer": "ipython3",
   "version": "3.11.13"
  }
 },
 "nbformat": 4,
 "nbformat_minor": 5
}
