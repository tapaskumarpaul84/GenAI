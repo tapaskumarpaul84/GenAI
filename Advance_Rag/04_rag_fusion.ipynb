{
 "cells": [
  {
   "cell_type": "code",
   "execution_count": 1,
   "id": "005c3d98",
   "metadata": {},
   "outputs": [
    {
     "name": "stdout",
     "output_type": "stream",
     "text": [
      "all ok\n"
     ]
    }
   ],
   "source": [
    "print(\"all ok\")"
   ]
  },
  {
   "cell_type": "code",
   "execution_count": 2,
   "id": "36e48dff",
   "metadata": {},
   "outputs": [],
   "source": [
    "## handle the warp text\n",
    "\n",
    "import textwrap\n",
    "\n",
    "def wrap_text(text,width=90):\n",
    "    lines=text.split('\\n')\n",
    "\n",
    "    wrapped_lines=[textwrap.fill(line,width) for line in lines]\n",
    "    wrapped_text='\\n'.join(wrapped_lines)\n",
    "    return wrapped_text"
   ]
  },
  {
   "cell_type": "code",
   "execution_count": 7,
   "metadata": {},
   "outputs": [
    {
     "name": "stdout",
     "output_type": "stream",
     "text": [
      "jkbncibiecfknvcndcn\n",
      "hidsedhwefbiewjweod\n",
      "igudgwudihiwdibj\n"
     ]
    }
   ],
   "source": [
    "text=\"\"\"jkbncibiecfknvcndcn\\nhidsedhwefbiewjweod\\nigudgwudihiwdibj\"\"\"\n",
    "wrapped_text=wrap_text(text)\n",
    "print(wrapped_text)"
   ]
  },
  {
   "cell_type": "code",
   "execution_count": 8,
   "id": "54669a8a",
   "metadata": {},
   "outputs": [],
   "source": [
    "import os\n",
    "from dotenv import load_dotenv\n",
    "load_dotenv()\n",
    "os.environ[\"GOOGLE_API_KEY\"]=os.getenv(\"GOOGLE_API_KEY\")\n",
    "os.environ[\"OPENAI_API_KEY\"]=os.getenv(\"OPENAI_API_KEY\")"
   ]
  },
  {
   "cell_type": "code",
   "execution_count": 9,
   "id": "fc718938",
   "metadata": {},
   "outputs": [],
   "source": [
    "from langchain_openai.embeddings import OpenAIEmbeddings\n",
    "from langchain_google_genai import ChatGoogleGenerativeAI\n",
    "\n",
    "embeddings=OpenAIEmbeddings(model=\"text-embedding-ada-002\")\n",
    "llm=ChatGoogleGenerativeAI(model='gemini-2.0-flash')"
   ]
  },
  {
   "cell_type": "markdown",
   "id": "0dfc769d",
   "metadata": {},
   "source": [
    "### Load Documents"
   ]
  },
  {
   "cell_type": "code",
   "execution_count": 13,
   "id": "e0dde257",
   "metadata": {},
   "outputs": [],
   "source": [
    "from langchain.document_loaders import DirectoryLoader\n",
    "\n",
    "loader=DirectoryLoader(path=r'..\\data',glob='*.*',show_progress=True)"
   ]
  },
  {
   "cell_type": "code",
   "execution_count": 14,
   "id": "26014e70",
   "metadata": {},
   "outputs": [
    {
     "name": "stderr",
     "output_type": "stream",
     "text": [
      "  0%|          | 0/3 [00:00<?, ?it/s]"
     ]
    },
    {
     "name": "stdout",
     "output_type": "stream",
     "text": [
      "Warning: No languages specified, defaulting to English.\n"
     ]
    },
    {
     "name": "stderr",
     "output_type": "stream",
     "text": [
      " 33%|███▎      | 1/3 [00:07<00:15,  7.60s/it]"
     ]
    },
    {
     "name": "stdout",
     "output_type": "stream",
     "text": [
      "Warning: No languages specified, defaulting to English.\n"
     ]
    },
    {
     "name": "stderr",
     "output_type": "stream",
     "text": [
      " 67%|██████▋   | 2/3 [00:13<00:06,  6.35s/it]libmagic is unavailable but assists in filetype detection. Please consider installing libmagic for better results.\n",
      "100%|██████████| 3/3 [00:13<00:00,  4.64s/it]\n"
     ]
    }
   ],
   "source": [
    "docs=loader.load()"
   ]
  },
  {
   "cell_type": "code",
   "execution_count": 15,
   "id": "7d523e72",
   "metadata": {},
   "outputs": [
    {
     "data": {
      "text/plain": [
       "3"
      ]
     },
     "execution_count": 15,
     "metadata": {},
     "output_type": "execute_result"
    }
   ],
   "source": [
    "len(docs)"
   ]
  },
  {
   "cell_type": "code",
   "execution_count": 18,
   "id": "04a842cf",
   "metadata": {},
   "outputs": [
    {
     "data": {
      "text/plain": [
       "Document(metadata={'source': '..\\\\data\\\\state_of_the_union.txt'}, page_content='Madam Speaker, Madam Vice President, our First Lady and Second Gentleman. Members of Congress and the Cabinet. Justices of the Supreme Court. My fellow Americans.\\n\\nLast year COVID-19 kept us apart. This year we are finally together again.\\n\\nTonight, we meet as Democrats Republicans and Independents. But most importantly as Americans.\\n\\nWith a duty to one another to the American people to the Constitution.\\n\\nAnd with an unwavering resolve that freedom will always triumph over tyranny.\\n\\nSix days ago, Russia’s Vladimir Putin sought to shake the foundations of the free world thinking he could make it bend to his menacing ways. But he badly miscalculated.\\n\\nHe thought he could roll into Ukraine and the world would roll over. Instead he met a wall of strength he never imagined.\\n\\nHe met the Ukrainian people.\\n\\nFrom President Zelenskyy to every Ukrainian, their fearlessness, their courage, their determination, inspires the world.\\n\\nGroups of citizens blocking tanks with their bodies. Everyone from students to retirees teachers turned soldiers defending their homeland.\\n\\nIn this struggle as President Zelenskyy said in his speech to the European Parliament “Light will win over darkness.” The Ukrainian Ambassador to the United States is here tonight.\\n\\nLet each of us here tonight in this Chamber send an unmistakable signal to Ukraine and to the world.\\n\\nPlease rise if you are able and show that, Yes, we the United States of America stand with the Ukrainian people.\\n\\nThroughout our history we’ve learned this lesson when dictators do not pay a price for their aggression they cause more chaos.\\n\\nThey keep moving.\\n\\nAnd the costs and the threats to America and the world keep rising.\\n\\nThat’s why the NATO Alliance was created to secure peace and stability in Europe after World War 2.\\n\\nThe United States is a member along with 29 other nations.\\n\\nIt matters. American diplomacy matters. American resolve matters.\\n\\nPutin’s latest attack on Ukraine was premeditated and unprovoked.\\n\\nHe rejected repeated efforts at diplomacy.\\n\\nHe thought the West and NATO wouldn’t respond. And he thought he could divide us at home. Putin was wrong. We were ready.  Here is what we did.\\n\\nWe prepared extensively and carefully.\\n\\nWe spent months building a coalition of other freedom-loving nations from Europe and the Americas to Asia and Africa to confront Putin.\\n\\nI spent countless hours unifying our European allies. We shared with the world in advance what we knew Putin was planning and precisely how he would try to falsely justify his aggression.\\n\\nWe countered Russia’s lies with truth.\\n\\nAnd now that he has acted the free world is holding him accountable.\\n\\nAlong with twenty-seven members of the European Union including France, Germany, Italy, as well as countries like the United Kingdom, Canada, Japan, Korea, Australia, New Zealand, and many others, even Switzerland.\\n\\nWe are inflicting pain on Russia and supporting the people of Ukraine. Putin is now isolated from the world more than ever.\\n\\nTogether with our allies –we are right now enforcing powerful economic sanctions.\\n\\nWe are cutting off Russia’s largest banks from the international financial system.\\n\\nPreventing Russia’s central bank from defending the Russian Ruble making Putin’s $630 Billion “war fund” worthless.\\n\\nWe are choking off Russia’s access to technology that will sap its economic strength and weaken its military for years to come.\\n\\nTonight I say to the Russian oligarchs and corrupt leaders who have bilked billions of dollars off this violent regime no more.\\n\\nThe U.S. Department of Justice is assembling a dedicated task force to go after the crimes of Russian oligarchs.\\n\\nWe are joining with our European allies to find and seize your yachts your luxury apartments your private jets. We are coming for your ill-begotten gains.\\n\\nAnd tonight I am announcing that we will join our allies in closing off American air space to all Russian flights – further isolating Russia – and adding an additional squeeze –on their economy. The Ruble has lost 30% of its value.\\n\\nThe Russian stock market has lost 40% of its value and trading remains suspended. Russia’s economy is reeling and Putin alone is to blame.\\n\\nTogether with our allies we are providing support to the Ukrainians in their fight for freedom. Military assistance. Economic assistance. Humanitarian assistance.\\n\\nWe are giving more than $1 Billion in direct assistance to Ukraine.\\n\\nAnd we will continue to aid the Ukrainian people as they defend their country and to help ease their suffering.\\n\\nLet me be clear, our forces are not engaged and will not engage in conflict with Russian forces in Ukraine.\\n\\nOur forces are not going to Europe to fight in Ukraine, but to defend our NATO Allies – in the event that Putin decides to keep moving west.\\n\\nFor that purpose we’ve mobilized American ground forces, air squadrons, and ship deployments to protect NATO countries including Poland, Romania, Latvia, Lithuania, and Estonia.\\n\\nAs I have made crystal clear the United States and our Allies will defend every inch of territory of NATO countries with the full force of our collective power.\\n\\nAnd we remain clear-eyed. The Ukrainians are fighting back with pure courage. But the next few days weeks, months, will be hard on them.\\n\\nPutin has unleashed violence and chaos.  But while he may make gains on the battlefield – he will pay a continuing high price over the long run.\\n\\nAnd a proud Ukrainian people, who have known 30 years  of independence, have repeatedly shown that they will not tolerate anyone who tries to take their country backwards.\\n\\nTo all Americans, I will be honest with you, as I’ve always promised. A Russian dictator, invading a foreign country, has costs around the world.\\n\\nAnd I’m taking robust action to make sure the pain of our sanctions  is targeted at Russia’s economy. And I will use every tool at our disposal to protect American businesses and consumers.\\n\\nTonight, I can announce that the United States has worked with 30 other countries to release 60 Million barrels of oil from reserves around the world.\\n\\nAmerica will lead that effort, releasing 30 Million barrels from our own Strategic Petroleum Reserve. And we stand ready to do more if necessary, unified with our allies.\\n\\nThese steps will help blunt gas prices here at home. And I know the news about what’s happening can seem alarming.\\n\\nBut I want you to know that we are going to be okay.\\n\\nWhen the history of this era is written Putin’s war on Ukraine will have left Russia weaker and the rest of the world stronger.\\n\\nWhile it shouldn’t have taken something so terrible for people around the world to see what’s at stake now everyone sees it clearly.\\n\\nWe see the unity among leaders of nations and a more unified Europe a more unified West. And we see unity among the people who are gathering in cities in large crowds around the world even in Russia to demonstrate their support for Ukraine.\\n\\nIn the battle between democracy and autocracy, democracies are rising to the moment, and the world is clearly choosing the side of peace and security.\\n\\nThis is a real test. It’s going to take time. So let us continue to draw inspiration from the iron will of the Ukrainian people.\\n\\nTo our fellow Ukrainian Americans who forge a deep bond that connects our two nations we stand with you.\\n\\nPutin may circle Kyiv with tanks, but he will never gain the hearts and souls of the Ukrainian people.\\n\\nHe will never extinguish their love of freedom. He will never weaken the resolve of the free world.\\n\\nWe meet tonight in an America that has lived through two of the hardest years this nation has ever faced.\\n\\nThe pandemic has been punishing.\\n\\nAnd so many families are living paycheck to paycheck, struggling to keep up with the rising cost of food, gas, housing, and so much more.\\n\\nI understand.\\n\\nI remember when my Dad had to leave our home in Scranton, Pennsylvania to find work. I grew up in a family where if the price of food went up, you felt it.\\n\\nThat’s why one of the first things I did as President was fight to pass the American Rescue Plan.\\n\\nBecause people were hurting. We needed to act, and we did.\\n\\nFew pieces of legislation have done more in a critical moment in our history to lift us out of crisis.\\n\\nIt fueled our efforts to vaccinate the nation and combat COVID-19. It delivered immediate economic relief for tens of millions of Americans.\\n\\nHelped put food on their table, keep a roof over their heads, and cut the cost of health insurance.\\n\\nAnd as my Dad used to say, it gave people a little breathing room.\\n\\nAnd unlike the $2 Trillion tax cut passed in the previous administration that benefitted the top 1% of Americans, the American Rescue Plan helped working people—and left no one behind.\\n\\nAnd it worked. It created jobs. Lots of jobs.\\n\\nIn fact—our economy created over 6.5 Million new jobs just last year, more jobs created in one year than ever before in the history of America.\\n\\nOur economy grew at a rate of 5.7% last year, the strongest growth in nearly 40 years, the first step in bringing fundamental change to an economy that hasn’t worked for the working people of this nation for too long.\\n\\nFor the past 40 years we were told that if we gave tax breaks to those at the very top, the benefits would trickle down to everyone else.\\n\\nBut that trickle-down theory led to weaker economic growth, lower wages, bigger deficits, and the widest gap between those at the top and everyone else in nearly a century.\\n\\nVice President Harris and I ran for office with a new economic vision for America.\\n\\nInvest in America. Educate Americans. Grow the workforce. Build the economy from the bottom up and the middle out, not from the top down.\\n\\nBecause we know that when the middle class grows, the poor have a ladder up and the wealthy do very well.\\n\\nAmerica used to have the best roads, bridges, and airports on Earth.\\n\\nNow our infrastructure is ranked 13th in the world.\\n\\nWe won’t be able to compete for the jobs of the 21st Century if we don’t fix that.\\n\\nThat’s why it was so important to pass the Bipartisan Infrastructure Law—the most sweeping investment to rebuild America in history.\\n\\nThis was a bipartisan effort, and I want to thank the members of both parties who worked to make it happen.\\n\\nWe’re done talking about infrastructure weeks.\\n\\nWe’re going to have an infrastructure decade.\\n\\nIt is going to transform America and put us on a path to win the economic competition of the 21st Century that we face with the rest of the world—particularly with China.\\n\\nAs I’ve told Xi Jinping, it is never a good bet to bet against the American people.\\n\\nWe’ll create good jobs for millions of Americans, modernizing roads, airports, ports, and waterways all across America.\\n\\nAnd we’ll do it all to withstand the devastating effects of the climate crisis and promote environmental justice.\\n\\nWe’ll build a national network of 500,000 electric vehicle charging stations, begin to replace poisonous lead pipes—so every child—and every American—has clean water to drink at home and at school, provide affordable high-speed internet for every American—urban, suburban, rural, and tribal communities.\\n\\n4,000 projects have already been announced.\\n\\nAnd tonight, I’m announcing that this year we will start fixing over 65,000 miles of highway and 1,500 bridges in disrepair.\\n\\nWhen we use taxpayer dollars to rebuild America – we are going to Buy American: buy American products to support American jobs.\\n\\nThe federal government spends about $600 Billion a year to keep the country safe and secure.\\n\\nThere’s been a law on the books for almost a century to make sure taxpayers’ dollars support American jobs and businesses.\\n\\nEvery Administration says they’ll do it, but we are actually doing it.\\n\\nWe will buy American to make sure everything from the deck of an aircraft carrier to the steel on highway guardrails are made in America.\\n\\nBut to compete for the best jobs of the future, we also need to level the playing field with China and other competitors.\\n\\nThat’s why it is so important to pass the Bipartisan Innovation Act sitting in Congress that will make record investments in emerging technologies and American manufacturing.\\n\\nLet me give you one example of why it’s so important to pass it.\\n\\nIf you travel 20 miles east of Columbus, Ohio, you’ll find 1,000 empty acres of land.\\n\\nIt won’t look like much, but if you stop and look closely, you’ll see a “Field of dreams,” the ground on which America’s future will be built.\\n\\nThis is where Intel, the American company that helped build Silicon Valley, is going to build its $20 billion semiconductor “mega site”.\\n\\nUp to eight state-of-the-art factories in one place. 10,000 new good-paying jobs.\\n\\nSome of the most sophisticated manufacturing in the world to make computer chips the size of a fingertip that power the world and our everyday lives.\\n\\nSmartphones. The Internet. Technology we have yet to invent.\\n\\nBut that’s just the beginning.\\n\\nIntel’s CEO, Pat Gelsinger, who is here tonight, told me they are ready to increase their investment from $20 billion to $100 billion.\\n\\nThat would be one of the biggest investments in manufacturing in American history.\\n\\nAnd all they’re waiting for is for you to pass this bill.\\n\\nSo let’s not wait any longer. Send it to my desk. I’ll sign it.\\n\\nAnd we will really take off.\\n\\nAnd Intel is not alone.\\n\\nThere’s something happening in America.\\n\\nJust look around and you’ll see an amazing story.\\n\\nThe rebirth of the pride that comes from stamping products “Made In America.” The revitalization of American manufacturing.\\n\\nCompanies are choosing to build new factories here, when just a few years ago, they would have built them overseas.\\n\\nThat’s what is happening. Ford is investing $11 billion to build electric vehicles, creating 11,000 jobs across the country.\\n\\nGM is making the largest investment in its history—$7 billion to build electric vehicles, creating 4,000 jobs in Michigan.\\n\\nAll told, we created 369,000 new manufacturing jobs in America just last year.\\n\\nPowered by people I’ve met like JoJo Burgess, from generations of union steelworkers from Pittsburgh, who’s here with us tonight.\\n\\nAs Ohio Senator Sherrod Brown says, “It’s time to bury the label “Rust Belt.”\\n\\nIt’s time.\\n\\nBut with all the bright spots in our economy, record job growth and higher wages, too many families are struggling to keep up with the bills.\\n\\nInflation is robbing them of the gains they might otherwise feel.\\n\\nI get it. That’s why my top priority is getting prices under control.\\n\\nLook, our economy roared back faster than most predicted, but the pandemic meant that businesses had a hard time hiring enough workers to keep up production in their factories.\\n\\nThe pandemic also disrupted global supply chains.\\n\\nWhen factories close, it takes longer to make goods and get them from the warehouse to the store, and prices go up.\\n\\nLook at cars.\\n\\nLast year, there weren’t enough semiconductors to make all the cars that people wanted to buy.\\n\\nAnd guess what, prices of automobiles went up.\\n\\nSo—we have a choice.\\n\\nOne way to fight inflation is to drive down wages and make Americans poorer.\\n\\nI have a better plan to fight inflation.\\n\\nLower your costs, not your wages.\\n\\nMake more cars and semiconductors in America.\\n\\nMore infrastructure and innovation in America.\\n\\nMore goods moving faster and cheaper in America.\\n\\nMore jobs where you can earn a good living in America.\\n\\nAnd instead of relying on foreign supply chains, let’s make it in America.\\n\\nEconomists call it “increasing the productive capacity of our economy.”\\n\\nI call it building a better America.\\n\\nMy plan to fight inflation will lower your costs and lower the deficit.\\n\\n17 Nobel laureates in economics say my plan will ease long-term inflationary pressures. Top business leaders and most Americans support my plan. And here’s the plan:\\n\\nFirst – cut the cost of prescription drugs. Just look at insulin. One in ten Americans has diabetes. In Virginia, I met a 13-year-old boy named Joshua Davis.\\n\\nHe and his Dad both have Type 1 diabetes, which means they need insulin every day. Insulin costs about $10 a vial to make.\\n\\nBut drug companies charge families like Joshua and his Dad up to 30 times more. I spoke with Joshua’s mom.\\n\\nImagine what it’s like to look at your child who needs insulin and have no idea how you’re going to pay for it.\\n\\nWhat it does to your dignity, your ability to look your child in the eye, to be the parent you expect to be.\\n\\nJoshua is here with us tonight. Yesterday was his birthday. Happy birthday, buddy.\\n\\nFor Joshua, and for the 200,000 other young people with Type 1 diabetes, let’s cap the cost of insulin at $35 a month so everyone can afford it.\\n\\nDrug companies will still do very well. And while we’re at it let Medicare negotiate lower prices for prescription drugs, like the VA already does.\\n\\nLook, the American Rescue Plan is helping millions of families on Affordable Care Act plans save $2,400 a year on their health care premiums. Let’s close the coverage gap and make those savings permanent.\\n\\nSecond – cut energy costs for families an average of $500 a year by combatting climate change.\\n\\nLet’s provide investments and tax credits to weatherize your homes and businesses to be energy efficient and you get a tax credit; double America’s clean energy production in solar, wind, and so much more;  lower the price of electric vehicles, saving you another $80 a month because you’ll never have to pay at the gas pump again.\\n\\nThird – cut the cost of child care. Many families pay up to $14,000 a year for child care per child.\\n\\nMiddle-class and working families shouldn’t have to pay more than 7% of their income for care of young children.\\n\\nMy plan will cut the cost in half for most families and help parents, including millions of women, who left the workforce during the pandemic because they couldn’t afford child care, to be able to get back to work.\\n\\nMy plan doesn’t stop there. It also includes home and long-term care. More affordable housing. And Pre-K for every 3- and 4-year-old.\\n\\nAll of these will lower costs.\\n\\nAnd under my plan, nobody earning less than $400,000 a year will pay an additional penny in new taxes. Nobody.\\n\\nThe one thing all Americans agree on is that the tax system is not fair. We have to fix it.\\n\\nI’m not looking to punish anyone. But let’s make sure corporations and the wealthiest Americans start paying their fair share.\\n\\nJust last year, 55 Fortune 500 corporations earned $40 billion in profits and paid zero dollars in federal income tax.\\n\\nThat’s simply not fair. That’s why I’ve proposed a 15% minimum tax rate for corporations.\\n\\nWe got more than 130 countries to agree on a global minimum tax rate so companies can’t get out of paying their taxes at home by shipping jobs and factories overseas.\\n\\nThat’s why I’ve proposed closing loopholes so the very wealthy don’t pay a lower tax rate than a teacher or a firefighter.\\n\\nSo that’s my plan. It will grow the economy and lower costs for families.\\n\\nSo what are we waiting for? Let’s get this done. And while you’re at it, confirm my nominees to the Federal Reserve, which plays a critical role in fighting inflation.\\n\\nMy plan will not only lower costs to give families a fair shot, it will lower the deficit.\\n\\nThe previous Administration not only ballooned the deficit with tax cuts for the very wealthy and corporations, it undermined the watchdogs whose job was to keep pandemic relief funds from being wasted.\\n\\nBut in my administration, the watchdogs have been welcomed back.\\n\\nWe’re going after the criminals who stole billions in relief money meant for small businesses and millions of Americans.\\n\\nAnd tonight, I’m announcing that the Justice Department will name a chief prosecutor for pandemic fraud.\\n\\nBy the end of this year, the deficit will be down to less than half what it was before I took office.\\n\\nThe only president ever to cut the deficit by more than one trillion dollars in a single year.\\n\\nLowering your costs also means demanding more competition.\\n\\nI’m a capitalist, but capitalism without competition isn’t capitalism.\\n\\nIt’s exploitation—and it drives up prices.\\n\\nWhen corporations don’t have to compete, their profits go up, your prices go up, and small businesses and family farmers and ranchers go under.\\n\\nWe see it happening with ocean carriers moving goods in and out of America.\\n\\nDuring the pandemic, these foreign-owned companies raised prices by as much as 1,000% and made record profits.\\n\\nTonight, I’m announcing a crackdown on these companies overcharging American businesses and consumers.\\n\\nAnd as Wall Street firms take over more nursing homes, quality in those homes has gone down and costs have gone up.\\n\\nThat ends on my watch.\\n\\nMedicare is going to set higher standards for nursing homes and make sure your loved ones get the care they deserve and expect.\\n\\nWe’ll also cut costs and keep the economy going strong by giving workers a fair shot, provide more training and apprenticeships, hire them based on their skills not degrees.\\n\\nLet’s pass the Paycheck Fairness Act and paid leave.\\n\\nRaise the minimum wage to $15 an hour and extend the Child Tax Credit, so no one has to raise a family in poverty.\\n\\nLet’s increase Pell Grants and increase our historic support of HBCUs, and invest in what Jill—our First Lady who teaches full-time—calls America’s best-kept secret: community colleges.\\n\\nAnd let’s pass the PRO Act when a majority of workers want to form a union—they shouldn’t be stopped.\\n\\nWhen we invest in our workers, when we build the economy from the bottom up and the middle out together, we can do something we haven’t done in a long time: build a better America.\\n\\nFor more than two years, COVID-19 has impacted every decision in our lives and the life of the nation.\\n\\nAnd I know you’re tired, frustrated, and exhausted.\\n\\nBut I also know this.\\n\\nBecause of the progress we’ve made, because of your resilience and the tools we have, tonight I can say we are moving forward safely, back to more normal routines.\\n\\nWe’ve reached a new moment in the fight against COVID-19, with severe cases down to a level not seen since last July.\\n\\nJust a few days ago, the Centers for Disease Control and Prevention—the CDC—issued new mask guidelines.\\n\\nUnder these new guidelines, most Americans in most of the country can now be mask free.\\n\\nAnd based on the projections, more of the country will reach that point across the next couple of weeks.\\n\\nThanks to the progress we have made this past year, COVID-19 need no longer control our lives.\\n\\nI know some are talking about “living with COVID-19”. Tonight – I say that we will never just accept living with COVID-19.\\n\\nWe will continue to combat the virus as we do other diseases. And because this is a virus that mutates and spreads, we will stay on guard.\\n\\nHere are four common sense steps as we move forward safely.\\n\\nFirst, stay protected with vaccines and treatments. We know how incredibly effective vaccines are. If you’re vaccinated and boosted you have the highest degree of protection.\\n\\nWe will never give up on vaccinating more Americans. Now, I know parents with kids under 5 are eager to see a vaccine authorized for their children.\\n\\nThe scientists are working hard to get that done and we’ll be ready with plenty of vaccines when they do.\\n\\nWe’re also ready with anti-viral treatments. If you get COVID-19, the Pfizer pill reduces your chances of ending up in the hospital by 90%.\\n\\nWe’ve ordered more of these pills than anyone in the world. And Pfizer is working overtime to get us 1 Million pills this month and more than double that next month.\\n\\nAnd we’re launching the “Test to Treat” initiative so people can get tested at a pharmacy, and if they’re positive, receive antiviral pills on the spot at no cost.\\n\\nIf you’re immunocompromised or have some other vulnerability, we have treatments and free high-quality masks.\\n\\nWe’re leaving no one behind or ignoring anyone’s needs as we move forward.\\n\\nAnd on testing, we have made hundreds of millions of tests available for you to order for free.\\n\\nEven if you already ordered free tests tonight, I am announcing that you can order more from covidtests.gov starting next week.\\n\\nSecond – we must prepare for new variants. Over the past year, we’ve gotten much better at detecting new variants.\\n\\nIf necessary, we’ll be able to deploy new vaccines within 100 days instead of many more months or years.\\n\\nAnd, if Congress provides the funds we need, we’ll have new stockpiles of tests, masks, and pills ready if needed.\\n\\nI cannot promise a new variant won’t come. But I can promise you we’ll do everything within our power to be ready if it does.\\n\\nThird – we can end the shutdown of schools and businesses. We have the tools we need.\\n\\nIt’s time for Americans to get back to work and fill our great downtowns again.  People working from home can feel safe to begin to return to the office.\\n\\nWe’re doing that here in the federal government. The vast majority of federal workers will once again work in person.\\n\\nOur schools are open. Let’s keep it that way. Our kids need to be in school.\\n\\nAnd with 75% of adult Americans fully vaccinated and hospitalizations down by 77%, most Americans can remove their masks, return to work, stay in the classroom, and move forward safely.\\n\\nWe achieved this because we provided free vaccines, treatments, tests, and masks.\\n\\nOf course, continuing this costs money.\\n\\nI will soon send Congress a request.\\n\\nThe vast majority of Americans have used these tools and may want to again, so I expect Congress to pass it quickly.\\n\\nFourth, we will continue vaccinating the world.\\n\\nWe’ve sent 475 Million vaccine doses to 112 countries, more than any other nation.\\n\\nAnd we won’t stop.\\n\\nWe have lost so much to COVID-19. Time with one another. And worst of all, so much loss of life.\\n\\nLet’s use this moment to reset. Let’s stop looking at COVID-19 as a partisan dividing line and see it for what it is: A God-awful disease.\\n\\nLet’s stop seeing each other as enemies, and start seeing each other for who we really are: Fellow Americans.\\n\\nWe can’t change how divided we’ve been. But we can change how we move forward—on COVID-19 and other issues we must face together.\\n\\nI recently visited the New York City Police Department days after the funerals of Officer Wilbert Mora and his partner, Officer Jason Rivera.\\n\\nThey were responding to a 9-1-1 call when a man shot and killed them with a stolen gun.\\n\\nOfficer Mora was 27 years old.\\n\\nOfficer Rivera was 22.\\n\\nBoth Dominican Americans who’d grown up on the same streets they later chose to patrol as police officers.\\n\\nI spoke with their families and told them that we are forever in debt for their sacrifice, and we will carry on their mission to restore the trust and safety every community deserves.\\n\\nI’ve worked on these issues a long time.\\n\\nI know what works: Investing in crime prevention and community police officers who’ll walk the beat, who’ll know the neighborhood, and who can restore trust and safety.\\n\\nSo let’s not abandon our streets. Or choose between safety and equal justice.\\n\\nLet’s come together to protect our communities, restore trust, and hold law enforcement accountable.\\n\\nThat’s why the Justice Department required body cameras, banned chokeholds, and restricted no-knock warrants for its officers.\\n\\nThat’s why the American Rescue Plan provided $350 Billion that cities, states, and counties can use to hire more police and invest in proven strategies like community violence interruption—trusted messengers breaking the cycle of violence and trauma and giving young people hope.\\n\\nWe should all agree: The answer is not to Defund the police. The answer is to FUND the police with the resources and training they need to protect our communities.\\n\\nI ask Democrats and Republicans alike: Pass my budget and keep our neighborhoods safe.\\n\\nAnd I will keep doing everything in my power to crack down on gun trafficking and ghost guns you can buy online and make at home—they have no serial numbers and can’t be traced.\\n\\nAnd I ask Congress to pass proven measures to reduce gun violence. Pass universal background checks. Why should anyone on a terrorist list be able to purchase a weapon?\\n\\nBan assault weapons and high-capacity magazines.\\n\\nRepeal the liability shield that makes gun manufacturers the only industry in America that can’t be sued.\\n\\nThese laws don’t infringe on the Second Amendment. They save lives.\\n\\nThe most fundamental right in America is the right to vote – and to have it counted. And it’s under assault.\\n\\nIn state after state, new laws have been passed, not only to suppress the vote, but to subvert entire elections.\\n\\nWe cannot let this happen.\\n\\nTonight. I call on the Senate to: Pass the Freedom to Vote Act. Pass the John Lewis Voting Rights Act. And while you’re at it, pass the Disclose Act so Americans can know who is funding our elections.\\n\\nTonight, I’d like to honor someone who has dedicated his life to serve this country: Justice Stephen Breyer—an Army veteran, Constitutional scholar, and retiring Justice of the United States Supreme Court. Justice Breyer, thank you for your service.\\n\\nOne of the most serious constitutional responsibilities a President has is nominating someone to serve on the United States Supreme Court.\\n\\nAnd I did that 4 days ago, when I nominated Circuit Court of Appeals Judge Ketanji Brown Jackson. One of our nation’s top legal minds, who will continue Justice Breyer’s legacy of excellence.\\n\\nA former top litigator in private practice. A former federal public defender. And from a family of public school educators and police officers. A consensus builder. Since she’s been nominated, she’s received a broad range of support—from the Fraternal Order of Police to former judges appointed by Democrats and Republicans.\\n\\nAnd if we are to advance liberty and justice, we need to secure the Border and fix the immigration system.\\n\\nWe can do both. At our border, we’ve installed new technology like cutting-edge scanners to better detect drug smuggling.\\n\\nWe’ve set up joint patrols with Mexico and Guatemala to catch more human traffickers.\\n\\nWe’re putting in place dedicated immigration judges so families fleeing persecution and violence can have their cases heard faster.\\n\\nWe’re securing commitments and supporting partners in South and Central America to host more refugees and secure their own borders.\\n\\nWe can do all this while keeping lit the torch of liberty that has led generations of immigrants to this land—my forefathers and so many of yours.\\n\\nProvide a pathway to citizenship for Dreamers, those on temporary status, farm workers, and essential workers.\\n\\nRevise our laws so businesses have the workers they need and families don’t wait decades to reunite.\\n\\nIt’s not only the right thing to do—it’s the economically smart thing to do.\\n\\nThat’s why immigration reform is supported by everyone from labor unions to religious leaders to the U.S. Chamber of Commerce.\\n\\nLet’s get it done once and for all.\\n\\nAdvancing liberty and justice also requires protecting the rights of women.\\n\\nThe constitutional right affirmed in Roe v. Wade—standing precedent for half a century—is under attack as never before.\\n\\nIf we want to go forward—not backward—we must protect access to health care. Preserve a woman’s right to choose. And let’s continue to advance maternal health care in America.\\n\\nAnd for our LGBTQ+ Americans, let’s finally get the bipartisan Equality Act to my desk. The onslaught of state laws targeting transgender Americans and their families is wrong.\\n\\nAs I said last year, especially to our younger transgender Americans, I will always have your back as your President, so you can be yourself and reach your God-given potential.\\n\\nWhile it often appears that we never agree, that isn’t true. I signed 80 bipartisan bills into law last year. From preventing government shutdowns to protecting Asian-Americans from still-too-common hate crimes to reforming military justice.\\n\\nAnd soon, we’ll strengthen the Violence Against Women Act that I first wrote three decades ago. It is important for us to show the nation that we can come together and do big things.\\n\\nSo tonight I’m offering a Unity Agenda for the Nation. Four big things we can do together.\\n\\nFirst, beat the opioid epidemic.\\n\\nThere is so much we can do. Increase funding for prevention, treatment, harm reduction, and recovery.\\n\\nGet rid of outdated rules that stop doctors from prescribing treatments. And stop the flow of illicit drugs by working with state and local law enforcement to go after traffickers.\\n\\nIf you’re suffering from addiction, know you are not alone. I believe in recovery, and I celebrate the 23 million Americans in recovery.\\n\\nSecond, let’s take on mental health. Especially among our children, whose lives and education have been turned upside down.\\n\\nThe American Rescue Plan gave schools money to hire teachers and help students make up for lost learning.\\n\\nI urge every parent to make sure your school does just that. And we can all play a part—sign up to be a tutor or a mentor.\\n\\nChildren were also struggling before the pandemic. Bullying, violence, trauma, and the harms of social media.\\n\\nAs Frances Haugen, who is here with us tonight, has shown, we must hold social media platforms accountable for the national experiment they’re conducting on our children for profit.\\n\\nIt’s time to strengthen privacy protections, ban targeted advertising to children, demand tech companies stop collecting personal data on our children.\\n\\nAnd let’s get all Americans the mental health services they need. More people they can turn to for help, and full parity between physical and mental health care.\\n\\nThird, support our veterans.\\n\\nVeterans are the best of us.\\n\\nI’ve always believed that we have a sacred obligation to equip all those we send to war and care for them and their families when they come home.\\n\\nMy administration is providing assistance with job training and housing, and now helping lower-income veterans get VA care debt-free.\\n\\nOur troops in Iraq and Afghanistan faced many dangers.\\n\\nOne was stationed at bases and breathing in toxic smoke from “burn pits” that incinerated wastes of war—medical and hazard material, jet fuel, and more.\\n\\nWhen they came home, many of the world’s fittest and best trained warriors were never the same.\\n\\nHeadaches. Numbness. Dizziness.\\n\\nA cancer that would put them in a flag-draped coffin.\\n\\nI know.\\n\\nOne of those soldiers was my son Major Beau Biden.\\n\\nWe don’t know for sure if a burn pit was the cause of his brain cancer, or the diseases of so many of our troops.\\n\\nBut I’m committed to finding out everything we can.\\n\\nCommitted to military families like Danielle Robinson from Ohio.\\n\\nThe widow of Sergeant First Class Heath Robinson.\\n\\nHe was born a soldier. Army National Guard. Combat medic in Kosovo and Iraq.\\n\\nStationed near Baghdad, just yards from burn pits the size of football fields.\\n\\nHeath’s widow Danielle is here with us tonight. They loved going to Ohio State football games. He loved building Legos with their daughter.\\n\\nBut cancer from prolonged exposure to burn pits ravaged Heath’s lungs and body.\\n\\nDanielle says Heath was a fighter to the very end.\\n\\nHe didn’t know how to stop fighting, and neither did she.\\n\\nThrough her pain she found purpose to demand we do better.\\n\\nTonight, Danielle—we are.\\n\\nThe VA is pioneering new ways of linking toxic exposures to diseases, already helping more veterans get benefits.\\n\\nAnd tonight, I’m announcing we’re expanding eligibility to veterans suffering from nine respiratory cancers.\\n\\nI’m also calling on Congress: pass a law to make sure veterans devastated by toxic exposures in Iraq and Afghanistan finally get the benefits and comprehensive health care they deserve.\\n\\nAnd fourth, let’s end cancer as we know it.\\n\\nThis is personal to me and Jill, to Kamala, and to so many of you.\\n\\nCancer is the #2 cause of death in America–second only to heart disease.\\n\\nLast month, I announced our plan to supercharge the Cancer Moonshot that President Obama asked me to lead six years ago.\\n\\nOur goal is to cut the cancer death rate by at least 50% over the next 25 years, turn more cancers from death sentences into treatable diseases.\\n\\nMore support for patients and families.\\n\\nTo get there, I call on Congress to fund ARPA-H, the Advanced Research Projects Agency for Health.\\n\\nIt’s based on DARPA—the Defense Department project that led to the Internet, GPS, and so much more.\\n\\nARPA-H will have a singular purpose—to drive breakthroughs in cancer, Alzheimer’s, diabetes, and more.\\n\\nA unity agenda for the nation.\\n\\nWe can do this.\\n\\nMy fellow Americans—tonight , we have gathered in a sacred space—the citadel of our democracy.\\n\\nIn this Capitol, generation after generation, Americans have debated great questions amid great strife, and have done great things.\\n\\nWe have fought for freedom, expanded liberty, defeated totalitarianism and terror.\\n\\nAnd built the strongest, freest, and most prosperous nation the world has ever known.\\n\\nNow is the hour.\\n\\nOur moment of responsibility.\\n\\nOur test of resolve and conscience, of history itself.\\n\\nIt is in this moment that our character is formed. Our purpose is found. Our future is forged.\\n\\nWell I know this nation.\\n\\nWe will meet the test.\\n\\nTo protect freedom and liberty, to expand fairness and opportunity.\\n\\nWe will save democracy.\\n\\nAs hard as these times have been, I am more optimistic about America today than I have been my whole life.\\n\\nBecause I see the future that is within our grasp.\\n\\nBecause I know there is simply nothing beyond our capacity.\\n\\nWe are the only nation on Earth that has always turned every crisis we have faced into an opportunity.\\n\\nThe only nation that can be defined by a single word: possibilities.\\n\\nSo on this night, in our 245th year as a nation, I have come to report on the State of the Union.\\n\\nAnd my report is this: the State of the Union is strong—because you, the American people, are strong.\\n\\nWe are stronger today than we were a year ago.\\n\\nAnd we will be stronger a year from now than we are today.\\n\\nNow is our moment to meet and overcome the challenges of our time.\\n\\nAnd we will, as one people.\\n\\nOne America.\\n\\nThe United States of America.\\n\\nMay God bless you all. May God protect our troops.')"
      ]
     },
     "execution_count": 18,
     "metadata": {},
     "output_type": "execute_result"
    }
   ],
   "source": [
    "docs[2]"
   ]
  },
  {
   "cell_type": "code",
   "execution_count": 19,
   "id": "c9722b9f",
   "metadata": {},
   "outputs": [],
   "source": [
    "raw_text=''\n",
    "for i , doc in enumerate(docs):\n",
    "    text=doc.page_content\n",
    "    if text:\n",
    "        raw_text +=text"
   ]
  },
  {
   "cell_type": "code",
   "execution_count": 21,
   "id": "e5076e44",
   "metadata": {},
   "outputs": [
    {
     "data": {
      "text/plain": [
       "143149"
      ]
     },
     "execution_count": 21,
     "metadata": {},
     "output_type": "execute_result"
    }
   ],
   "source": [
    "len(raw_text)"
   ]
  },
  {
   "cell_type": "markdown",
   "id": "5cf335ed",
   "metadata": {},
   "source": [
    "#### Text spliter for chunking"
   ]
  },
  {
   "cell_type": "code",
   "execution_count": 22,
   "id": "76e58b60",
   "metadata": {},
   "outputs": [],
   "source": [
    "from langchain_text_splitters import RecursiveCharacterTextSplitter\n",
    "splitter=RecursiveCharacterTextSplitter(chunk_size=500,chunk_overlap=50,length_function=len,\n",
    "                                        is_separator_regex=False)"
   ]
  },
  {
   "cell_type": "code",
   "execution_count": 23,
   "id": "a0ae1a07",
   "metadata": {},
   "outputs": [],
   "source": [
    "texts=splitter.split_text(raw_text)"
   ]
  },
  {
   "cell_type": "code",
   "execution_count": 24,
   "id": "14842ae0",
   "metadata": {},
   "outputs": [
    {
     "data": {
      "text/plain": [
       "389"
      ]
     },
     "execution_count": 24,
     "metadata": {},
     "output_type": "execute_result"
    }
   ],
   "source": [
    "len(texts)"
   ]
  },
  {
   "cell_type": "code",
   "execution_count": 25,
   "id": "33e75b7a",
   "metadata": {},
   "outputs": [
    {
     "data": {
      "text/plain": [
       "'small fraction of the training costs of the best models from the literature. We show that the Transformer generalizes well to other tasks by applying it successfully to English constituency parsing both with large and limited training data.'"
      ]
     },
     "execution_count": 25,
     "metadata": {},
     "output_type": "execute_result"
    }
   ],
   "source": [
    "texts[4]"
   ]
  },
  {
   "cell_type": "markdown",
   "id": "5160a7dc",
   "metadata": {},
   "source": [
    "#### Vector Store setup"
   ]
  },
  {
   "cell_type": "code",
   "execution_count": 26,
   "id": "c9ab1b00",
   "metadata": {},
   "outputs": [],
   "source": [
    "from langchain_chroma import Chroma\n",
    "\n",
    "vectorstore=Chroma(collection_name=\"text_documents\",\n",
    "                   embedding_function=embeddings,\n",
    "                   persist_directory=r'..\\Advance_Rag\\dbstore\\text_docs')"
   ]
  },
  {
   "cell_type": "code",
   "execution_count": 28,
   "id": "53af2374",
   "metadata": {},
   "outputs": [
    {
     "data": {
      "text/plain": [
       "['a94e5892-cd69-4fa5-b1e6-da4810f33ba7',\n",
       " '3829a85f-ba16-48d5-8665-c1dce03c39da',\n",
       " '2df37fc4-ed45-4752-8f4b-f3825598fd9d',\n",
       " 'f73a483a-1ff4-411f-9a72-dfd470403fdd',\n",
       " '11c7e7f5-65e1-4169-a550-45b80ae2bcf1',\n",
       " '3915a814-24ab-4fa3-b093-d6bf1e33715e',\n",
       " '6c2a0000-08ae-4758-991b-25423c304704',\n",
       " 'ff4f9543-7419-498a-957e-5562a4b8609c',\n",
       " 'e92318ef-9e41-43ec-8bb5-de5350a5a7b0',\n",
       " 'd2bf5c38-8c79-4056-9f8b-a1598110815b',\n",
       " '0ab2ebda-6617-4001-a42c-532279946c9f',\n",
       " '8482602d-671b-4fbe-9214-52f55bebc6a0',\n",
       " '874ca8c5-b3aa-4a0b-b9b5-3a3bf3095a5e',\n",
       " 'c8404912-6a05-4673-9d21-d08fd42bace1',\n",
       " '62714c5b-5af5-46e9-8a2b-33805062e9b8',\n",
       " '24e61596-eacf-4889-a3b1-26c056ee6a0b',\n",
       " '10d31073-a307-4337-80e5-fa0af142a764',\n",
       " '57779688-e78c-4880-87bf-bb5a0805b39b',\n",
       " '31bebfd0-9678-48d1-bd57-02ecfb33a46f',\n",
       " 'fa225416-225f-4d0f-b3a9-be5dad94e13f',\n",
       " 'd9133e2e-b5c4-4a5d-975d-200c6a240e56',\n",
       " 'df3e3dc1-44f6-4a52-bf51-7d27439d09b4',\n",
       " 'a5246e69-4908-419e-b76e-cb411050cfea',\n",
       " '9d4dfe8c-83c0-40bc-b0aa-53db7404881c',\n",
       " '961e08ed-6fa9-4d31-9355-ea949f3ec4a3',\n",
       " '3c173d04-1133-4381-9825-1a135292af7f',\n",
       " '2d3d16cc-267d-4abb-85e7-4f3eff2ed2c3',\n",
       " '75cc38cf-7a01-4173-9aa9-2f80e26e8a96',\n",
       " 'c3969e51-9523-406c-94e2-dbee1244607e',\n",
       " '265910b6-140b-42de-9878-9248e8486102',\n",
       " '0bb5558c-a848-4c15-b292-c5d34caafaa3',\n",
       " '577a3159-e482-439f-85bf-2126059d93be',\n",
       " 'dadd74d3-145a-4730-b13d-6b60b2658bbf',\n",
       " '92514400-bfac-4ff4-8be2-45919f4e95da',\n",
       " '6447ae56-c03b-47db-905a-a5f1345c47f8',\n",
       " '92a624ec-a5c8-409d-b4b0-e0763c98a15d',\n",
       " 'aca867d5-bbd0-4893-b432-8a88be79a588',\n",
       " '76f0f065-b2f2-4cfd-8996-f1d6637dad4a',\n",
       " '50bb6ec4-8210-45a7-b49a-5259c0f75323',\n",
       " '4f3402d0-6911-44e3-96d0-74d7449e6744',\n",
       " '696d9f18-372d-4850-968a-572b3d8a238b',\n",
       " '084fc401-13ef-4a96-8452-3890863cdf2c',\n",
       " 'b93feaf2-bc0c-40ff-b048-fa08c765180a',\n",
       " '5e057cf2-83d8-4373-8466-66f7563d29c9',\n",
       " '8e42aa33-58ee-4685-9581-8e3434e36af4',\n",
       " '8424763b-6a3d-4a32-b1f0-13dbf67e4976',\n",
       " '5d2b4061-ba17-465b-b8ca-fde988b4dc65',\n",
       " 'e8c708ba-c7c5-4bd2-8367-a4118a4f786f',\n",
       " 'cc5c59d4-314c-4992-a158-d01f22845ee1',\n",
       " '21502485-d818-42ad-a23a-bf4ad445c78a',\n",
       " 'bf268e44-bfbb-47d5-b92a-bc30d1064a27',\n",
       " 'ca29ae20-a2f8-49a0-8bc7-7405606e4407',\n",
       " '7de3f4b4-1624-4865-a218-f2b5ea1f670c',\n",
       " '9b431b6a-d861-4a53-8769-14f595aba258',\n",
       " '4a0d18b5-37c5-4644-afb8-418a082ab0f1',\n",
       " '1e4e9ab8-28ba-4c6f-a293-90e099b4cf48',\n",
       " '4b4e27a8-90a7-46a4-8e87-1fd8ff614602',\n",
       " '47045ea5-5e29-4306-8692-aab1810ef5e8',\n",
       " '9ddf7811-4b8b-400c-90f0-2ba2e520f271',\n",
       " '9375c684-aed2-4d06-ae87-39c813421c83',\n",
       " 'a53c9027-d68a-4a61-8db1-1a20b506b054',\n",
       " '75947661-2d60-4bf3-ab02-cde53448eb9f',\n",
       " '43de7b33-1959-492d-9376-389d498a9657',\n",
       " 'f169d914-78ae-4455-b3eb-44c4029cdab5',\n",
       " '93b3be55-109d-44c1-83a9-e20a3134d13e',\n",
       " '88c6b92d-2148-4cf3-912f-38653893c622',\n",
       " '83c45a85-6595-45bd-b57d-3b3f9d7ec4d2',\n",
       " '343ef0da-e392-4e67-b7fa-7c9e829f6058',\n",
       " 'a2f528ab-58ea-4592-9c33-39c8f31d1918',\n",
       " 'a9849fd7-34b3-4fce-bcb4-f0f3bb3c9341',\n",
       " '9390a758-c495-4ef4-99b9-88f53a096003',\n",
       " '74930603-68bd-4a97-bf28-dea625b2587f',\n",
       " '47f42019-70d4-4661-9fbf-be3308904a7f',\n",
       " '28c49b29-64c6-4852-9e0f-dd162b0bdc39',\n",
       " '2b5654b5-9ad2-490e-b7cb-a5103b3c7f10',\n",
       " '00224295-63f3-41bf-b163-6254a120e00d',\n",
       " 'ef94a96c-137c-4907-9907-a8898984ebfa',\n",
       " 'e5032f1d-c9e5-4172-8c1a-39dd101e9379',\n",
       " 'e3119d82-f28a-4bad-a488-bab9c9ac7b28',\n",
       " '121e2252-2b45-4f28-94dc-3925d0461993',\n",
       " '64d7a043-b991-42d2-9ff5-951308811558',\n",
       " 'dc9ab433-7ab3-4626-9586-f68f58354986',\n",
       " '8c877579-f9f3-4c1a-ba13-85b0c9cb0948',\n",
       " 'b92f5de5-cefb-4a1f-b0a4-a7501c44f10e',\n",
       " 'e0008d4a-459d-44d7-9a2f-3f292715cbc9',\n",
       " 'fb461fae-ce84-42c3-8b11-f43dd55586ec',\n",
       " '23e73a2c-8cba-42dd-8b9c-21c718fbafd8',\n",
       " '898aa772-4d19-4df4-bbaf-9f6b623848ae',\n",
       " '7a8f42e7-cda0-4177-b750-25be0057627e',\n",
       " 'cf2fdce2-6697-40ee-80c0-e5d82f76778a',\n",
       " '82d99491-6ad2-4632-bea6-7edd8dc46ade',\n",
       " '93bab7a5-5316-4253-9991-cd254e7d2793',\n",
       " 'ca6cc303-27fe-4f34-b209-d756280682d9',\n",
       " '6082e3f7-5181-4000-994d-5072dfc3c822',\n",
       " '2467426b-9c98-47bb-bef1-a37bc3366775',\n",
       " 'f2f85c11-ac79-4b92-8783-556847886dcb',\n",
       " '651c706d-9fb4-4327-8bb3-ad7f02ae4e08',\n",
       " '2f62b46a-42d1-45dd-83bf-20d959901882',\n",
       " 'ec735e0a-a26c-4f62-817b-d0fe57603cc8',\n",
       " '641b9526-4ba3-400b-b2ec-af948d7b2aae',\n",
       " 'edc3d91a-351c-426e-9a68-5d8167e184c7',\n",
       " 'c74c601e-37fb-4fa6-bb19-ed41db2d7822',\n",
       " 'e02a1b33-413c-432c-b6cd-dadadf478c7a',\n",
       " 'ecb697e2-9451-4bd5-b35a-ea9e1eb62b6a',\n",
       " '66c37de4-3740-49b9-a79e-edc6bb7c881c',\n",
       " 'cf5da59e-eac2-4783-9be8-62a715c0cc35',\n",
       " '1a6e6eb8-eb6d-4152-a224-21754b2e4a26',\n",
       " 'fca1fd7e-73ba-456a-8a6b-c64a0a68805f',\n",
       " '1fbaf97e-aa54-401f-882b-be0e40d74528',\n",
       " '384190a7-fae6-4d6f-b7cb-8ad16f6673fb',\n",
       " 'f1df1553-5450-414c-a660-0d64bd168611',\n",
       " '46458809-b254-46eb-b7c6-f819b4b9093a',\n",
       " 'b3d18e54-4e42-4218-829a-e4282b85b332',\n",
       " '92157d0a-0afe-4df4-b1fd-c5a7fbc58164',\n",
       " 'ce21cb58-ab7d-4527-bd2a-243e88b23bf4',\n",
       " '35234478-8a11-488d-92fd-795ff63ad4f4',\n",
       " 'dfad8195-e407-4ac7-a950-3145fffd3737',\n",
       " 'a900f49d-5041-466f-abf5-4b6c30e742b3',\n",
       " 'e0346686-b478-4c3d-85d8-b3aa7796c6c6',\n",
       " '235c2ddf-b234-430b-9547-02a2bf992394',\n",
       " 'e43e4c74-247e-402e-8cf7-e5ca21028c16',\n",
       " 'cde7c5cd-af6e-4b8e-adad-5e3f6554d605',\n",
       " '104e78b1-68e2-4290-a711-e58dcdcf244f',\n",
       " 'ca962e1c-398f-445c-8d70-8b01855d088f',\n",
       " 'd5e94207-84a5-4941-aff5-0fffe2deeaf5',\n",
       " 'ccadcff9-0136-4278-9756-01113d96ecf0',\n",
       " '883a592f-b7d9-4f34-8458-04b3dc437c0c',\n",
       " 'e108b615-9f12-40ce-a58e-381382ef8549',\n",
       " 'f19afd06-3931-44ca-bd9e-6eea7c12f65e',\n",
       " '4ca78a0b-c949-4cb0-a864-fd43d0e48154',\n",
       " '1d30ea38-0342-44c6-b0e2-7a06b18f5109',\n",
       " 'ff9a36d7-281a-48db-93cd-5f303fa94767',\n",
       " '3e6ba44d-a449-436e-8569-0e9dfaed08d3',\n",
       " 'a66166f4-56f6-41af-b8a4-d389d11187fa',\n",
       " 'd70b3a55-9d6f-4bff-968a-7b69f533e2f2',\n",
       " '1c116cee-fc74-4c69-889f-105fe375dfc1',\n",
       " '8efed3dd-79e9-4f35-a0ab-8001a03f00ad',\n",
       " 'a902ef65-0556-4051-a58e-8c7e95b4830f',\n",
       " 'b45428c1-1fb0-48c8-a148-4658fd9cb5d8',\n",
       " '50824a14-1b47-4a03-a47b-11091dd1708a',\n",
       " 'a34e8c76-fa89-44f3-8d16-3cd3bc307c37',\n",
       " 'bb4e36ae-a138-4edf-9e8d-ca94a2667fe9',\n",
       " '12e03153-83ee-48fa-9b36-5ae0a7644c01',\n",
       " '8d44e4f7-084e-4f46-a420-27e8db9deaa3',\n",
       " '6f14af53-758d-43d4-9245-0da68bc809b7',\n",
       " 'ce151d30-b904-443b-bb49-22a9abbe3761',\n",
       " '8559269d-883c-4608-8625-2539df268803',\n",
       " 'c07320b6-1e06-4fe3-a6fa-5791d5eb7950',\n",
       " 'b62df195-87cc-4b65-abe4-04cfebacd698',\n",
       " '63877888-ed64-45cc-8f4c-c0776d1d6f71',\n",
       " '81c57465-48bb-41bd-87b0-0ea7d2d81244',\n",
       " '1694c6db-411b-4d10-8950-e3c73621d97c',\n",
       " 'aa559de6-6d55-4e05-9e55-516d4441008c',\n",
       " '2ee81098-e7dd-4e4f-b1ed-83d506a24b1b',\n",
       " '5904a51b-e4ec-4a27-8b32-7683703c9ee3',\n",
       " 'aff81d22-0d64-4f6d-88ac-e90c6549e786',\n",
       " 'cdb0f77e-275c-4a13-9a1a-093ce724e5f9',\n",
       " '47bb51a4-23b3-420b-b6fd-5e29dcee6f4c',\n",
       " '1fb5137a-b23a-4d73-b4ea-47ea8f2c68bb',\n",
       " 'f8f63da7-3054-49e4-be70-da5775b3165a',\n",
       " '2cef6302-44fb-46d1-8b73-eb07e9f007d6',\n",
       " 'c62a3d38-3050-4027-beff-6955af288777',\n",
       " '83838b91-6e72-4478-84c5-08ee1dafac6a',\n",
       " '3bbfc7e5-bb56-4209-bfae-f90de64507b5',\n",
       " 'ae39f9c2-7783-4f5c-8ccd-4ba35774f273',\n",
       " '4041adb9-9433-4e33-9a42-f58194be3a97',\n",
       " '705af9de-c98f-4d75-b312-6b864cc9b62e',\n",
       " '738f36bd-83a0-4d8c-9929-411d1f4520e8',\n",
       " '81a9b8b6-f912-44f0-a1cc-cf537da85239',\n",
       " '435f367e-d558-47e9-a6c6-55c047e4bd73',\n",
       " 'e65e4584-240d-44fc-9af0-107bc0a4aaad',\n",
       " '53e665f5-8045-45b5-85a7-cd4435ee1e24',\n",
       " 'a8abff18-bf73-43a0-9237-71aceade0208',\n",
       " 'c2f48f19-124c-4d4e-84c0-4749959c60bb',\n",
       " 'afe1bf6c-4b3e-4534-a378-72b10cc854ca',\n",
       " '4d1191c2-c9e6-4ab7-b83f-f2968c2f8239',\n",
       " '7c73177d-fb09-41c4-b978-310741c04565',\n",
       " '8517d3e4-87d9-4cec-bbcb-0a33d27a5198',\n",
       " 'e9381f78-99a1-43fd-b571-060dbf610dbc',\n",
       " 'fd7d678d-39e6-40da-99b6-b517088aa550',\n",
       " '06dcddbe-a533-4b2d-9fa5-49002646784a',\n",
       " 'cceddb76-1e9a-4dd1-a57d-af48210fcda9',\n",
       " '1a7ecd4b-0092-479f-806d-9591a68be0dd',\n",
       " 'c2e7277f-1461-4900-af9e-b6729ab9238a',\n",
       " '50a42c6e-9acd-4d71-8f6e-7b52ce7d5add',\n",
       " '678d5f0d-595f-4d84-9567-03a3574b7d33',\n",
       " 'cbf15a18-ade5-4dca-bc81-b9362db00c0e',\n",
       " '35fbb839-fbc1-4a95-a4bd-63b23e29d4c9',\n",
       " '36b925f0-b701-4257-a571-4ebc27e64361',\n",
       " '2be2f9c6-fced-45b9-8108-2ea8fb27d4fa',\n",
       " '27bfe419-a8c7-40cc-bc62-1382b7e05c33',\n",
       " '3f5e187d-15db-4146-b2aa-b04c2383d854',\n",
       " 'ed9ff2e7-da4f-44c2-85f3-68da72bc73f9',\n",
       " '9dee9fd8-1b80-4458-8679-66b31baa436a',\n",
       " '701ec21b-46b7-47c2-bfef-7b45c90cefa0',\n",
       " '2f8e2b00-5c40-4971-973e-cda153346f94',\n",
       " '23d5fcac-82f1-4c04-9a87-9736d939acd2',\n",
       " 'de64d3d8-d037-4114-9864-4c33966bd86a',\n",
       " '4dd31965-f64a-45d7-8871-e66c144f9eae',\n",
       " '9025134f-2136-42a8-a51a-f27fcc296e54',\n",
       " '5d5fdf2f-a0eb-41d5-a109-09b5a298826a',\n",
       " 'cb67e5bc-dd5f-4594-a2f5-4fdd15daba8a',\n",
       " '656de7fe-77ef-410f-8740-f13dda54b0e5',\n",
       " 'e12a5af0-041d-40bc-8d29-bb5a33d4b590',\n",
       " '54af3588-99f4-4bbb-bbd9-3ffe0d6ea855',\n",
       " 'bc0a9095-03fd-45c6-b467-95642eb1273a',\n",
       " 'dbc35003-32a9-4c7e-bb8a-c4ff6fb2a937',\n",
       " '23087bbd-747b-41b8-a984-5419ae9d7cd2',\n",
       " '7df16260-bb3a-4675-83d5-b8ebf4f86500',\n",
       " 'c8359a7e-e858-42af-911c-78abb1bb51b4',\n",
       " '615907cc-8a1a-4c05-8b01-3a5d6a7536aa',\n",
       " 'e7cf8207-65e7-4847-b074-157df0d8195e',\n",
       " 'b00278cc-65e2-4427-8f34-8cd10f999f62',\n",
       " 'c6483817-bdc5-489d-869f-0a2b5e0ccfb0',\n",
       " '6379954e-4dd0-4645-9417-41526a785fd5',\n",
       " 'a15aa788-ec9c-4816-bee0-4cf0d5261036',\n",
       " '66ac3103-553e-436a-aead-d145cd922a70',\n",
       " '8d4978e4-062c-4a24-bcc0-a38d1747171b',\n",
       " 'd2d3b378-9887-4283-856b-1bd27274ced9',\n",
       " '5ff30fb2-f0f6-4c28-baa7-6994a57e9d62',\n",
       " '6dc1ee5d-7a5c-4587-bd3d-f7da4e7e5366',\n",
       " '7df39437-8c94-417e-b173-9e306894e9e1',\n",
       " '13759152-137f-4326-b321-fe6557e116f2',\n",
       " '2f3c30c7-d501-4d9b-b1bf-83d0c485474b',\n",
       " '08e49a27-e98d-49b0-ad0c-956db507c645',\n",
       " 'eaa5983a-5175-462c-af48-d62a5dfe1f02',\n",
       " '695b778a-b0ff-48c2-bbc8-1254aae3cc6d',\n",
       " 'c8508c96-bdde-47e6-8684-70d068f89547',\n",
       " '4a65b50d-188e-4242-b8d1-2c910560224c',\n",
       " '270cda0e-924e-4349-a7c9-91aa2e777a8d',\n",
       " '58a5357c-7ec1-49f9-83f5-bb2849beccf1',\n",
       " '08cfcd4d-9c44-4b85-9064-77351359c7c3',\n",
       " 'acf5c74b-5c95-476a-af85-8ff65aa199d4',\n",
       " '48875da2-8c65-4c64-a631-c306b7a234bc',\n",
       " '0ad76a8e-fabc-4b48-a8b1-43b26bed13bb',\n",
       " 'b40ba191-9c35-4685-b348-4bf91dbaf205',\n",
       " '2774f582-f3fc-4ddc-8f0e-0fbb0f8a1176',\n",
       " '233e8ca1-f082-44cb-96f4-b0cd1bb50a55',\n",
       " '85b4d589-f0d3-4f7d-93e6-436eda198e54',\n",
       " 'd7551ee2-2bed-4df1-a538-4d1ea1971ca3',\n",
       " 'c05caa43-08f7-4c3d-858a-d0ce8745ead2',\n",
       " 'bcfbe892-96b2-4d56-a261-f8d585a60157',\n",
       " 'eef5d9cf-f12f-4a2e-b91f-94b73c7dafef',\n",
       " '675f7446-3a2c-446a-9d3e-63bd6eb0f514',\n",
       " '64f72587-438c-45f8-adc1-5118e0ccf4af',\n",
       " '254498b7-6ceb-4ac6-80d6-397eec0d4dd2',\n",
       " '5e9cdbb3-a88e-4c43-9c98-ac5a33c94abb',\n",
       " '9ac5062d-c5ae-40b1-8514-ac483f194aae',\n",
       " '15efbabd-b56c-4c31-b1f3-edf37f06ef1c',\n",
       " '6cca7349-3acb-4204-9ed6-a197f4818f8a',\n",
       " 'e775c9fa-5c63-4c1d-b970-290f3477619b',\n",
       " '7d2ce441-7b35-4595-b208-edf3b705ad1d',\n",
       " 'c5a0549f-681c-4f35-bed7-989c26779fd7',\n",
       " 'd87db956-bacc-4cb6-a7bb-1b3a9b3d179a',\n",
       " 'd63aa5d9-7d41-4597-a155-d23148191d68',\n",
       " '67896d23-8cd1-4bfb-9028-341840a4f3f6',\n",
       " 'f6a1eb31-11f2-449a-a697-c17d3e61b89d',\n",
       " '93351f3b-004f-4d9d-afd7-9d275a4a7a0b',\n",
       " 'c1e00b24-55d7-4c5d-86cc-3547bc72a114',\n",
       " '3c7f9f7a-672d-425f-949e-532e3704bb84',\n",
       " 'a7735a36-50e8-41ba-aca8-2b5b07339b42',\n",
       " '3694784f-e98b-4de3-b7f0-c1b53cabcde1',\n",
       " '06384307-0416-4fce-ae18-4e8ed92ed86a',\n",
       " '5b0d3379-ef46-4e20-ac0c-dabceb8c39ab',\n",
       " 'e589e669-0b3d-4f1d-adb4-5484c2f3e5e5',\n",
       " '69c5e300-ca98-45e4-99fe-66e51051b062',\n",
       " 'e46ce899-94b1-43c8-ac5e-3972a8b81b05',\n",
       " 'a757106b-caad-4fa2-bf17-847dbb1dbc55',\n",
       " 'c22d1d3f-75dc-40e1-93bf-3c5c25746d00',\n",
       " '8d941b80-048f-4cef-aab3-5fb61825abae',\n",
       " '8620fd1d-ef79-434b-83fd-b0730052a795',\n",
       " '4503d0ba-1f98-48df-acf0-7e0f6ba4ce97',\n",
       " 'fd9fbe5d-b036-4031-ba0c-bb3fb7a3a7be',\n",
       " '1f580aea-dbca-41c0-bff9-11040bb91723',\n",
       " '9cb68ff7-eb41-4bb2-beca-43e62cc403e1',\n",
       " '8de7bba9-2514-48a4-b7dc-890e14d3f27c',\n",
       " '6c6b5932-ec39-475c-b4b4-10ecd047a4cc',\n",
       " '467c8507-0318-4828-bcdb-b14f3e292eca',\n",
       " '7cbe9341-98bd-498a-b68a-6dc9f609b2a3',\n",
       " 'f69462eb-564a-4e27-9a6b-40bd3b368293',\n",
       " '074a9f84-b01d-46ec-8149-c033076dcb8f',\n",
       " 'f98c40c7-fbf3-45d0-9ea4-edb5b7c02960',\n",
       " '5e986f7c-759b-4fa6-90ee-9793cf547c06',\n",
       " 'd1fffd79-c087-4550-aa70-d29efbccf865',\n",
       " '2e8a1629-c55e-462d-b589-07f3af306128',\n",
       " '3e76cb1f-c550-4fd7-a37b-9c28acf0cfaa',\n",
       " '0be274ee-ef75-4e8e-9151-7ad3aa9e5905',\n",
       " 'fce3541e-1d1e-401a-b802-59c2bb971b41',\n",
       " '3fd095ee-0e8b-4553-b38f-612fa4178d77',\n",
       " '01bd4edb-3060-4fdd-a14a-aae4c8b9eeca',\n",
       " 'e29fe5fd-31b9-4c0f-822c-2772ea184fb9',\n",
       " '4828595e-265d-4d39-8582-f3fc154358f5',\n",
       " 'c91f608c-9a33-47d4-9946-aaf7e6132860',\n",
       " '9e898a51-eaa8-4acc-8c0f-01e897363aea',\n",
       " '4e694379-358f-48aa-b4fb-88a35d130728',\n",
       " '4c6750b2-e7dd-42b7-94e5-414589ad6f64',\n",
       " '8d3a3f26-0242-418a-95a2-c14cda3b22b8',\n",
       " 'e9e77ee2-664a-4ce3-b18a-c381b3d47d15',\n",
       " 'd3c2e8fb-31ff-4d29-9866-afa78afb69a8',\n",
       " 'd9704496-3bb5-4b8d-80e6-f752889ea45d',\n",
       " 'c4b88190-e57c-43a0-8de9-8be956a1e040',\n",
       " '2803595e-4562-4c87-a6db-4e9a985b3d9d',\n",
       " '7bcb552a-d453-4faf-80eb-4c83ae9d5eaa',\n",
       " '34096b2b-268a-46c3-a25b-dd0a1baf4c37',\n",
       " '7b0aa820-67fb-4a2e-a6f7-f87786baae24',\n",
       " '4cdeeea8-0391-4fcd-a811-d644ea8389bb',\n",
       " '0b918b4d-3565-48df-9dc0-6df056c959e5',\n",
       " 'd326c8d0-49a8-4154-8784-13aff6ae47f5',\n",
       " '8c95cca8-bfa1-457a-964a-5e04e090d963',\n",
       " 'ba00c5a6-b855-4617-903b-6e8d3fe93dac',\n",
       " 'd206aee2-d39f-474a-9cad-a4449bfa67dc',\n",
       " '72d3be91-7dc8-4c31-8f7e-a222b0e4ab21',\n",
       " '89a91806-8bff-4113-a5f7-37a50f7a5f48',\n",
       " 'c4695a00-4b10-460b-b442-44ac87464ecc',\n",
       " 'f77370b8-b333-42d5-b123-74cbce985fcf',\n",
       " '73146498-098f-4e41-97ce-e2b5f485af54',\n",
       " 'dcb02667-ed59-41d8-b5fe-683760feab96',\n",
       " 'a044cab1-f545-4165-be94-b1ca7a90222b',\n",
       " '780d14d5-5f45-49ed-a8c1-f814e0db7b7e',\n",
       " 'a6e5fa90-6279-4062-bbb5-a936ec0c9197',\n",
       " '2977aece-5c0b-49d2-98d9-8d634420c227',\n",
       " 'cd0ee021-0190-4f69-a9be-bb94d33f35dd',\n",
       " '3815cdd6-8a4a-434b-b316-c6a6f1d29b86',\n",
       " 'f1f138ed-60ee-4611-82c0-c0aaf229d304',\n",
       " '1c99a025-60e2-416c-b547-5edb95f17d17',\n",
       " 'a730a5c4-4931-4a92-aa4c-372ce2ee86d0',\n",
       " 'fea72e2d-d5ec-4272-9974-9b00f9c2ddfe',\n",
       " '81587a16-9a38-44fb-833c-0047ae09a844',\n",
       " '766add7e-82a0-4c2b-b50b-4d0180144f8e',\n",
       " '9bfbbd59-e579-4e0f-9170-ac060edfd2ef',\n",
       " '52e7837b-6e36-4e18-bf79-c0481942cf70',\n",
       " '3fe765e2-98e1-4d59-83f9-eb8751f8ac31',\n",
       " '0c465304-d232-4102-bfe5-cfa5438c9eb2',\n",
       " '9fec7756-e33e-4f79-8844-6a089efd7640',\n",
       " '8821c325-1f76-42b8-b46b-9e8751a95de6',\n",
       " 'f5ad0f7f-01f1-450f-9b91-b4b3a14777bf',\n",
       " 'af681af6-565a-4c81-9817-8e4f06a0b881',\n",
       " '23c70a7a-5393-481e-8f80-ccb575c4aab9',\n",
       " '1055d142-4c08-42a9-b675-7e806c9d35a6',\n",
       " '87a04931-f5b8-4e18-921b-d6b9af3633dc',\n",
       " '3ad4a5c9-c07e-41fb-9e58-47961235c15d',\n",
       " 'b8f04712-e2df-40f5-ba6b-8241e99a5adb',\n",
       " '94865d72-ec79-4dcc-922a-82430b336258',\n",
       " 'b046165a-ed89-48a6-a17b-ea3e598ba7a7',\n",
       " 'e4bfdb30-8591-437d-8a49-ea1ef824e15a',\n",
       " '93c7c5f6-57d0-46d3-857e-4873fc7e7c8f',\n",
       " '909dde49-b319-4911-8403-9cd39fac1fb6',\n",
       " 'a7ccf013-ae2d-4bec-8bb7-ae5203bffe3b',\n",
       " 'be3dbec7-63c0-4cb8-9053-812649895d3e',\n",
       " 'a1f7e757-80b9-46b7-8e9b-e2a0050a9199',\n",
       " '5dcd3a21-7786-48de-a4e5-872dce6e83fd',\n",
       " 'e4f2cb0f-9054-4aae-9533-575ca8a99020',\n",
       " 'dfd21073-c72d-4487-a971-72a2ad871a96',\n",
       " '2d13aecf-05bd-4703-bc8a-5e4b567487fd',\n",
       " '4a5d6924-326f-4a2b-8429-86a98728b1ae',\n",
       " 'fc3937e1-68be-4dc5-b469-8503f8f1e2a2',\n",
       " 'c5670fce-6f86-464d-a64c-43222559384e',\n",
       " '56d4db7e-becd-496b-bee6-b5e8ad2fb094',\n",
       " '3c828d9e-9b92-44ad-b193-d8942a4dbb01',\n",
       " '8c4ddaf7-f09f-4341-b12a-c26ae014eaf5',\n",
       " '821bd491-d688-41a8-a1fd-6ad7469fa257',\n",
       " '2bac96e0-5fd8-4664-a5ce-67f14c03e6df',\n",
       " 'eca4c812-7ce7-4773-b2e0-222ac60ebd7e',\n",
       " '052f0d1e-0fef-40da-9076-2a55d3b9e2f9',\n",
       " '9d5a49d3-9c89-43f5-b9b8-d4308d181973',\n",
       " '81d5fbb0-5085-4ca9-b427-2f6686326d35',\n",
       " '8f35e651-0e23-44df-a1d8-a4492941772d',\n",
       " 'c51a690e-abf1-494b-b637-bd98092faa2e',\n",
       " '458c0fe1-04e6-4801-be14-c9dd22eb32aa',\n",
       " '6d320dc5-9485-472f-8f27-5bfafc88b93c',\n",
       " '328ca7a2-96ed-4977-bec5-93e94ae78d7b',\n",
       " 'be0f9b89-db41-41fc-b5b6-8798832e2d45',\n",
       " '4f81d460-8a78-461a-b008-f4692f76b5c5',\n",
       " '2f352983-b57f-425c-b483-44ad47ba3f1b',\n",
       " '107856d4-0bf0-4219-820a-6fbcf66a57dc',\n",
       " 'e79131c9-617d-404e-a991-ac2ee2e28012',\n",
       " '03f3e011-3a6c-4335-ab9a-edae5517ab1f',\n",
       " 'aad0d5b0-4990-4602-90c1-d24e4c6312cf',\n",
       " 'b05b1328-1fb6-48bf-be3d-8b033dea4379',\n",
       " 'd78e5433-489f-408d-b410-c894384b6676',\n",
       " 'b2a14e8d-e35b-45e9-8cff-9e35e7d85ae1',\n",
       " 'b33a60d2-1f3d-43cb-8259-63044d7e92bf',\n",
       " 'ca14cbdd-6ee3-4566-b504-d7d5ae31d552',\n",
       " 'd859a0a1-e6c9-4f2d-b4ab-3b36d70b80fc',\n",
       " '9eb2fd5d-d4fd-4b72-85c0-1bf15e58f086',\n",
       " 'db741f46-2847-4794-8deb-e601ed597375',\n",
       " '4c938661-926f-4cf2-9292-20401abf6b09',\n",
       " '9c1af45a-b9e9-4262-b17d-56d095539b06',\n",
       " '6b1f623e-c795-4d90-b4ae-069b3a748ecd']"
      ]
     },
     "execution_count": 28,
     "metadata": {},
     "output_type": "execute_result"
    }
   ],
   "source": [
    "vectorstore.add_texts(texts)"
   ]
  },
  {
   "cell_type": "code",
   "execution_count": 29,
   "id": "abdc39f6",
   "metadata": {},
   "outputs": [
    {
     "data": {
      "text/plain": [
       "[Document(id='2803595e-4562-4c87-a6db-4e9a985b3d9d', metadata={}, page_content='He met the Ukrainian people.\\n\\nFrom President Zelenskyy to every Ukrainian, their fearlessness, their courage, their determination, inspires the world.\\n\\nGroups of citizens blocking tanks with their bodies. Everyone from students to retirees teachers turned soldiers defending their homeland.\\n\\nIn this struggle as President Zelenskyy said in his speech to the European Parliament “Light will win over darkness.” The Ukrainian Ambassador to the United States is here tonight.'),\n",
       " Document(id='c4b88190-e57c-43a0-8de9-8be956a1e040', metadata={}, page_content='With a duty to one another to the American people to the Constitution.\\n\\nAnd with an unwavering resolve that freedom will always triumph over tyranny.\\n\\nSix days ago, Russia’s Vladimir Putin sought to shake the foundations of the free world thinking he could make it bend to his menacing ways. But he badly miscalculated.\\n\\nHe thought he could roll into Ukraine and the world would roll over. Instead he met a wall of strength he never imagined.\\n\\nHe met the Ukrainian people.'),\n",
       " Document(id='72d3be91-7dc8-4c31-8f7e-a222b0e4ab21', metadata={}, page_content='And we remain clear-eyed. The Ukrainians are fighting back with pure courage. But the next few days weeks, months, will be hard on them.\\n\\nPutin has unleashed violence and chaos.  But while he may make gains on the battlefield – he will pay a continuing high price over the long run.\\n\\nAnd a proud Ukrainian people, who have known 30 years  of independence, have repeatedly shown that they will not tolerate anyone who tries to take their country backwards.')]"
      ]
     },
     "execution_count": 29,
     "metadata": {},
     "output_type": "execute_result"
    }
   ],
   "source": [
    "query=\"tell me about ukraine\"\n",
    "vectorstore.similarity_search(query,k=3)"
   ]
  },
  {
   "cell_type": "code",
   "execution_count": 30,
   "id": "31ab8156",
   "metadata": {},
   "outputs": [],
   "source": [
    "retriever=vectorstore.as_retriever(search_type='mmr',search_kwargs={'k':5})"
   ]
  },
  {
   "cell_type": "code",
   "execution_count": 31,
   "id": "31d8d0e4",
   "metadata": {},
   "outputs": [
    {
     "name": "stderr",
     "output_type": "stream",
     "text": [
      "C:\\Users\\Hp\\AppData\\Local\\Temp\\ipykernel_13504\\1374959801.py:1: LangChainDeprecationWarning: The method `BaseRetriever.get_relevant_documents` was deprecated in langchain-core 0.1.46 and will be removed in 1.0. Use :meth:`~invoke` instead.\n",
      "  retriever.get_relevant_documents(\"what is transformers?\")\n"
     ]
    },
    {
     "data": {
      "text/plain": [
       "[Document(id='874ca8c5-b3aa-4a0b-b9b5-3a3bf3095a5e', metadata={}, page_content='In this work we propose the Transformer, a model architecture eschewing recurrence and instead relying entirely on an attention mechanism to draw global dependencies between input and output. The Transformer allows for significantly more parallelization and can reach a new state of the art in translation quality after being trained for as little as twelve hours on eight P100 GPUs.\\n\\n2 Background'),\n",
       " Document(id='4a65b50d-188e-4242-b8d1-2c910560224c', metadata={}, page_content='transformers are recency-biased and do not effectively use long- range context.'),\n",
       " Document(id='11c7e7f5-65e1-4169-a550-45b80ae2bcf1', metadata={}, page_content='small fraction of the training costs of the best models from the literature. We show that the Transformer generalizes well to other tasks by applying it successfully to English constituency parsing both with large and limited training data.'),\n",
       " Document(id='64d7a043-b991-42d2-9ff5-951308811558', metadata={}, page_content='Petrov et al. (2006) [29] Zhu et al. (2013) [40] Dyer et al. (2016) [8] Transformer (4 layers) Zhu et al. (2013) [40] Huang & Harper (2009) [14] McClosky et al. (2006) [26] Vinyals & Kaiser el al. (2014) [37] Transformer (4 layers) Luong et al. (2015) [23] Dyer et al. (2016) [8]\\n\\nWSJ 23 F1 88.3 90.4 90.4 91.7 91.3 91.3 91.3 92.1 92.1 92.7 93.0 93.3'),\n",
       " Document(id='e46ce899-94b1-43c8-ac5e-3972a8b81b05', metadata={}, page_content='and Hao Ma. 2020.\\n\\nManzil Zaheer, Guru Guruganesh, Kumar Avinava Dubey, Joshua Ainslie, Chris Alberti, Santiago Ontanon, Philip Pham, Anirudh Ravula, Qifan Wang, Li Yang, and Amr Ahmed. 2020. Big Bird: Transformers for longer sequences. In Proc. of NeurIPS.\\n\\nA Ambiguity in Multi-Document QA\\n\\nDistractor Documents')]"
      ]
     },
     "execution_count": 31,
     "metadata": {},
     "output_type": "execute_result"
    }
   ],
   "source": [
    "retriever.get_relevant_documents(\"what is transformers?\")"
   ]
  },
  {
   "cell_type": "markdown",
   "id": "bf7daf12",
   "metadata": {},
   "source": [
    "### Simple chat chain"
   ]
  },
  {
   "cell_type": "code",
   "execution_count": 32,
   "id": "29b8ae3b",
   "metadata": {},
   "outputs": [],
   "source": [
    "from langchain_core.prompts import ChatPromptTemplate\n",
    "from langchain_core.output_parsers import StrOutputParser\n",
    "from langchain_core.runnables import RunnablePassthrough\n",
    "from operator import itemgetter"
   ]
  },
  {
   "cell_type": "code",
   "execution_count": 33,
   "id": "c727a2a8",
   "metadata": {},
   "outputs": [],
   "source": [
    "template=\"\"\"Answer the question from the provided context text.\n",
    "Context: {context}\n",
    "Question: {query}\n",
    "Answer:\n",
    "\"\"\""
   ]
  },
  {
   "cell_type": "code",
   "execution_count": 34,
   "id": "dbbbf44e",
   "metadata": {},
   "outputs": [],
   "source": [
    "prompt=ChatPromptTemplate.from_template(template)"
   ]
  },
  {
   "cell_type": "code",
   "execution_count": 35,
   "id": "09b07e88",
   "metadata": {},
   "outputs": [],
   "source": [
    "def format_docs(docs):\n",
    "    return '\\n\\n'.join(doc.page_content for doc in docs)"
   ]
  },
  {
   "cell_type": "code",
   "execution_count": 36,
   "id": "39fb88e0",
   "metadata": {},
   "outputs": [],
   "source": [
    "simple_chain=(\n",
    "    {\"context\": retriever | format_docs,\"query\": RunnablePassthrough()}\n",
    "    | prompt\n",
    "    | llm\n",
    "    | StrOutputParser()\n",
    ")"
   ]
  },
  {
   "cell_type": "code",
   "execution_count": 38,
   "id": "793a7f6d",
   "metadata": {},
   "outputs": [
    {
     "data": {
      "text/plain": [
       "'The Transformer is a model architecture eschewing recurrence and instead relying entirely on an attention mechanism to draw global dependencies between input and output.'"
      ]
     },
     "execution_count": 38,
     "metadata": {},
     "output_type": "execute_result"
    }
   ],
   "source": [
    "response=simple_chain.invoke(\"What is transformers?\")\n",
    "response"
   ]
  },
  {
   "cell_type": "code",
   "execution_count": 39,
   "id": "a22015d3",
   "metadata": {},
   "outputs": [
    {
     "data": {
      "text/plain": [
       "'Ukraine is a country whose people, from President Zelenskyy to ordinary citizens, are displaying fearlessness, courage, and determination in the face of conflict. Citizens are blocking tanks, and people from all walks of life are defending their homeland. The US is providing military, economic, and humanitarian assistance to the Ukrainians, with over $1 billion in direct assistance already given. The US also supports the Ukrainians in their fight for freedom and to help ease their suffering.'"
      ]
     },
     "execution_count": 39,
     "metadata": {},
     "output_type": "execute_result"
    }
   ],
   "source": [
    "response=simple_chain.invoke(\"tell me about Ukraine?\")\n",
    "response"
   ]
  },
  {
   "cell_type": "markdown",
   "id": "adcc8ab8",
   "metadata": {},
   "source": [
    "### With RagFusion"
   ]
  },
  {
   "cell_type": "code",
   "execution_count": 40,
   "id": "215ccff1",
   "metadata": {},
   "outputs": [],
   "source": [
    "from langchain_core.prompts import (HumanMessagePromptTemplate,\n",
    "                                    SystemMessagePromptTemplate,\n",
    "                                    PromptTemplate)"
   ]
  },
  {
   "cell_type": "code",
   "execution_count": 41,
   "id": "fbbd8157",
   "metadata": {},
   "outputs": [],
   "source": [
    "prompt=ChatPromptTemplate(input_variables=['original_query'],\n",
    "                          messages=[SystemMessagePromptTemplate(prompt=PromptTemplate(input_variables=[],template='You are a helpful assistant that generates multiple search queries based on a single input query.')),\n",
    "                                    HumanMessagePromptTemplate(prompt=PromptTemplate(input_variables=['original_query'],template='Generate multiple search queries related to: {question} \\n OUTPUT (4 queries):'))]\n",
    "                          )"
   ]
  },
  {
   "cell_type": "code",
   "execution_count": 42,
   "id": "a705da62",
   "metadata": {},
   "outputs": [],
   "source": [
    "original_query=\"situation of Ukraine\""
   ]
  },
  {
   "cell_type": "code",
   "execution_count": 43,
   "id": "cbde0dbb",
   "metadata": {},
   "outputs": [],
   "source": [
    "generate_query_chain=(\n",
    "    prompt | llm | StrOutputParser() | (lambda x: x.split('\\n'))\n",
    ")"
   ]
  },
  {
   "cell_type": "code",
   "execution_count": 44,
   "id": "0150fb8c",
   "metadata": {},
   "outputs": [
    {
     "data": {
      "text/plain": [
       "['Here are 4 search queries related to the situation in Ukraine:',\n",
       " '',\n",
       " '1.  **Current state of the conflict in Ukraine**',\n",
       " '2.  **Humanitarian crisis in Ukraine**',\n",
       " '3.  **International response to the war in Ukraine**',\n",
       " '4.  **Economic impact of the war in Ukraine**']"
      ]
     },
     "execution_count": 44,
     "metadata": {},
     "output_type": "execute_result"
    }
   ],
   "source": [
    "generate_query_chain.invoke({'question':original_query})"
   ]
  },
  {
   "cell_type": "code",
   "execution_count": 45,
   "id": "633ce30b",
   "metadata": {},
   "outputs": [],
   "source": [
    "from langchain.load import dumps, loads\n",
    "\n",
    "\n",
    "def reciprocal_rank_fusion(results: list[list], k=60):\n",
    "    fused_scores = {}\n",
    "    for docs in results:\n",
    "        # Assumes the docs are returned in sorted order of relevance\n",
    "        for rank, doc in enumerate(docs):\n",
    "            doc_str = dumps(doc)\n",
    "            if doc_str not in fused_scores:\n",
    "                fused_scores[doc_str] = 0\n",
    "            previous_score = fused_scores[doc_str]\n",
    "            fused_scores[doc_str] += 1 / (rank + k)\n",
    "\n",
    "    reranked_results = [\n",
    "        (loads(doc), score)\n",
    "        for doc, score in sorted(fused_scores.items(), key=lambda x: x[1], reverse=True)\n",
    "    ]\n",
    "    return reranked_results"
   ]
  },
  {
   "cell_type": "code",
   "execution_count": 46,
   "id": "bc6dcefa",
   "metadata": {},
   "outputs": [],
   "source": [
    "ragfusion_chain=generate_query_chain | retriever.map() | reciprocal_rank_fusion"
   ]
  },
  {
   "cell_type": "code",
   "execution_count": 48,
   "id": "d607901d",
   "metadata": {},
   "outputs": [
    {
     "data": {
      "text/plain": [
       "{'properties': {'question': {'title': 'Question', 'type': 'string'}},\n",
       " 'required': ['question'],\n",
       " 'title': 'PromptInput',\n",
       " 'type': 'object'}"
      ]
     },
     "execution_count": 48,
     "metadata": {},
     "output_type": "execute_result"
    }
   ],
   "source": [
    "ragfusion_chain.input_schema.model_json_schema()"
   ]
  },
  {
   "cell_type": "code",
   "execution_count": 50,
   "id": "f846cabb",
   "metadata": {},
   "outputs": [],
   "source": [
    "res=ragfusion_chain.invoke({\"question\": original_query})"
   ]
  },
  {
   "cell_type": "code",
   "execution_count": 51,
   "id": "3d991316",
   "metadata": {},
   "outputs": [
    {
     "data": {
      "text/plain": [
       "18"
      ]
     },
     "execution_count": 51,
     "metadata": {},
     "output_type": "execute_result"
    }
   ],
   "source": [
    "len(res)"
   ]
  },
  {
   "cell_type": "code",
   "execution_count": 52,
   "id": "d4400215",
   "metadata": {},
   "outputs": [],
   "source": [
    "template = \"\"\"Answer the question based only on the following context:\n",
    "{context}\n",
    "\n",
    "Question: {question}\n",
    "\"\"\"\n",
    "prompt = ChatPromptTemplate.from_template(template)\n",
    "\n",
    "full_rag_fusion_chain = (\n",
    "    {\n",
    "        \"context\": ragfusion_chain,\n",
    "        \"question\": RunnablePassthrough()\n",
    "    }\n",
    "    | prompt\n",
    "    | llm\n",
    "    | StrOutputParser()\n",
    ")"
   ]
  },
  {
   "cell_type": "code",
   "execution_count": 53,
   "id": "00876198",
   "metadata": {},
   "outputs": [
    {
     "data": {
      "text/plain": [
       "'The Ukrainians are fighting back with pure courage, but the next few days, weeks, and months will be hard on them. The Ukrainians have shown that they will not tolerate anyone who tries to take their country backwards. The world is demonstrating their support for Ukraine. The provided context also indicates that the US and its allies are providing support to the Ukrainians in their fight for freedom through military, economic, and humanitarian assistance. The US is giving more than $1 Billion in direct assistance to Ukraine and will continue to aid the Ukrainian people as they defend their country and to help ease their suffering.'"
      ]
     },
     "execution_count": 53,
     "metadata": {},
     "output_type": "execute_result"
    }
   ],
   "source": [
    "full_rag_fusion_chain.invoke({\"question\":original_query})"
   ]
  },
  {
   "cell_type": "code",
   "execution_count": null,
   "id": "25ec8743",
   "metadata": {},
   "outputs": [],
   "source": []
  }
 ],
 "metadata": {
  "kernelspec": {
   "display_name": "genai_venv",
   "language": "python",
   "name": "python3"
  },
  "language_info": {
   "codemirror_mode": {
    "name": "ipython",
    "version": 3
   },
   "file_extension": ".py",
   "mimetype": "text/x-python",
   "name": "python",
   "nbconvert_exporter": "python",
   "pygments_lexer": "ipython3",
   "version": "3.11.13"
  }
 },
 "nbformat": 4,
 "nbformat_minor": 5
}
